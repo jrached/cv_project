{
  "cells": [
    {
      "cell_type": "markdown",
      "metadata": {
        "id": "Fa2szzXO2TkX"
      },
      "source": [
        "### FilterNet\n",
        "A neural network for filtering out gaussian noise from an image introduced by aggressive accelerations on the vehicle carrying the camera."
      ]
    },
    {
      "cell_type": "code",
      "execution_count": 29,
      "metadata": {
        "id": "NnM9R8Ai2Tka"
      },
      "outputs": [],
      "source": [
        "import os\n",
        "import torch\n",
        "import torch.nn as nn\n",
        "import numpy as np\n",
        "import pandas as pd\n",
        "from scipy.spatial.transform import Rotation as R\n",
        "import matplotlib.pyplot as plt\n",
        "from skimage import io, transform\n",
        "from PIL import Image\n",
        "from torch.utils.data import Dataset, DataLoader, random_split\n",
        "from torchvision import transforms, utils\n",
        "from typing import List, Dict, Tuple\n",
        "from tqdm import tqdm"
      ]
    },
    {
      "cell_type": "markdown",
      "metadata": {
        "id": "_sve0geD2Tkb"
      },
      "source": [
        "### Dataset Class and Dataloader"
      ]
    },
    {
      "cell_type": "code",
      "execution_count": null,
      "metadata": {
        "id": "nZQXyVbA2Tkb"
      },
      "outputs": [],
      "source": [
        "# Set device to cuda\n",
        "device = torch.device('cuda:0')\n",
        "\n",
        "# Create dataset class\n",
        "class VideoDataset(Dataset):\n",
        "    def __init__(self, path_to_data, augmented=False, num_vids=7, seq_length=5, img_size=256):\n",
        "        \"\"\"\n",
        "        Go through each video folder and build a map from\n",
        "        index i in range [0, N], where N is the total number\n",
        "        of frames in all the videos, to a tuple (j, k), where\n",
        "        j is the video number and k the frame index in that\n",
        "        video. For reference, the videos are stored in the\n",
        "        dataset as:\n",
        "\n",
        "        data:\n",
        "        - test1:\n",
        "          - inputs:\n",
        "            - bd_poses.csv\n",
        "            - bd_twists.csv\n",
        "            - frame0000.png\n",
        "            - frame0001.png\n",
        "            - ...\n",
        "          - targets:\n",
        "            - frame0000.png\n",
        "            - frame0001.png\n",
        "            - ...\n",
        "        - test2:\n",
        "            - ...\n",
        "        - ...\n",
        "        \"\"\"\n",
        "        self.img_size = img_size\n",
        "        self.seq_length = seq_length\n",
        "        self.augmented = augmented\n",
        "        self.num_vids = num_vids\n",
        "        self.path_to_data = path_to_data\n",
        "        self.idx_map: List[Tuple[int, int]] = []\n",
        "        self.poses: Dict[int, np.ndarray] = {}\n",
        "        self.twists: Dict[int, np.ndarray] = {}\n",
        "        for i in tqdm(range(1, self.num_vids + 1)):\n",
        "            # Define path to pose\n",
        "            pose_path = os.path.join(path_to_data, f'test{i}/inputs/bd_poses.csv')\n",
        "            twist_path = os.path.join(path_to_data, f'test{i}/inputs/bd_twists.csv')\n",
        "\n",
        "            # Check that files were opened properly\n",
        "            if not os.path.isfile(pose_path):\n",
        "                raise FileNotFoundError(f\"Missing pose file: {pose_path}\")\n",
        "            if not os.path.isfile(twist_path):\n",
        "                raise FileNotFoundError(f\"Missing twist file: {twist_path}\")\n",
        "\n",
        "            # Get poses\n",
        "            self.poses[i] = pd.read_csv(pose_path).to_numpy()\n",
        "            self.twists[i] = pd.read_csv(twist_path).to_numpy()\n",
        "\n",
        "            # Get number of sequences in this video: num_frames - (seq_length - 1)\n",
        "            num_sequences = (self.poses[i].shape[0] - 1) - (self.seq_length - 1)\n",
        "\n",
        "            # Update index map\n",
        "            video_num = [i] * num_sequences\n",
        "            frame_idx = list(range(0, num_sequences))\n",
        "            self.idx_map.extend(list(zip(video_num, frame_idx)))\n",
        "\n",
        "        self.total_num_sequences = len(self.idx_map)\n",
        "\n",
        "    def __len__(self):\n",
        "        \"\"\"\n",
        "        Return length of dataset as computed in __init__() function.\n",
        "        \"\"\"\n",
        "        return self.total_num_sequences\n",
        "\n",
        "    def __getitem__(self, idx):\n",
        "        \"\"\"\n",
        "        Use map built in __init__() to retrieve the image,\n",
        "        pose, and twist directly from the dataset.\n",
        "        This avoids loading the entire dataset which\n",
        "        overwhelms RAM.\n",
        "        \"\"\"\n",
        "        assert idx < self.total_num_sequences\n",
        "        if torch.is_tensor(idx):\n",
        "            idx = idx.tolist()\n",
        "\n",
        "        seq_start = True\n",
        "        for i in range(self.seq_length):\n",
        "            # Define path to data\n",
        "            test_idx, frame_idx = self.idx_map[idx]\n",
        "            frame_idx += i\n",
        "            padded_frame_idx = self.to_zero_pad_idx(frame_idx)\n",
        "            input_img_path = os.path.join(self.path_to_data,\n",
        "                                    f'test{test_idx}/inputs/frame{padded_frame_idx}.png')\n",
        "            output_img_path = os.path.join(self.path_to_data,\n",
        "                                    f'test{test_idx}/targets/frame{padded_frame_idx}.png')\n",
        "\n",
        "            # Debug:\n",
        "            # print(f'\\ntest idx, frame idx: {test_idx, frame_idx}')\n",
        "\n",
        "            # Load and process data\n",
        "            input_frame = io.imread(input_img_path)\n",
        "            output_frame = io.imread(output_img_path)\n",
        "            input_frame = torch.from_numpy(self.to_grayscale(input_frame)).float()\n",
        "            output_frame = torch.from_numpy(self.to_grayscale(output_frame)).float()\n",
        "            pose = self.poses[test_idx][frame_idx]\n",
        "            pose = torch.from_numpy(self.pose_vector_from_matrix(pose).reshape(-1, 1)).float()\n",
        "            twist = torch.from_numpy(self.twists[test_idx][frame_idx].reshape(-1, 1)).float()\n",
        "            state = torch.cat((pose, twist), dim=0).view(-1)\n",
        "\n",
        "            # Resize frames\n",
        "            h, w = self.img_size, self.img_size\n",
        "            resize_frame = transforms.Resize((h, w))\n",
        "            output_frame = resize_frame(output_frame.unsqueeze(0))\n",
        "            input_frame = resize_frame(input_frame.unsqueeze(0))\n",
        "\n",
        "            if not self.augmented:\n",
        "                # Initialize sequence\n",
        "                if seq_start:\n",
        "                    in_frame_seq = torch.zeros_like(input_frame).view(1, 1, h, w).repeat((self.seq_length, 1, 1, 1))\n",
        "                    out_frame_seq = torch.zeros_like(output_frame).view(1, 1, h, w).repeat((self.seq_length, 1, 1, 1))\n",
        "                    state_seq = torch.zeros_like(state).unsqueeze(0).repeat((self.seq_length, 1))\n",
        "                    seq_start = False\n",
        "\n",
        "                # Update sequence\n",
        "                in_frame_seq[i] = input_frame.view(1, h, w)\n",
        "                out_frame_seq[i] = output_frame.view(1, h, w)\n",
        "                state_seq[i] = state\n",
        "\n",
        "            # If we want a broadcasted frame, pose, twist tensor of shape (B, T, 1, H, W, 14)\n",
        "            else:\n",
        "                expanded_frame = input_frame.view(1, h, w, 1)\n",
        "                expanded_state = state.view(1, 1, 1, -1).repeat(1, h, w, 1)\n",
        "                augmented_frame = torch.cat((expanded_frame, expanded_state), dim=-1)\n",
        "\n",
        "                # Initialize augmented sequence\n",
        "                if seq_start:\n",
        "                    aug_seq_in = torch.zeros_like(augmented_frame).unsqueeze(0).repeat((self.seq_length, 1, 1, 1, 1))\n",
        "                    aug_seq_out = torch.zeros_like(output_frame).unsqueeze(0).repeat((self.seq_length, 1, 1, 1))\n",
        "                    seq_start = False\n",
        "\n",
        "                # Update augmented sequence\n",
        "                aug_seq_in[i] = augmented_frame\n",
        "                aug_seq_out[i] = output_frame\n",
        "\n",
        "        return {'input': (in_frame_seq, state_seq), 'target': out_frame_seq} if not self.augmented else {'input': aug_seq_in, 'target': aug_seq_out}\n",
        "\n",
        "    def to_zero_pad_idx(self, idx):\n",
        "        \"\"\"\n",
        "        Convert frame index from regular index to zero-padded index.\n",
        "        e.g. 1 -> 00001, 12 -> 00012\n",
        "        \"\"\"\n",
        "        return f'{idx:05d}'\n",
        "\n",
        "    def pose_vector_from_matrix(self, pose):\n",
        "        \"\"\"\n",
        "        Convert 4x4 pose matrix (as a flattenned length 16 vector) into a position and quaternion length 7 vector.\n",
        "        \"\"\"\n",
        "        pose = pose.reshape(4, 4)\n",
        "        position = pose[:3, 3].reshape(3, 1)\n",
        "        orientation = pose[:3, :3]\n",
        "\n",
        "        quat = R.from_matrix(orientation).as_quat().reshape(-1, 1)\n",
        "        norm_quat = quat / np.linalg.norm(quat)\n",
        "\n",
        "        return np.vstack((position, norm_quat)).reshape(-1)\n",
        "\n",
        "    def to_grayscale(self, image):\n",
        "        \"\"\"\n",
        "        Convert PNG image to grayscale mask\n",
        "        \"\"\"\n",
        "        #TODO: Try float16 type\n",
        "        return (image[..., 0] > 127).astype(np.float32)\n"
      ]
    },
    {
      "cell_type": "code",
      "execution_count": null,
      "metadata": {},
      "outputs": [],
      "source": [
        "\n",
        "import torch.nn.functional as F\n",
        "\n",
        "class PoseEncoder(nn.Module):\n",
        "    \"\"\"Encodes pose/twist information to feature embeddings\"\"\"\n",
        "    def __init__(self, pose_dim=13, hidden_dim=64, output_dim=128):\n",
        "        super().__init__()\n",
        "        self.encoder = nn.Sequential(\n",
        "            nn.Linear(pose_dim, hidden_dim),\n",
        "            nn.ReLU(),\n",
        "            nn.Linear(hidden_dim, hidden_dim),\n",
        "            nn.ReLU(),\n",
        "            nn.Linear(hidden_dim, output_dim)\n",
        "        )\n",
        "\n",
        "    def forward(self, pose):\n",
        "        # pose: (B, T, 13)\n",
        "        B, T, _ = pose.shape\n",
        "        pose_flat = pose.view(B * T, -1)\n",
        "        features = self.encoder(pose_flat)  # (B*T, output_dim)\n",
        "        return features.view(B, T, -1)  # (B, T, output_dim)\n",
        "\n",
        "class SpatialAttention(nn.Module):\n",
        "    \"\"\"Spatial attention module to focus on moving object regions\"\"\"\n",
        "    def __init__(self, in_channels):\n",
        "        super().__init__()\n",
        "        self.conv1 = nn.Conv2d(in_channels, in_channels // 8, 1)\n",
        "        self.conv2 = nn.Conv2d(in_channels // 8, 1, 1)\n",
        "        self.sigmoid = nn.Sigmoid()\n",
        "\n",
        "    def forward(self, x):\n",
        "        # x: (B, C, H, W)\n",
        "        attention = self.conv1(x)\n",
        "        attention = F.relu(attention)\n",
        "        attention = self.conv2(attention)\n",
        "        attention = self.sigmoid(attention)\n",
        "        return x * attention\n",
        "\n",
        "class TemporalBlock(nn.Module):\n",
        "    \"\"\"3D convolutional block for temporal modeling\"\"\"\n",
        "    def __init__(self, in_channels, out_channels, kernel_size=(3, 3, 3), stride=1, padding=1):\n",
        "        super().__init__()\n",
        "        self.conv3d = nn.Conv3d(in_channels, out_channels, kernel_size, stride, padding)\n",
        "        self.bn = nn.BatchNorm3d(out_channels)\n",
        "        self.relu = nn.ReLU()\n",
        "        self.spatial_attention = SpatialAttention(out_channels)\n",
        "\n",
        "    def forward(self, x):\n",
        "        # x: (B, C, T, H, W)\n",
        "        x = self.conv3d(x)\n",
        "        x = self.bn(x)\n",
        "        x = self.relu(x)\n",
        "\n",
        "        # Apply spatial attention frame by frame\n",
        "        B, C, T, H, W = x.shape\n",
        "        x_reshaped = x.permute(0, 2, 1, 3, 4).contiguous().view(B * T, C, H, W)\n",
        "        x_attended = self.spatial_attention(x_reshaped)\n",
        "        x = x_attended.view(B, T, C, H, W).permute(0, 2, 1, 3, 4)\n",
        "\n",
        "        return x\n",
        "\n",
        "class PoseGuidedFusion(nn.Module):\n",
        "    \"\"\"Fuses pose information with visual features\"\"\"\n",
        "    def __init__(self, visual_channels, pose_features, output_channels):\n",
        "        super().__init__()\n",
        "        self.pose_proj = nn.Linear(pose_features, visual_channels)\n",
        "        self.fusion_conv = nn.Conv2d(visual_channels * 2, output_channels, 1)\n",
        "\n",
        "    def forward(self, visual_features, pose_features):\n",
        "        # visual_features: (B, C, T, H, W)\n",
        "        # pose_features: (B, T, pose_dim)\n",
        "        B, C, T, H, W = visual_features.shape\n",
        "\n",
        "        # Project pose features to match visual channel dimension\n",
        "        pose_proj = self.pose_proj(pose_features)  # (B, T, C)\n",
        "        pose_proj = pose_proj.unsqueeze(-1).unsqueeze(-1)  # (B, T, C, 1, 1)\n",
        "        pose_proj = pose_proj.expand(-1, -1, -1, H, W)  # (B, T, C, H, W)\n",
        "\n",
        "        # Reshape for frame-wise processing\n",
        "        visual_flat = visual_features.permute(0, 2, 1, 3, 4).contiguous().view(B * T, C, H, W)\n",
        "        pose_flat = pose_proj.contiguous().view(B * T, C, H, W)\n",
        "\n",
        "        # Concatenate and fuse\n",
        "        fused = torch.cat([visual_flat, pose_flat], dim=1)  # (B*T, 2*C, H, W)\n",
        "        output = self.fusion_conv(fused)  # (B*T, output_channels, H, W)\n",
        "\n",
        "        # Reshape back\n",
        "        output = output.view(B, T, -1, H, W).permute(0, 2, 1, 3, 4)\n",
        "        return output\n",
        "\n",
        "class FilterNet(nn.Module):\n",
        "    \"\"\"\n",
        "    Neural network for denoising video masks of moving objects\n",
        "    Compatible with your existing training setup\n",
        "\n",
        "    Args:\n",
        "        input_shape: (H, W) - spatial dimensions of input frames\n",
        "        pose_dim: dimension of pose/twist information (default: 13)\n",
        "        hidden_channels: number of hidden channels in conv layers\n",
        "    \"\"\"\n",
        "    def __init__(self, input_shape=(256, 256), pose_dim=13, hidden_channels=64):\n",
        "        super().__init__()\n",
        "        self.input_shape = input_shape\n",
        "        self.pose_dim = pose_dim\n",
        "        self.hidden_channels = hidden_channels\n",
        "\n",
        "        # Pose encoder\n",
        "        self.pose_encoder = PoseEncoder(pose_dim, 64, 128)\n",
        "\n",
        "        # Encoder (downsampling path)\n",
        "        self.encoder1 = TemporalBlock(1, hidden_channels, kernel_size=(3, 3, 3))\n",
        "        self.encoder2 = TemporalBlock(hidden_channels, hidden_channels * 2, kernel_size=(3, 3, 3))\n",
        "        self.encoder3 = TemporalBlock(hidden_channels * 2, hidden_channels * 4, kernel_size=(3, 3, 3))\n",
        "\n",
        "        # Pose-guided fusion\n",
        "        self.pose_fusion = PoseGuidedFusion(hidden_channels * 4, 128, hidden_channels * 4)\n",
        "\n",
        "        # Bottleneck\n",
        "        self.bottleneck = TemporalBlock(hidden_channels * 4, hidden_channels * 8, kernel_size=(3, 3, 3))\n",
        "\n",
        "        # Decoder (upsampling path)\n",
        "        self.decoder3 = TemporalBlock(hidden_channels * 8 + hidden_channels * 4, hidden_channels * 4, kernel_size=(3, 3, 3))\n",
        "        self.decoder2 = TemporalBlock(hidden_channels * 4 + hidden_channels * 2, hidden_channels * 2, kernel_size=(3, 3, 3))\n",
        "        self.decoder1 = TemporalBlock(hidden_channels * 2 + hidden_channels, hidden_channels, kernel_size=(3, 3, 3))\n",
        "\n",
        "        # Output layer\n",
        "        self.output_conv = nn.Conv3d(hidden_channels, 1, kernel_size=(1, 1, 1))\n",
        "        self.sigmoid = nn.Sigmoid()\n",
        "\n",
        "        # Pooling layers\n",
        "        self.pool = nn.MaxPool3d(kernel_size=(1, 2, 2), stride=(1, 2, 2))\n",
        "\n",
        "    def forward(self, video_masks, pose_info):\n",
        "        \"\"\"\n",
        "        Forward pass\n",
        "\n",
        "        Args:\n",
        "            video_masks: (B, T, 1, H, W) - input video masks\n",
        "            pose_info: (B, T, 13) - pose/twist information\n",
        "\n",
        "        Returns:\n",
        "            denoised_masks: (B, T, 1, H, W) - denoised output masks\n",
        "        \"\"\"\n",
        "        B, T, C, H, W = video_masks.shape\n",
        "\n",
        "        # Rearrange to (B, C, T, H, W) for 3D convolutions\n",
        "        x = video_masks.permute(0, 2, 1, 3, 4)\n",
        "\n",
        "        # Encode pose information\n",
        "        pose_features = self.pose_encoder(pose_info)  # (B, T, 128)\n",
        "\n",
        "        # Encoder path with skip connections\n",
        "        enc1 = self.encoder1(x)  # (B, 64, T, H, W)\n",
        "        x_pool1 = self.pool(enc1)  # (B, 64, T, H/2, W/2)\n",
        "\n",
        "        enc2 = self.encoder2(x_pool1)  # (B, 128, T, H/2, W/2)\n",
        "        x_pool2 = self.pool(enc2)  # (B, 128, T, H/4, W/4)\n",
        "\n",
        "        enc3 = self.encoder3(x_pool2)  # (B, 256, T, H/4, W/4)\n",
        "        x_pool3 = self.pool(enc3)  # (B, 256, T, H/8, W/8)\n",
        "\n",
        "        # Pose-guided fusion\n",
        "        enc3_fused = self.pose_fusion(enc3, pose_features)  # (B, 256, T, H/4, W/4)\n",
        "\n",
        "        # Bottleneck\n",
        "        bottleneck = self.bottleneck(x_pool3)  # (B, 512, T, H/8, W/8)\n",
        "\n",
        "        # Decoder path with skip connections\n",
        "        up3 = F.interpolate(bottleneck, size=(T, H//4, W//4), mode='trilinear', align_corners=False)\n",
        "        dec3 = torch.cat([up3, enc3_fused], dim=1)\n",
        "        dec3 = self.decoder3(dec3)  # (B, 256, T, H/4, W/4)\n",
        "\n",
        "        up2 = F.interpolate(dec3, size=(T, H//2, W//2), mode='trilinear', align_corners=False)\n",
        "        dec2 = torch.cat([up2, enc2], dim=1)\n",
        "        dec2 = self.decoder2(dec2)  # (B, 128, T, H/2, W/2)\n",
        "\n",
        "        up1 = F.interpolate(dec2, size=(T, H, W), mode='trilinear', align_corners=False)\n",
        "        dec1 = torch.cat([up1, enc1], dim=1)\n",
        "        dec1 = self.decoder1(dec1)  # (B, 64, T, H, W)\n",
        "\n",
        "        # Output\n",
        "        output = self.output_conv(dec1)  # (B, 1, T, H, W)\n",
        "        output = self.sigmoid(output)\n",
        "\n",
        "        # Rearrange back to (B, T, 1, H, W)\n",
        "        output = output.permute(0, 2, 1, 3, 4)\n",
        "\n",
        "        return output\n",
        "\n",
        "    def loss(self, sequence):\n",
        "        \"\"\"\n",
        "        Compute loss for your training setup\n",
        "\n",
        "        Args:\n",
        "            sequence: dict with 'input' and 'target' keys\n",
        "                     sequence['input'] = (frames, state) where:\n",
        "                       - frames: (B, T, C, H, W) - input video masks\n",
        "                       - state: (B, T, 13) - pose/twist information\n",
        "                     sequence['target'] = (B, T, C, H, W) - target clean masks\n",
        "\n",
        "        Returns:\n",
        "            loss: computed loss value\n",
        "            pred: predicted masks\n",
        "        \"\"\"\n",
        "        frames, state = sequence['input']\n",
        "        target = sequence['target']\n",
        "\n",
        "        # Forward pass\n",
        "        pred = self.forward(frames, state)\n",
        "\n",
        "        # Compute loss components\n",
        "        # Binary cross-entropy loss\n",
        "        bce_loss = F.binary_cross_entropy(pred, target)\n",
        "\n",
        "        # Dice loss for better handling of class imbalance\n",
        "        intersection = (pred * target).sum()\n",
        "        dice_loss = 1 - (2 * intersection + 1) / (pred.sum() + target.sum() + 1)\n",
        "\n",
        "        # Temporal consistency loss - penalize large changes between consecutive frames\n",
        "        temporal_diff = torch.abs(pred[:, 1:] - pred[:, :-1])\n",
        "        temporal_loss = temporal_diff.mean()\n",
        "\n",
        "        # Combined loss\n",
        "        total_loss = bce_loss + 0.5 * dice_loss + 0.1 * temporal_loss\n",
        "\n",
        "        return total_loss, pred\n",
        "\n",
        "# Example of how to use the model with your training setup\n",
        "if __name__ == \"__main__\":\n",
        "    # Your training parameters\n",
        "    num_epochs = 80\n",
        "    num_workers = 0\n",
        "    num_vids = 7\n",
        "    path_to_data = 'processed_flow'\n",
        "    augmented = False\n",
        "    batch_size = 32\n",
        "    seq_length = 5\n",
        "    img_size = 256\n",
        "\n",
        "    # Create model - now using FilterNet class that's compatible with your setup\n",
        "    model = FilterNet(input_shape=(img_size, img_size), pose_dim=13, hidden_channels=64)\n",
        "\n",
        "    # Example input shapes that match your data\n",
        "    batch_size_example = 4\n",
        "    sequence_length = 5\n",
        "    height, width = 256, 256\n",
        "\n",
        "    # Dummy data to test the model\n",
        "    video_masks = torch.randn(batch_size_example, sequence_length, 1, height, width)\n",
        "    pose_info = torch.randn(batch_size_example, sequence_length, 13)\n",
        "    target_masks = torch.randn(batch_size_example, sequence_length, 1, height, width)\n",
        "\n",
        "    # Test the model interface\n",
        "    sequence = {\n",
        "        'input': (video_masks, pose_info),\n",
        "        'target': target_masks\n",
        "    }\n",
        "\n",
        "    with torch.no_grad():\n",
        "        loss, pred = model.loss(sequence)\n",
        "        print(f\"Input shape: {video_masks.shape}\")\n",
        "        print(f\"Pose shape: {pose_info.shape}\")\n",
        "        print(f\"Output shape: {pred.shape}\")\n",
        "        print(f\"Loss: {loss.item()}\")\n",
        "\n",
        "    # Model parameters\n",
        "    total_params = sum(p.numel() for p in model.parameters())\n",
        "    trainable_params = sum(p.numel() for p in model.parameters() if p.requires_grad)\n",
        "    print(f\"Total parameters: {total_params:,}\")\n",
        "    print(f\"Trainable parameters: {trainable_params:,}\")\n",
        "\n",
        "    print(\"\\nModel is ready to use with your existing training loop!\")\n",
        "    print(\"Just replace 'FilterNet()' with 'FilterNet(input_shape=(256, 256))' in your code.\")"
      ]
    },
    {
      "cell_type": "markdown",
      "metadata": {
        "id": "CWqqQFt_2Tkc"
      },
      "source": [
        "### Submodules\n",
        "\n",
        "Here are the Encoders, Decoder, and LSTM"
      ]
    },
    {
      "cell_type": "code",
      "execution_count": null,
      "metadata": {
        "id": "FDZEvwW82Tkd"
      },
      "outputs": [],
      "source": [
        "# Write classes for compression networks\n",
        "\n",
        "#TODO: Try a conv3d encoder. conv3d layers encode temporal information. (Alternative to LSTM). An alternative to the current pipeline would\n",
        "# be to use the augmented data tensor (without compressing it) and a conv3d layer to process the (T, B, 1, H, W, 14) input. Which would need to be\n",
        "#reshaped to (B, 1, T, H, W, 14). I wouldn't know what to do with the state dimension. Treat them as channels (image, pose, twist)? Flatten them with the sequence dim?\n",
        "\n",
        "class ImgEncoder(nn.Module):\n",
        "    def __init__(self, in_channel=1, hidden_channel=16, out_channel=32, h_in=256, out_dim=1024):\n",
        "        \"\"\"\n",
        "        Define convolutional neural network architecture for compressing a 256 x 256 image into a 1024 embedding vector.\n",
        "        Assumes image is square.\n",
        "        \"\"\"\n",
        "        super().__init__()\n",
        "\n",
        "        # Compute image shape after convolution\n",
        "        stride = 2\n",
        "        padding_one, padding_two = 7, 1\n",
        "        num_ker_one, num_ker_two = 16, 4\n",
        "        h_out = (h_in + 2 * padding_one - num_ker_one) // stride + 1\n",
        "        h_out = (h_out + 2 * padding_two - num_ker_two) // stride + 1\n",
        "\n",
        "        # Define CNN\n",
        "        linear_in_dim = out_channel * h_out ** 2\n",
        "        linear_out_dim = out_dim\n",
        "        self.conv_stack = nn.Sequential(\n",
        "                            nn.Conv2d(in_channel, hidden_channel, num_ker_one, stride=stride, padding=padding_one), # h_in, w_in = (256, 256); h_out, w_out = (128, 128)\n",
        "                            nn.ReLU(),\n",
        "                            nn.Conv2d(hidden_channel, out_channel, num_ker_two, stride=stride, padding=padding_two), # h_in, w_in = (128, 128); h_out, w_out = (64, 64)\n",
        "                            nn.ReLU(),\n",
        "                            nn.Flatten(start_dim=1, end_dim=-1), # Flattens (c_out, h_out, w_out) = (32, 64, 64) into 131072\n",
        "                            nn.Linear(linear_in_dim, linear_out_dim) # Encodes the 131072 length flattened convolved image into a 1024 length embedding vector\n",
        "        )\n",
        "\n",
        "    def forward(self, x):\n",
        "        \"\"\"\n",
        "        Define neural network forward pass\n",
        "        Input has shape (T, B, 1, H, W)\n",
        "        \"\"\"\n",
        "        return self.conv_stack(x[-1])\n",
        "\n",
        "class ImgSeqEncoder(nn.Module):\n",
        "    def __init__(self, in_channel=1, hidden_channel=16, out_channel=32, h_in=256, out_dim=1024):\n",
        "        \"\"\"\n",
        "        Define convolutional neural network architecture for compressing a SEQUENCE of 256 x 256 images into a 1024 embedding vector.\n",
        "        Assumes image is square.\n",
        "        \"\"\"\n",
        "        super().__init__()\n",
        "\n",
        "        # Compute image shape after convolution\n",
        "        stride = 2\n",
        "        padding_one, padding_two = 7, 1\n",
        "        num_ker_one, num_ker_two = 16, 4\n",
        "        h_out = (h_in + 2 * padding_one - num_ker_one) // stride + 1\n",
        "        h_out = (h_out + 2 * padding_two - num_ker_two) // stride + 1\n",
        "\n",
        "        # Define CNN\n",
        "        linear_in_dim = out_channel * h_out ** 2\n",
        "        linear_out_dim = out_dim\n",
        "        self.conv_stack = nn.Sequential(\n",
        "                            nn.Conv2d(in_channel, hidden_channel, num_ker_one, stride=stride, padding=padding_one), # h_in, w_in = (256, 256); h_out, w_out = (128, 128)\n",
        "                            nn.ReLU(),\n",
        "                            nn.Conv2d(hidden_channel, out_channel, num_ker_two, stride=stride, padding=padding_two), # h_in, w_in = (128, 128); h_out, w_out = (64, 64)\n",
        "                            nn.ReLU(),\n",
        "                            nn.Flatten(start_dim=1, end_dim=-1), # Flattens (c_out, h_out, w_out) = (32, 64, 64) into 131072\n",
        "                            nn.Linear(linear_in_dim, linear_out_dim) # Encodes the 131072 length flattened convolved image into a 1024 length embedding vector\n",
        "        )\n",
        "\n",
        "    def forward(self, x):\n",
        "        \"\"\"\n",
        "        Define neural network forward pass\n",
        "        Input has shape (T, B, 1, H, W)\n",
        "        \"\"\"\n",
        "        seq_len, batch_size, _, h, w = x.shape\n",
        "        x = x.reshape(seq_len * batch_size, 1, h, w)\n",
        "        return self.conv_stack(x).reshape(seq_len, batch_size, -1)\n",
        "\n",
        "class StateEncoder(nn.Module):\n",
        "    def __init__(self, in_dim=13, out_dim=128):\n",
        "        \"\"\"\n",
        "        Define linear layer to generate a length 128 embedding vector from length 13 pose and twist vector.\n",
        "        \"\"\"\n",
        "        super().__init__()\n",
        "        self.linear_layer = nn.Linear(in_dim, out_dim)\n",
        "\n",
        "    def forward(self, x):\n",
        "        \"\"\"\n",
        "        Define nueral network forward pass\n",
        "        Input has shape (T, B, D) need (B, D)\n",
        "        \"\"\"\n",
        "        return self.linear_layer(x[-1])\n",
        "\n",
        "class StateSeqEncoder(nn.Module):\n",
        "    def __init__(self, in_dim=13, out_dim=128):\n",
        "        \"\"\"\n",
        "        Define linear layer to generate a sequence of length 128 embedding vectors from length 13 pose and twist vectors.\n",
        "        \"\"\"\n",
        "        super().__init__()\n",
        "        self.linear_layer = nn.Linear(in_dim, out_dim)\n",
        "\n",
        "    def forward(self, x):\n",
        "        \"\"\"\n",
        "        Define nueral network forward pass\n",
        "        \"\"\"\n",
        "        return self.linear_layer(x)\n",
        "\n",
        "class ImgDecoder(nn.Module):\n",
        "    def __init__(self, in_channels=5, hidden_channels=3, out_channels=1, in_dim=512, hidden_dim=4096):\n",
        "        \"\"\"\n",
        "        Reconstructs the image from the embedding vector. (B, T, in_dim): (B, 5, 512)\n",
        "        Output image size is (256, 256).\n",
        "        \"\"\"\n",
        "        super().__init__()\n",
        "\n",
        "        # Compute output height\n",
        "        h_in = int(np.sqrt(hidden_dim))\n",
        "        stride = 1\n",
        "        pad_one, pad_two = 34, 71\n",
        "        ker_one, ker_two = 5, 15\n",
        "        self.h_out = (h_in + 2 * pad_one - ker_one) // stride + 1\n",
        "        self.h_out = (self.h_out + 2 * pad_two - ker_two) // stride + 1\n",
        "\n",
        "        # Modules\n",
        "        self.decoder = nn.Sequential(\n",
        "                        nn.Linear(in_dim, hidden_dim), # (B, T, hidden_dim)\n",
        "                        nn.ReLU(),\n",
        "                        nn.Unflatten(dim=-1, unflattened_size=(h_in, h_in)),\n",
        "                        nn.Conv2d(in_channels, hidden_channels, ker_one, stride, pad_one),\n",
        "                        nn.ReLU(),\n",
        "                        nn.Conv2d(hidden_channels, out_channels, ker_two, stride, pad_two),\n",
        "        )\n",
        "\n",
        "    def forward(self, x):\n",
        "        \"\"\"\n",
        "        Input has shape (T, B, D_emb) = (5, 16, 512)\n",
        "        Return predicted last image in sequence (B, 1, h_out, h_out)\n",
        "        It treats the input sequence dimension as an images channels dimension and it convolves\n",
        "        the image back to its original dimension.\n",
        "\n",
        "        TODO: Consider instead of passing (T, B, D_emb) as (T * B, D_emb) and reconstructing as\n",
        "        (T, B, 1, h_out, h_out), pass it as (B, T * D_emb) and reconstruct as (B, 1, h_out, h_out).\n",
        "        \"\"\"\n",
        "        return self.decoder(x.permute(1, 0, 2)) # Convnet expects (B, T, H, W)\n",
        "\n",
        "class ImgDecoder2(nn.Module):\n",
        "    def __init__(self, in_channels=5, hidden_channels=32, out_channels=1, in_dim=512, hidden_dim=1024, out_size=256):\n",
        "        super().__init__()\n",
        "        self.out_size = out_size\n",
        "        h_in = int(np.sqrt(hidden_dim))\n",
        "\n",
        "        self.decoder = nn.Sequential(\n",
        "            nn.Linear(in_dim, hidden_dim),\n",
        "            nn.ReLU(),\n",
        "            nn.Unflatten(dim=-1, unflattened_size=(h_in, h_in)),  # (B, 5, 32, 32)\n",
        "            nn.Upsample(scale_factor=2, mode='nearest'),  # (B, 5, 64, 64)\n",
        "            nn.Conv2d(in_channels, hidden_channels, kernel_size=3, padding=1),\n",
        "            nn.ReLU(),\n",
        "            nn.Upsample(scale_factor=2, mode='nearest'),  # (B, 32, 128, 128)\n",
        "            nn.Conv2d(hidden_channels, hidden_channels, kernel_size=3, padding=1),\n",
        "            nn.ReLU(),\n",
        "            nn.Upsample(scale_factor=2, mode='nearest'),  # (B, 16, 256, 256)\n",
        "            nn.Conv2d(hidden_channels, out_channels, kernel_size=3, padding=1),\n",
        "        )\n",
        "\n",
        "    def forward(self, x):\n",
        "        return self.decoder(x.permute(1, 0, 2))\n",
        "\n",
        "\n",
        "# Jialin Encoder\n",
        "class SIRENActivation(nn.Module):\n",
        "    def __init__(self, w0=30.0):\n",
        "        super().__init__()\n",
        "        self.w0 = w0\n",
        "\n",
        "    def forward(self, x):\n",
        "        return torch.sin(self.w0 * x)\n",
        "\n",
        "class CNNEncoder(nn.Module):\n",
        "    def __init__(self, input_channels=1, hidden_dim=1024, activation=SIRENActivation(30.0)): # or nn.ReLU\n",
        "        super().__init__()\n",
        "        self.encoder = nn.Sequential(\n",
        "            nn.Conv2d(input_channels, 16, 3, padding=1),\n",
        "            activation,\n",
        "            nn.MaxPool2d(2),\n",
        "            nn.Conv2d(16, 32, 3, padding=1),\n",
        "            activation,\n",
        "            nn.MaxPool2d(2)\n",
        "        )\n",
        "        self.flatten = nn.Flatten()\n",
        "        self.out_dim = 32 * 64 * 64 # 131072\n",
        "        self.fc = nn.Linear(self.out_dim, hidden_dim)\n",
        "\n",
        "    def forward(self, x):  # (T, B, 1, H, W)\n",
        "        T, B, C, H, W = x.shape\n",
        "        x = x.contiguous().view(T * B, C, H, W)\n",
        "        x = self.encoder(x)\n",
        "        x = self.flatten(x)\n",
        "        x = self.fc(x)\n",
        "        x = x.view(T, B, -1)\n",
        "        return x  # (T, B, hidden_dim)\n",
        "\n",
        "# Jialin State Encoder\n",
        "class JStateEncoder(nn.Module):\n",
        "    def __init__(self, pose_dim=13, embed_dim=128):\n",
        "        super().__init__()\n",
        "        self.fc = nn.Sequential(\n",
        "            nn.Linear(pose_dim, embed_dim),\n",
        "            nn.ReLU(),\n",
        "            nn.Linear(embed_dim, embed_dim)\n",
        "        )\n",
        "\n",
        "    def forward(self, pose):  # (T, B, 13)\n",
        "        return self.fc(pose)  # (T, B, embed_dim)\n"
      ]
    },
    {
      "cell_type": "code",
      "execution_count": 96,
      "metadata": {
        "id": "IiQQUOdU2Tkd"
      },
      "outputs": [],
      "source": [
        "# Test conv encoder\n",
        "mock_img_data = torch.zeros((5, 16, 1, 256, 256))\n",
        "img_encoder = CNNEncoder()\n",
        "img_embedding = img_encoder(mock_img_data)\n",
        "\n",
        "# Test state encoder\n",
        "mock_state_data = torch.zeros((5,64, 13))\n",
        "state_encoder = JStateEncoder()\n",
        "state_embedding = state_encoder(mock_state_data)\n"
      ]
    },
    {
      "cell_type": "code",
      "execution_count": 97,
      "metadata": {
        "id": "zXDPaPQh2Tkd",
        "outputId": "963689c7-44a6-45b7-f60f-9885ebbe24c2"
      },
      "outputs": [
        {
          "data": {
            "text/plain": [
              "torch.Size([5, 16, 1024])"
            ]
          },
          "execution_count": 97,
          "metadata": {},
          "output_type": "execute_result"
        }
      ],
      "source": [
        "img_embedding.shape\n",
        "# state_embedding.shape"
      ]
    },
    {
      "cell_type": "code",
      "execution_count": null,
      "metadata": {
        "id": "MjdP10Rv2Tke"
      },
      "outputs": [],
      "source": [
        "# Vanilla LSTM\n",
        "class LSTM(nn.Module):\n",
        "    def __init__(self, in_dim, hidden_dim, num_layers=1):\n",
        "        super().__init__()\n",
        "        self.model = nn.LSTM(in_dim, hidden_dim, num_layers=num_layers)\n",
        "\n",
        "    def forward(self, x):\n",
        "        return self.model(x)[0]\n",
        "\n",
        "# Jialin's LSTM\n",
        "class JLSTM(nn.Module):\n",
        "    '''\n",
        "    LSTM with the image + pose embeddings as input\n",
        "    '''\n",
        "    def __init__(self, input_dim, hidden_dim):\n",
        "        super().__init__()\n",
        "\n",
        "        self.lstm = nn.LSTM(\n",
        "            input_size=input_dim,\n",
        "            hidden_size=hidden_dim,\n",
        "            batch_first=False,\n",
        "            bidirectional=False\n",
        "        )\n",
        "\n",
        "    def forward(self, x):  # (T, B, input_dim)\n",
        "        out, _ = self.lstm(x)\n",
        "        return out  # (T, B, hidden_dim)\n",
        "\n",
        "\n",
        "class MLP(nn.Module):\n",
        "    def __init__(self, in_dim, hidden_dim, num_layers=3):\n",
        "        super().__init__()\n",
        "\n",
        "        ### Create model\n",
        "        out_dim = hidden_dim\n",
        "        layers = [nn.Linear(in_dim, hidden_dim), nn.ReLU()]\n",
        "        for _ in range(1, num_layers):\n",
        "            layers.extend([nn.Linear(hidden_dim, hidden_dim), nn.ReLU()])\n",
        "        layers.append(nn.Linear(hidden_dim, out_dim))\n",
        "        self.model = nn.Sequential(*layers)\n",
        "\n",
        "    def forward(self, x):\n",
        "        \"\"\"\n",
        "        Input has shape (B, D) and decoder Expects (1, B, D)\n",
        "        \"\"\"\n",
        "        x = x\n",
        "        return self.model(x).unsqueeze(0)\n"
      ]
    },
    {
      "cell_type": "code",
      "execution_count": null,
      "metadata": {},
      "outputs": [],
      "source": [
        "# Loss functions\n",
        "class BCEDiceLoss(nn.Module):\n",
        "    def __init__(self, weight_bce=0.7, weight_dice=0.3, smooth=1.0, weight=250.0):\n",
        "        super().__init__()\n",
        "        self.bce = nn.BCEWithLogitsLoss(pos_weight=torch.tensor([weight], device=device))\n",
        "        self.weight_bce = weight_bce\n",
        "        self.weight_dice = weight_dice\n",
        "        self.smooth = smooth  # to avoid division by zero\n",
        "\n",
        "    def forward(self, logits, targets):\n",
        "        # BCEWithLogitsLoss expects raw logits\n",
        "        bce_loss = self.bce(logits, targets)\n",
        "\n",
        "        # Apply sigmoid to get probabilities\n",
        "        probs = torch.sigmoid(logits)\n",
        "        probs = probs.reshape(-1)\n",
        "        targets = targets.reshape(-1)\n",
        "\n",
        "        intersection = (probs * targets).sum()\n",
        "        dice_score = (2. * intersection + self.smooth) / (\n",
        "            probs.sum() + targets.sum() + self.smooth\n",
        "        )\n",
        "        dice_loss = 1 - dice_score\n",
        "\n",
        "        return self.weight_bce * bce_loss + self.weight_dice * dice_loss"
      ]
    },
    {
      "cell_type": "markdown",
      "metadata": {
        "id": "NBK9Zmsb2Tke"
      },
      "source": [
        "### FilterNet\n",
        "\n",
        "This is the main module which contains the submodules to form a LSTM convolutional autoencoder"
      ]
    },
    {
      "cell_type": "code",
      "execution_count": null,
      "metadata": {
        "id": "va7AQ7WO2Tke"
      },
      "outputs": [],
      "source": [
        "# Define LSTM class\n",
        "class FilterNet(nn.Module):\n",
        "    def __init__(self, in_dim=1152, hidden_dim=512, seq_length=5, augmented=False):\n",
        "        \"\"\"\n",
        "        Define LSTM architecture with image and state encoders\n",
        "        Must concatenate image and state embeddings to make a 1024 + 128 length embedding vector for lstm\n",
        "        lstm input dimension is then 1024 + 128 = 1152\n",
        "        \"\"\"\n",
        "        super().__init__()\n",
        "\n",
        "        # Parameters\n",
        "        self.in_dim = in_dim\n",
        "        self.hidden_dim = hidden_dim\n",
        "        self.seq_len = seq_length\n",
        "        self.augmented = augmented\n",
        "\n",
        "        # Jialin Modules\n",
        "        # self.image_encoder = CNNEncoder()\n",
        "        # self.state_encoder = JStateEncoder()\n",
        "        # self.lstm = JLSTM(input_dim=in_dim, hidden_dim=hidden_dim)\n",
        "        # self.image_decoder = ImgDecoder()\n",
        "        # self.loss_fun = nn.MSELoss()\n",
        "\n",
        "        # Juan Modules\n",
        "        self.image_encoder = ImgEncoder()\n",
        "        self.state_encoder = StateEncoder()\n",
        "        self.lstm = MLP(in_dim, hidden_dim)\n",
        "        self.image_decoder = ImgDecoder2(in_channels=1) # in_channels should be 5 for lstm\n",
        "        self.loss_fun = BCEDiceLoss()\n",
        "\n",
        "\n",
        "\n",
        "    def loss(self, sequence):\n",
        "        \"\"\"\n",
        "        Unless using the augmented (B, T, 1, H, W, 14) tensor, data will come in as a Tuple storing a sequence of {'input', 'target'}\n",
        "        dictionaries. Each 'input' field contains a frame, a pose, and a twist, each as a tensor.\n",
        "\n",
        "        Must loop through the sequence to generate embedding, but for small sequence lengths, the overhead is negligible, and actually\n",
        "        preferable, than the memory overhead of the augmented tensor.\n",
        "        \"\"\"\n",
        "\n",
        "        if self.augmented:\n",
        "            # Retrieve data\n",
        "            input, output = sequence['input'].permute(1, 0, 2, 3, 4, 5), sequence['target'].permute(1, 0, 2, 3, 4) # switch to sequence first\n",
        "            frames = input[..., 0]\n",
        "            state = input[:, :, :, 0, 0, 1:]\n",
        "            out_frame = output[-1, ...]\n",
        "        else:\n",
        "            # Pass each element of the sequence through the model\n",
        "            frames = sequence['input'][0].permute(1, 0, 2, 3, 4) # (B, T, 1, H, W) --> (T, B, 1, H, W)\n",
        "            state = sequence['input'][1].permute(1, 0, 2) # (B, T, 13) --> (T, B, 13)\n",
        "            out_frame = sequence['target'].permute(1, 0, 2, 3, 4)[-1, ...] #(T, B, 1, H, W) --> (B, 1, H, W)\n",
        "\n",
        "        # Pass inputs through encoders\n",
        "        img_embedding = self.image_encoder(frames) # out dim should be (T, B, d_img_emb)\n",
        "        state_embedding = self.state_encoder(state) # out dim should be (T, B, d_state_emb)\n",
        "\n",
        "        # Concatenate embedding vector and reconstruct sequence as a tensor\n",
        "        compressed_input = torch.cat((img_embedding, state_embedding), dim=-1) # (T, B, in_dim)\n",
        "\n",
        "        # Pass compressed sequence through LSTM\n",
        "        lstm_out = self.lstm(compressed_input) # should have shape (T, B, hidden_dim) (5, 16, 512)\n",
        "\n",
        "        # Pass through decoder to reconstruct predicted last frame in sequence\n",
        "        pred_frame = self.image_decoder(lstm_out)\n",
        "\n",
        "        # Get loss between predicted frame and last frame in target sequence\n",
        "        return self.loss_fun(pred_frame, out_frame), pred_frame\n"
      ]
    },
    {
      "cell_type": "code",
      "execution_count": 101,
      "metadata": {
        "id": "amF2bPn42Tke",
        "outputId": "a94a8b5f-d8e3-4b47-9d0c-f072dd744c39"
      },
      "outputs": [
        {
          "data": {
            "text/plain": [
              "(tensor(123.9011, device='cuda:0', grad_fn=<AddBackward0>),\n",
              " tensor([[[[-0.0429, -0.0223, -0.0151,  ..., -0.0205, -0.0088, -0.0082],\n",
              "           [-0.0358, -0.0228, -0.0206,  ..., -0.0177, -0.0130, -0.0146],\n",
              "           [-0.0390, -0.0299, -0.0231,  ..., -0.0188, -0.0145, -0.0119],\n",
              "           ...,\n",
              "           [-0.0187, -0.0125, -0.0092,  ..., -0.0076, -0.0194, -0.0161],\n",
              "           [-0.0232, -0.0251, -0.0204,  ..., -0.0113, -0.0243, -0.0207],\n",
              "           [-0.0138, -0.0143, -0.0109,  ..., -0.0185, -0.0226, -0.0286]]],\n",
              " \n",
              " \n",
              "         [[[-0.0429, -0.0223, -0.0151,  ..., -0.0205, -0.0088, -0.0082],\n",
              "           [-0.0358, -0.0228, -0.0206,  ..., -0.0177, -0.0130, -0.0146],\n",
              "           [-0.0390, -0.0299, -0.0231,  ..., -0.0188, -0.0145, -0.0119],\n",
              "           ...,\n",
              "           [-0.0187, -0.0125, -0.0092,  ..., -0.0076, -0.0194, -0.0161],\n",
              "           [-0.0232, -0.0251, -0.0204,  ..., -0.0113, -0.0243, -0.0207],\n",
              "           [-0.0138, -0.0143, -0.0109,  ..., -0.0185, -0.0226, -0.0286]]],\n",
              " \n",
              " \n",
              "         [[[-0.0429, -0.0223, -0.0151,  ..., -0.0205, -0.0088, -0.0082],\n",
              "           [-0.0358, -0.0228, -0.0206,  ..., -0.0177, -0.0130, -0.0146],\n",
              "           [-0.0390, -0.0299, -0.0231,  ..., -0.0188, -0.0145, -0.0119],\n",
              "           ...,\n",
              "           [-0.0187, -0.0125, -0.0092,  ..., -0.0076, -0.0194, -0.0161],\n",
              "           [-0.0232, -0.0251, -0.0204,  ..., -0.0113, -0.0243, -0.0207],\n",
              "           [-0.0138, -0.0143, -0.0109,  ..., -0.0185, -0.0226, -0.0286]]],\n",
              " \n",
              " \n",
              "         ...,\n",
              " \n",
              " \n",
              "         [[[-0.0429, -0.0223, -0.0151,  ..., -0.0205, -0.0088, -0.0082],\n",
              "           [-0.0358, -0.0228, -0.0206,  ..., -0.0177, -0.0130, -0.0146],\n",
              "           [-0.0390, -0.0299, -0.0231,  ..., -0.0188, -0.0145, -0.0119],\n",
              "           ...,\n",
              "           [-0.0187, -0.0125, -0.0092,  ..., -0.0076, -0.0194, -0.0161],\n",
              "           [-0.0232, -0.0251, -0.0204,  ..., -0.0113, -0.0243, -0.0207],\n",
              "           [-0.0138, -0.0143, -0.0109,  ..., -0.0185, -0.0226, -0.0286]]],\n",
              " \n",
              " \n",
              "         [[[-0.0429, -0.0223, -0.0151,  ..., -0.0205, -0.0088, -0.0082],\n",
              "           [-0.0358, -0.0228, -0.0206,  ..., -0.0177, -0.0130, -0.0146],\n",
              "           [-0.0390, -0.0299, -0.0231,  ..., -0.0188, -0.0145, -0.0119],\n",
              "           ...,\n",
              "           [-0.0187, -0.0125, -0.0092,  ..., -0.0076, -0.0194, -0.0161],\n",
              "           [-0.0232, -0.0251, -0.0204,  ..., -0.0113, -0.0243, -0.0207],\n",
              "           [-0.0138, -0.0143, -0.0109,  ..., -0.0185, -0.0226, -0.0286]]],\n",
              " \n",
              " \n",
              "         [[[-0.0429, -0.0223, -0.0151,  ..., -0.0205, -0.0088, -0.0082],\n",
              "           [-0.0358, -0.0228, -0.0206,  ..., -0.0177, -0.0130, -0.0146],\n",
              "           [-0.0390, -0.0299, -0.0231,  ..., -0.0188, -0.0145, -0.0119],\n",
              "           ...,\n",
              "           [-0.0187, -0.0125, -0.0092,  ..., -0.0076, -0.0194, -0.0161],\n",
              "           [-0.0232, -0.0251, -0.0204,  ..., -0.0113, -0.0243, -0.0207],\n",
              "           [-0.0138, -0.0143, -0.0109,  ..., -0.0185, -0.0226, -0.0286]]]],\n",
              "        device='cuda:0', grad_fn=<ConvolutionBackward0>))"
            ]
          },
          "execution_count": 101,
          "metadata": {},
          "output_type": "execute_result"
        }
      ],
      "source": [
        "### Test FilterNet\n",
        "\n",
        "# Generate mock input\n",
        "mock_img_npt_data = torch.zeros((16, 5, 1, 256, 256), device=device)\n",
        "mock_img_trgt_data = torch.ones((16, 5, 1, 256, 256), device=device)\n",
        "mock_state_data = torch.zeros((16, 5, 13), device=device)\n",
        "datapoint = {'input': (mock_img_npt_data, mock_state_data), 'target': mock_img_trgt_data}\n",
        "\n",
        "# Initialize model\n",
        "filternet = FilterNet().to(device)\n",
        "\n",
        "# Test loss function\n",
        "out = filternet.loss(datapoint)\n",
        "out\n"
      ]
    },
    {
      "cell_type": "markdown",
      "metadata": {
        "id": "lV2i0n3x2Tke"
      },
      "source": [
        "### Traning Loop"
      ]
    },
    {
      "cell_type": "code",
      "execution_count": null,
      "metadata": {
        "id": "-0Gjja0K2Tke"
      },
      "outputs": [
        {
          "name": "stderr",
          "output_type": "stream",
          "text": [
            "100%|██████████| 7/7 [00:00<00:00, 127.15it/s]\n"
          ]
        }
      ],
      "source": [
        "# Define training parameters\n",
        "num_epochs = 20 # originally 10\n",
        "num_workers = 4\n",
        "num_vids = 7\n",
        "path_to_data = 'processed_flow'\n",
        "augmented = False\n",
        "batch_size = 32\n",
        "seq_length = 5\n",
        "img_size = 256\n",
        "\n",
        "\n",
        "# because mac :)\n",
        "# device = torch.device(\"mps\" if torch.backends.mps.is_available() else \"cpu\")\n",
        "\n",
        "\n",
        "# TODO: Split into train and val loader\n",
        "# deterministic split, same split across runs\n",
        "# generator = torch.Generator().manual_seed(42)\n",
        "# val_ratio = 0.2\n",
        "# val_size = int(len(dataset) * val_ratio)\n",
        "# train_size = len(dataset) - val_size\n",
        "# train_dataset, val_dataset = random_split(dataset, [train_size, val_size], generator=generator)\n",
        "\n",
        "\n",
        "dataset = VideoDataset(path_to_data, augmented=augmented, num_vids=num_vids, seq_length=seq_length, img_size=img_size)\n",
        "# loader = DataLoader(dataset, batch_size=batch_size, shuffle=True, num_workers=num_workers) #NOTE: num_workers is the number of extra processes running in parallel retrieving the data\n",
        "\n",
        "\n",
        "val_ratio = 0.2\n",
        "val_size = int(len(dataset) * val_ratio)\n",
        "train_size = len(dataset) - val_size\n",
        "\n",
        "train_dataset = torch.utils.data.Subset(dataset, list(range(train_size)))\n",
        "val_dataset = torch.utils.data.Subset(dataset, list(range(train_size, len(dataset))))\n",
        "\n",
        "train_loader = DataLoader(train_dataset, batch_size=batch_size, shuffle=True, num_workers=num_workers)\n",
        "val_loader = DataLoader(val_dataset, batch_size=batch_size, shuffle=False, num_workers=num_workers)\n",
        "\n",
        "# Initialize model\n",
        "model = FilterNet()\n",
        "model = model.to(device) # added\n",
        "\n",
        "# Initialize optimizer\n",
        "# optimizer = torch.optim.SGD(model.parameters(), lr=0.001, momentum=0.9)\n",
        "optimizer = torch.optim.Adam(model.parameters(), lr=0.001) # lr = 0.001\n",
        "\n",
        "# next(model.parameters()).device\n"
      ]
    },
    {
      "cell_type": "code",
      "execution_count": null,
      "metadata": {
        "id": "3eeYzpF22Tkf"
      },
      "outputs": [
        {
          "name": "stdout",
          "output_type": "stream",
          "text": [
            "\n",
            "Epoch 1/20:\n"
          ]
        },
        {
          "name": "stderr",
          "output_type": "stream",
          "text": [
            "251it [01:09,  3.72it/s]"
          ]
        },
        {
          "name": "stdout",
          "output_type": "stream",
          "text": [
            " batch 250 loss: 0.776182968378067\n",
            "Prediction logit mean: -7.353479862213135, std: 7.627038955688477, and max: 1.544670820236206 and min: -52.61845779418945\n"
          ]
        },
        {
          "name": "stderr",
          "output_type": "stream",
          "text": [
            "499it [02:15,  4.31it/s]"
          ]
        },
        {
          "name": "stdout",
          "output_type": "stream",
          "text": [
            " batch 500 loss: 0.6851678109169006\n",
            "Prediction logit mean: -7.850188255310059, std: 10.009608268737793, and max: 3.997823476791382 and min: -75.13175201416016\n"
          ]
        },
        {
          "name": "stderr",
          "output_type": "stream",
          "text": [
            "534it [02:25,  3.68it/s]"
          ]
        },
        {
          "name": "stdout",
          "output_type": "stream",
          "text": [
            "Epoch 1 average loss: 0.7275323616654685\n",
            "\n",
            "Epoch 2/20:\n"
          ]
        },
        {
          "name": "stderr",
          "output_type": "stream",
          "text": [
            "\n",
            "252it [01:09,  4.27it/s]"
          ]
        },
        {
          "name": "stdout",
          "output_type": "stream",
          "text": [
            " batch 250 loss: 0.6658447571992874\n",
            "Prediction logit mean: -7.937068462371826, std: 12.443531036376953, and max: 0.7505890727043152 and min: -175.79730224609375\n"
          ]
        },
        {
          "name": "stderr",
          "output_type": "stream",
          "text": [
            "500it [02:18,  4.41it/s]"
          ]
        },
        {
          "name": "stdout",
          "output_type": "stream",
          "text": [
            " batch 500 loss: 0.6683697299957275\n",
            "Prediction logit mean: -4.276411056518555, std: 5.735006809234619, and max: 1.0940747261047363 and min: -50.520938873291016\n"
          ]
        },
        {
          "name": "stderr",
          "output_type": "stream",
          "text": [
            "534it [02:28,  3.60it/s]"
          ]
        },
        {
          "name": "stdout",
          "output_type": "stream",
          "text": [
            "Epoch 2 average loss: 0.6657161786873242\n",
            "\n",
            "Epoch 3/20:\n"
          ]
        },
        {
          "name": "stderr",
          "output_type": "stream",
          "text": [
            "\n",
            "249it [01:09,  3.43it/s]"
          ]
        },
        {
          "name": "stdout",
          "output_type": "stream",
          "text": [
            " batch 250 loss: 0.6426630394458771\n",
            "Prediction logit mean: -4.671539306640625, std: 5.29591178894043, and max: 1.1081644296646118 and min: -59.34906768798828\n"
          ]
        },
        {
          "name": "stderr",
          "output_type": "stream",
          "text": [
            "499it [02:17,  4.33it/s]"
          ]
        },
        {
          "name": "stdout",
          "output_type": "stream",
          "text": [
            " batch 500 loss: 0.6194187475442886\n",
            "Prediction logit mean: -5.003782749176025, std: 5.488320827484131, and max: 1.3449289798736572 and min: -43.926822662353516\n"
          ]
        },
        {
          "name": "stderr",
          "output_type": "stream",
          "text": [
            "534it [02:26,  3.65it/s]"
          ]
        },
        {
          "name": "stdout",
          "output_type": "stream",
          "text": [
            "Epoch 3 average loss: 0.6310817314109552\n",
            "\n",
            "Epoch 4/20:\n"
          ]
        },
        {
          "name": "stderr",
          "output_type": "stream",
          "text": [
            "\n",
            "251it [01:08,  4.35it/s]"
          ]
        },
        {
          "name": "stdout",
          "output_type": "stream",
          "text": [
            " batch 250 loss: 0.6134128763675689\n",
            "Prediction logit mean: -8.357769966125488, std: 8.152376174926758, and max: 1.2737430334091187 and min: -68.97373962402344\n"
          ]
        },
        {
          "name": "stderr",
          "output_type": "stream",
          "text": [
            "499it [02:15,  4.32it/s]"
          ]
        },
        {
          "name": "stdout",
          "output_type": "stream",
          "text": [
            " batch 500 loss: 0.6083503754138947\n",
            "Prediction logit mean: -4.406623840332031, std: 5.0277605056762695, and max: 1.7467448711395264 and min: -57.8535041809082\n"
          ]
        },
        {
          "name": "stderr",
          "output_type": "stream",
          "text": [
            "534it [02:25,  3.68it/s]"
          ]
        },
        {
          "name": "stdout",
          "output_type": "stream",
          "text": [
            "Epoch 4 average loss: 0.6093808922093459\n",
            "\n",
            "Epoch 5/20:\n"
          ]
        },
        {
          "name": "stderr",
          "output_type": "stream",
          "text": [
            "\n",
            "251it [01:09,  4.02it/s]"
          ]
        },
        {
          "name": "stdout",
          "output_type": "stream",
          "text": [
            " batch 250 loss: 0.5632818350791932\n",
            "Prediction logit mean: -10.141143798828125, std: 11.316473007202148, and max: 1.8741379976272583 and min: -104.33904266357422\n"
          ]
        },
        {
          "name": "stderr",
          "output_type": "stream",
          "text": [
            "499it [02:11,  4.57it/s]"
          ]
        },
        {
          "name": "stdout",
          "output_type": "stream",
          "text": [
            " batch 500 loss: 0.5288229503631592\n",
            "Prediction logit mean: -11.980816841125488, std: 13.072968482971191, and max: 2.3059496879577637 and min: -162.7527618408203\n"
          ]
        },
        {
          "name": "stderr",
          "output_type": "stream",
          "text": [
            "534it [02:20,  3.80it/s]"
          ]
        },
        {
          "name": "stdout",
          "output_type": "stream",
          "text": [
            "Epoch 5 average loss: 0.544923231787003\n",
            "\n",
            "Epoch 6/20:\n"
          ]
        },
        {
          "name": "stderr",
          "output_type": "stream",
          "text": [
            "\n",
            "251it [01:04,  4.51it/s]"
          ]
        },
        {
          "name": "stdout",
          "output_type": "stream",
          "text": [
            " batch 250 loss: 0.48869012475013734\n",
            "Prediction logit mean: -16.311141967773438, std: 17.467561721801758, and max: 2.3190343379974365 and min: -216.35401916503906\n"
          ]
        },
        {
          "name": "stderr",
          "output_type": "stream",
          "text": [
            "499it [02:07,  4.61it/s]"
          ]
        },
        {
          "name": "stdout",
          "output_type": "stream",
          "text": [
            " batch 500 loss: 0.4855220640897751\n",
            "Prediction logit mean: -22.45417022705078, std: 22.90536117553711, and max: 2.1652891635894775 and min: -266.4228515625\n"
          ]
        },
        {
          "name": "stderr",
          "output_type": "stream",
          "text": [
            "534it [02:16,  3.93it/s]"
          ]
        },
        {
          "name": "stdout",
          "output_type": "stream",
          "text": [
            "Epoch 6 average loss: 0.48457524174831335\n",
            "\n",
            "Epoch 7/20:\n"
          ]
        },
        {
          "name": "stderr",
          "output_type": "stream",
          "text": [
            "\n",
            "251it [01:03,  4.59it/s]"
          ]
        },
        {
          "name": "stdout",
          "output_type": "stream",
          "text": [
            " batch 250 loss: 0.4683584944009781\n",
            "Prediction logit mean: -22.000629425048828, std: 21.246543884277344, and max: 2.3528945446014404 and min: -184.65293884277344\n"
          ]
        },
        {
          "name": "stderr",
          "output_type": "stream",
          "text": [
            "499it [02:06,  4.65it/s]"
          ]
        },
        {
          "name": "stdout",
          "output_type": "stream",
          "text": [
            " batch 500 loss: 0.45049222016334534\n",
            "Prediction logit mean: -20.259502410888672, std: 20.30585289001465, and max: 2.3915903568267822 and min: -230.29710388183594\n"
          ]
        },
        {
          "name": "stderr",
          "output_type": "stream",
          "text": [
            "534it [02:15,  3.93it/s]"
          ]
        },
        {
          "name": "stdout",
          "output_type": "stream",
          "text": [
            "Epoch 7 average loss: 0.45909635532884563\n",
            "\n",
            "Epoch 8/20:\n"
          ]
        },
        {
          "name": "stderr",
          "output_type": "stream",
          "text": [
            "\n",
            "251it [01:04,  4.56it/s]"
          ]
        },
        {
          "name": "stdout",
          "output_type": "stream",
          "text": [
            " batch 250 loss: 0.4400046372413635\n",
            "Prediction logit mean: -21.921667098999023, std: 19.916711807250977, and max: 2.6338915824890137 and min: -241.05245971679688\n"
          ]
        },
        {
          "name": "stderr",
          "output_type": "stream",
          "text": [
            "499it [02:06,  4.64it/s]"
          ]
        },
        {
          "name": "stdout",
          "output_type": "stream",
          "text": [
            " batch 500 loss: 0.44908042085170746\n",
            "Prediction logit mean: -19.143556594848633, std: 17.996318817138672, and max: 2.557192802429199 and min: -213.2964630126953\n"
          ]
        },
        {
          "name": "stderr",
          "output_type": "stream",
          "text": [
            "534it [02:15,  3.93it/s]"
          ]
        },
        {
          "name": "stdout",
          "output_type": "stream",
          "text": [
            "Epoch 8 average loss: 0.4443225908591953\n",
            "\n",
            "Epoch 9/20:\n"
          ]
        },
        {
          "name": "stderr",
          "output_type": "stream",
          "text": [
            "\n",
            "252it [01:04,  4.79it/s]"
          ]
        },
        {
          "name": "stdout",
          "output_type": "stream",
          "text": [
            " batch 250 loss: 0.42378224205970766\n",
            "Prediction logit mean: -22.032236099243164, std: 22.53995132446289, and max: 2.6487817764282227 and min: -238.84344482421875\n"
          ]
        },
        {
          "name": "stderr",
          "output_type": "stream",
          "text": [
            "500it [02:07,  4.54it/s]"
          ]
        },
        {
          "name": "stdout",
          "output_type": "stream",
          "text": [
            " batch 500 loss: 0.41719766545295717\n",
            "Prediction logit mean: -17.87164306640625, std: 17.8764591217041, and max: 2.6854593753814697 and min: -221.93280029296875\n"
          ]
        },
        {
          "name": "stderr",
          "output_type": "stream",
          "text": [
            "534it [02:16,  3.92it/s]"
          ]
        },
        {
          "name": "stdout",
          "output_type": "stream",
          "text": [
            "Epoch 9 average loss: 0.4198702804827958\n",
            "\n",
            "Epoch 10/20:\n"
          ]
        },
        {
          "name": "stderr",
          "output_type": "stream",
          "text": [
            "\n",
            "252it [01:04,  4.57it/s]"
          ]
        },
        {
          "name": "stdout",
          "output_type": "stream",
          "text": [
            " batch 250 loss: 0.3950119252204895\n",
            "Prediction logit mean: -20.121978759765625, std: 17.49126625061035, and max: 2.828784704208374 and min: -214.25633239746094\n"
          ]
        },
        {
          "name": "stderr",
          "output_type": "stream",
          "text": [
            "500it [02:06,  4.54it/s]"
          ]
        },
        {
          "name": "stdout",
          "output_type": "stream",
          "text": [
            " batch 500 loss: 0.41136346888542175\n",
            "Prediction logit mean: -22.143720626831055, std: 19.87519073486328, and max: 2.7952024936676025 and min: -258.6852111816406\n"
          ]
        },
        {
          "name": "stderr",
          "output_type": "stream",
          "text": [
            "534it [02:15,  3.94it/s]"
          ]
        },
        {
          "name": "stdout",
          "output_type": "stream",
          "text": [
            "Epoch 10 average loss: 0.4032131719790148\n",
            "\n",
            "Epoch 11/20:\n"
          ]
        },
        {
          "name": "stderr",
          "output_type": "stream",
          "text": [
            "\n",
            "252it [01:04,  4.55it/s]"
          ]
        },
        {
          "name": "stdout",
          "output_type": "stream",
          "text": [
            " batch 250 loss: 0.3828769587278366\n",
            "Prediction logit mean: -26.833715438842773, std: 26.120628356933594, and max: 3.1385011672973633 and min: -315.059326171875\n"
          ]
        },
        {
          "name": "stderr",
          "output_type": "stream",
          "text": [
            "500it [02:06,  4.56it/s]"
          ]
        },
        {
          "name": "stdout",
          "output_type": "stream",
          "text": [
            " batch 500 loss: 0.3907557307481766\n",
            "Prediction logit mean: -18.621999740600586, std: 18.662872314453125, and max: 2.7517426013946533 and min: -377.81451416015625\n"
          ]
        },
        {
          "name": "stderr",
          "output_type": "stream",
          "text": [
            "534it [02:15,  3.94it/s]"
          ]
        },
        {
          "name": "stdout",
          "output_type": "stream",
          "text": [
            "Epoch 11 average loss: 0.38739409389790525\n",
            "\n",
            "Epoch 12/20:\n"
          ]
        },
        {
          "name": "stderr",
          "output_type": "stream",
          "text": [
            "\n",
            "252it [01:04,  5.17it/s]"
          ]
        },
        {
          "name": "stdout",
          "output_type": "stream",
          "text": [
            " batch 250 loss: 0.3763368656635284\n",
            "Prediction logit mean: -22.255887985229492, std: 22.74164390563965, and max: 3.166938543319702 and min: -325.79486083984375\n"
          ]
        },
        {
          "name": "stderr",
          "output_type": "stream",
          "text": [
            "500it [02:07,  4.48it/s]"
          ]
        },
        {
          "name": "stdout",
          "output_type": "stream",
          "text": [
            " batch 500 loss: 0.38257110488414764\n",
            "Prediction logit mean: -29.579254150390625, std: 26.899017333984375, and max: 3.209265947341919 and min: -273.10546875\n"
          ]
        },
        {
          "name": "stderr",
          "output_type": "stream",
          "text": [
            "534it [02:15,  3.93it/s]"
          ]
        },
        {
          "name": "stdout",
          "output_type": "stream",
          "text": [
            "Epoch 12 average loss: 0.3798379486754592\n",
            "\n",
            "Epoch 13/20:\n"
          ]
        },
        {
          "name": "stderr",
          "output_type": "stream",
          "text": [
            "\n",
            "252it [01:03,  4.52it/s]"
          ]
        },
        {
          "name": "stdout",
          "output_type": "stream",
          "text": [
            " batch 250 loss: 0.3706596850156784\n",
            "Prediction logit mean: -31.8751277923584, std: 35.22805404663086, and max: 3.206887722015381 and min: -338.9197692871094\n"
          ]
        },
        {
          "name": "stderr",
          "output_type": "stream",
          "text": [
            "499it [02:06,  3.99it/s]"
          ]
        },
        {
          "name": "stdout",
          "output_type": "stream",
          "text": [
            " batch 500 loss: 0.3737556005716324\n",
            "Prediction logit mean: -42.16305160522461, std: 35.280975341796875, and max: 2.890449285507202 and min: -450.2574768066406\n"
          ]
        },
        {
          "name": "stderr",
          "output_type": "stream",
          "text": [
            "534it [02:15,  3.94it/s]"
          ]
        },
        {
          "name": "stdout",
          "output_type": "stream",
          "text": [
            "Epoch 13 average loss: 0.37161599741446394\n",
            "\n",
            "Epoch 14/20:\n"
          ]
        },
        {
          "name": "stderr",
          "output_type": "stream",
          "text": [
            "\n",
            "251it [01:03,  4.41it/s]"
          ]
        },
        {
          "name": "stdout",
          "output_type": "stream",
          "text": [
            " batch 250 loss: 0.36425750362873077\n",
            "Prediction logit mean: -30.8861083984375, std: 31.203134536743164, and max: 3.4032530784606934 and min: -574.5391235351562\n"
          ]
        },
        {
          "name": "stderr",
          "output_type": "stream",
          "text": [
            "500it [02:06,  4.64it/s]"
          ]
        },
        {
          "name": "stdout",
          "output_type": "stream",
          "text": [
            " batch 500 loss: 0.36016542196273804\n",
            "Prediction logit mean: -39.20228576660156, std: 39.92134475708008, and max: 3.2916018962860107 and min: -515.2056884765625\n"
          ]
        },
        {
          "name": "stderr",
          "output_type": "stream",
          "text": [
            "534it [02:15,  3.93it/s]"
          ]
        },
        {
          "name": "stdout",
          "output_type": "stream",
          "text": [
            "Epoch 14 average loss: 0.361724673976166\n",
            "\n",
            "Epoch 15/20:\n"
          ]
        },
        {
          "name": "stderr",
          "output_type": "stream",
          "text": [
            "\n",
            "251it [01:04,  4.52it/s]"
          ]
        },
        {
          "name": "stdout",
          "output_type": "stream",
          "text": [
            " batch 250 loss: 0.36109119617938995\n",
            "Prediction logit mean: -27.117095947265625, std: 26.822673797607422, and max: 3.031630754470825 and min: -724.0308837890625\n"
          ]
        },
        {
          "name": "stderr",
          "output_type": "stream",
          "text": [
            "499it [02:07,  4.59it/s]"
          ]
        },
        {
          "name": "stdout",
          "output_type": "stream",
          "text": [
            " batch 500 loss: 0.3642809600830078\n",
            "Prediction logit mean: -25.384145736694336, std: 20.271392822265625, and max: 3.394585132598877 and min: -342.3343811035156\n"
          ]
        },
        {
          "name": "stderr",
          "output_type": "stream",
          "text": [
            "534it [02:16,  3.92it/s]"
          ]
        },
        {
          "name": "stdout",
          "output_type": "stream",
          "text": [
            "Epoch 15 average loss: 0.3623679726199711\n",
            "\n",
            "Epoch 16/20:\n"
          ]
        },
        {
          "name": "stderr",
          "output_type": "stream",
          "text": [
            "\n",
            "251it [01:03,  4.52it/s]"
          ]
        },
        {
          "name": "stdout",
          "output_type": "stream",
          "text": [
            " batch 250 loss: 0.34888619840145113\n",
            "Prediction logit mean: -28.09613037109375, std: 26.500530242919922, and max: 3.5715811252593994 and min: -577.1757202148438\n"
          ]
        },
        {
          "name": "stderr",
          "output_type": "stream",
          "text": [
            "499it [02:06,  4.53it/s]"
          ]
        },
        {
          "name": "stdout",
          "output_type": "stream",
          "text": [
            " batch 500 loss: 0.3418969378471374\n",
            "Prediction logit mean: -31.769081115722656, std: 26.33321762084961, and max: 3.5619654655456543 and min: -513.7318115234375\n"
          ]
        },
        {
          "name": "stderr",
          "output_type": "stream",
          "text": [
            "534it [02:15,  3.93it/s]"
          ]
        },
        {
          "name": "stdout",
          "output_type": "stream",
          "text": [
            "Epoch 16 average loss: 0.34537677784984033\n",
            "\n",
            "Epoch 17/20:\n"
          ]
        },
        {
          "name": "stderr",
          "output_type": "stream",
          "text": [
            "\n",
            "252it [01:04,  4.61it/s]"
          ]
        },
        {
          "name": "stdout",
          "output_type": "stream",
          "text": [
            " batch 250 loss: 0.3500831044912338\n",
            "Prediction logit mean: -48.095455169677734, std: 34.9027214050293, and max: 3.5781705379486084 and min: -639.6693725585938\n"
          ]
        },
        {
          "name": "stderr",
          "output_type": "stream",
          "text": [
            "500it [02:06,  4.56it/s]"
          ]
        },
        {
          "name": "stdout",
          "output_type": "stream",
          "text": [
            " batch 500 loss: 0.3474363685846329\n",
            "Prediction logit mean: -36.86259460449219, std: 28.68318748474121, and max: 3.5778865814208984 and min: -510.13970947265625\n"
          ]
        },
        {
          "name": "stderr",
          "output_type": "stream",
          "text": [
            "534it [02:15,  3.94it/s]"
          ]
        },
        {
          "name": "stdout",
          "output_type": "stream",
          "text": [
            "Epoch 17 average loss: 0.34883182180508243\n",
            "\n",
            "Epoch 18/20:\n"
          ]
        },
        {
          "name": "stderr",
          "output_type": "stream",
          "text": [
            "\n",
            "252it [01:04,  4.55it/s]"
          ]
        },
        {
          "name": "stdout",
          "output_type": "stream",
          "text": [
            " batch 250 loss: 0.3381762192249298\n",
            "Prediction logit mean: -28.148447036743164, std: 23.75655174255371, and max: 3.5313491821289062 and min: -589.8345336914062\n"
          ]
        },
        {
          "name": "stderr",
          "output_type": "stream",
          "text": [
            "500it [02:06,  4.56it/s]"
          ]
        },
        {
          "name": "stdout",
          "output_type": "stream",
          "text": [
            " batch 500 loss: 0.3501644217967987\n",
            "Prediction logit mean: -29.254968643188477, std: 24.002887725830078, and max: 3.5897560119628906 and min: -483.49359130859375\n"
          ]
        },
        {
          "name": "stderr",
          "output_type": "stream",
          "text": [
            "534it [02:15,  3.93it/s]"
          ]
        },
        {
          "name": "stdout",
          "output_type": "stream",
          "text": [
            "Epoch 18 average loss: 0.3429607815398706\n",
            "\n",
            "Epoch 19/20:\n"
          ]
        },
        {
          "name": "stderr",
          "output_type": "stream",
          "text": [
            "\n",
            "250it [01:03,  4.27it/s]"
          ]
        },
        {
          "name": "stdout",
          "output_type": "stream",
          "text": [
            " batch 250 loss: 0.3369924434423447\n",
            "Prediction logit mean: -22.910329818725586, std: 17.97422218322754, and max: 3.6612210273742676 and min: -324.09429931640625\n"
          ]
        },
        {
          "name": "stderr",
          "output_type": "stream",
          "text": [
            "501it [02:07,  4.64it/s]"
          ]
        },
        {
          "name": "stdout",
          "output_type": "stream",
          "text": [
            " batch 500 loss: 0.341284617125988\n",
            "Prediction logit mean: -28.79823112487793, std: 20.982397079467773, and max: 3.4950098991394043 and min: -384.25213623046875\n"
          ]
        },
        {
          "name": "stderr",
          "output_type": "stream",
          "text": [
            "534it [02:15,  3.94it/s]"
          ]
        },
        {
          "name": "stdout",
          "output_type": "stream",
          "text": [
            "Epoch 19 average loss: 0.33921993814046014\n",
            "\n",
            "Epoch 20/20:\n"
          ]
        },
        {
          "name": "stderr",
          "output_type": "stream",
          "text": [
            "\n",
            "252it [01:04,  4.97it/s]"
          ]
        },
        {
          "name": "stdout",
          "output_type": "stream",
          "text": [
            " batch 250 loss: 0.3265747077465057\n",
            "Prediction logit mean: -32.30827713012695, std: 27.45627212524414, and max: 3.956629753112793 and min: -308.2598571777344\n"
          ]
        },
        {
          "name": "stderr",
          "output_type": "stream",
          "text": [
            "500it [02:06,  4.58it/s]"
          ]
        },
        {
          "name": "stdout",
          "output_type": "stream",
          "text": [
            " batch 500 loss: 0.32814240860939026\n",
            "Prediction logit mean: -35.738399505615234, std: 27.27227020263672, and max: 3.6533751487731934 and min: -401.3647766113281\n"
          ]
        },
        {
          "name": "stderr",
          "output_type": "stream",
          "text": [
            "534it [02:15,  3.94it/s]"
          ]
        },
        {
          "name": "stdout",
          "output_type": "stream",
          "text": [
            "Epoch 20 average loss: 0.3274240518330635\n"
          ]
        },
        {
          "name": "stderr",
          "output_type": "stream",
          "text": [
            "\n"
          ]
        }
      ],
      "source": [
        "# Training loop\n",
        "import torchvision\n",
        "for epoch in range(num_epochs):\n",
        "    running_loss, last_loss = 0, 0\n",
        "    num_batches, epoch_loss = 0, 0\n",
        "    print(f'\\nEpoch {epoch + 1}/{num_epochs}:')\n",
        "    for i, sequence in tqdm(enumerate(train_loader)):\n",
        "\n",
        "        # Move data to device\n",
        "        frames, state = sequence['input']\n",
        "        out_frame = sequence['target']\n",
        "\n",
        "        # NOTE: Temp: mask out the sequences with no foreground #TODO remove if no improvement\n",
        "        B, T, C, H, W = frames.shape\n",
        "        nonzero_mask = frames.view(B, -1).any(dim=1)\n",
        "        frames = frames[nonzero_mask]\n",
        "        out_frame = out_frame[nonzero_mask]\n",
        "        state = state[nonzero_mask]\n",
        "\n",
        "        sequence['input'] = (frames.to(device), state.to(device))\n",
        "        sequence['target'] = out_frame.to(device)\n",
        "\n",
        "        # Zero gradients for every batch\n",
        "        optimizer.zero_grad()\n",
        "\n",
        "        # Compute the loss and its gradients\n",
        "        loss, pred  = model.loss(sequence)\n",
        "        loss.backward()\n",
        "\n",
        "        # Adjust learning weights\n",
        "        optimizer.step()\n",
        "\n",
        "        # print(pred.mean().item(), pred.std().item())\n",
        "        # Gather data and report\n",
        "        running_loss += loss.item()\n",
        "        if i % 250 == 249: # report loss every 1000 batches\n",
        "            last_loss = running_loss / 250 # loss per batch\n",
        "            print(' batch {} loss: {}'.format(i + 1, last_loss))\n",
        "            running_loss = 0\n",
        "            with torch.no_grad():\n",
        "                print(f'Prediction logit mean: {pred.mean().item()}, std: {pred.std().item()}, and max: {pred.max().item()} and min: {pred.min().item()}')\n",
        "\n",
        "\n",
        "        # Update counters for average epoch loss\n",
        "        epoch_loss += loss.item()\n",
        "        num_batches += 1 # changed from num_epochs to num_batches\n",
        "\n",
        "    print(f'Epoch {epoch + 1} average loss: {epoch_loss / num_batches}') # changed from num_epochs to num_batches\n"
      ]
    },
    {
      "cell_type": "markdown",
      "metadata": {
        "id": "-dz8ehjK2Tkf"
      },
      "source": [
        "### Testing:\n"
      ]
    },
    {
      "cell_type": "markdown",
      "metadata": {},
      "source": [
        "#### Testing model "
      ]
    },
    {
      "cell_type": "code",
      "execution_count": 104,
      "metadata": {},
      "outputs": [],
      "source": [
        "# Reimplemnt pose matrix to vector >:(\n",
        "\n",
        "def pose_vector_from_matrix(pose, seq_length):\n",
        "    \"\"\"\n",
        "    Convert 4x4 pose matrix (as a flattenned length 16 vector) into a position and quaternion length 7 vector.\n",
        "    \"\"\"\n",
        "    pose = pose.reshape(seq_length, 4, 4)\n",
        "    position = pose[:, :3, 3].reshape(seq_length, 3)\n",
        "    orientation = pose[:, :3, :3]\n",
        "\n",
        "    quat = R.from_matrix(orientation).as_quat().reshape(seq_length, 4)\n",
        "    norm_quat = quat / np.linalg.norm(quat)\n",
        "\n",
        "    return np.hstack((position, norm_quat))"
      ]
    },
    {
      "cell_type": "code",
      "execution_count": null,
      "metadata": {},
      "outputs": [],
      "source": [
        "# Load noisy sequence\n",
        "path_to_sequence = 'processed_flow/test3/inputs'\n",
        "sequence_start = 2559 #2559\n",
        "sequence = torch.zeros((seq_length, 1, 480, 848))\n",
        "\n",
        "for i in range(seq_length):\n",
        "    idx = sequence_start + i\n",
        "    img = io.imread(os.path.join(path_to_sequence, f'frame{idx:05d}.png'))\n",
        "    img = torch.from_numpy((img[..., 0] > 127).astype(np.float32))\n",
        "    sequence[i] = img\n",
        "\n",
        "transform = transforms.Resize((256, 256))\n",
        "sequence = transform(sequence)\n",
        "sequence = sequence.unsqueeze(0).float() # Add batch dimension\n",
        "\n",
        "\n",
        "# Load pose and twist\n",
        "pose = pd.read_csv(os.path.join(path_to_sequence, 'bd_poses.csv')).to_numpy()[sequence_start:sequence_start + seq_length, :]\n",
        "pose = pose_vector_from_matrix(pose, seq_length)\n",
        "twist = pd.read_csv(os.path.join(path_to_sequence, 'bd_twists.csv')).to_numpy()[sequence_start:sequence_start + seq_length, :]\n",
        "state = torch.from_numpy(np.hstack((pose, twist)))\n",
        "state = state.unsqueeze(0).float() # Add batch dimension\n",
        "\n",
        "# Make dummy output\n",
        "out_seq = torch.zeros_like(sequence)\n",
        "\n",
        "# Build input dict\n",
        "datapoint = {'input': (sequence.to(device), state.to(device)), 'target': out_seq.to(device)}\n",
        "\n",
        "# Save og image for plotting\n",
        "og_image = sequence[0, -1, 0, :, :].detach().numpy().copy()\n",
        "target = out_seq[0, -1, 0, :, :].detach().numpy().copy()\n"
      ]
    },
    {
      "cell_type": "code",
      "execution_count": null,
      "metadata": {},
      "outputs": [],
      "source": [
        "# Test model\n",
        "model.eval()\n",
        "_, pred_frame = model.loss(datapoint)\n"
      ]
    },
    {
      "cell_type": "code",
      "execution_count": null,
      "metadata": {},
      "outputs": [
        {
          "data": {
            "text/plain": [
              "<matplotlib.image.AxesImage at 0x7d6a63085c00>"
            ]
          },
          "execution_count": 117,
          "metadata": {},
          "output_type": "execute_result"
        },
        {
          "data": {
            "image/png": "[encoded data removed]",
            "text/plain": [
              "<Figure size 640x480 with 1 Axes>"
            ]
          },
          "metadata": {},
          "output_type": "display_data"
        }
      ],
      "source": [
        "# Plot output frame\n",
        "plt.imshow(og_image)"
      ]
    },
    {
      "cell_type": "code",
      "execution_count": null,
      "metadata": {},
      "outputs": [
        {
          "data": {
            "text/plain": [
              "tensor(0.9770, device='cuda:0', grad_fn=<MaxBackward1>)"
            ]
          },
          "execution_count": 118,
          "metadata": {},
          "output_type": "execute_result"
        },
        {
          "data": {
            "image/png": "[encoded data removed]",
            "text/plain": [
              "<Figure size 640x480 with 1 Axes>"
            ]
          },
          "metadata": {},
          "output_type": "display_data"
        }
      ],
      "source": [
        "prob_pred_frame = torch.sigmoid(pred_frame)\n",
        "out = (prob_pred_frame > 0.5).to(torch.float32)\n",
        "plt.imshow(out[0, 0, :, :].cpu().detach().numpy())\n",
        "out.max()\n",
        "prob_pred_frame.max()"
      ]
    },
    {
      "cell_type": "code",
      "execution_count": null,
      "metadata": {},
      "outputs": [
        {
          "data": {
            "text/plain": [
              "<matplotlib.image.AxesImage at 0x7d6a631154e0>"
            ]
          },
          "execution_count": 109,
          "metadata": {},
          "output_type": "execute_result"
        },
        {
          "data": {
            "image/png": "[encoded data removed]",
            "text/plain": [
              "<Figure size 640x480 with 1 Axes>"
            ]
          },
          "metadata": {},
          "output_type": "display_data"
        }
      ],
      "source": [
        "# Actual gt\n",
        "path_to_sequence = 'processed_flow/test3/targets'\n",
        "idx = sequence_start + 4\n",
        "img = io.imread(os.path.join(path_to_sequence, f'frame{idx:05d}.png'))\n",
        "plt.imshow(img)"
      ]
    },
    {
      "cell_type": "code",
      "execution_count": null,
      "metadata": {},
      "outputs": [
        {
          "data": {
            "text/plain": [
              "<matplotlib.image.AxesImage at 0x7d6a6323a710>"
            ]
          },
          "execution_count": 110,
          "metadata": {},
          "output_type": "execute_result"
        },
        {
          "data": {
            "image/png": "[encoded data removed]",
            "text/plain": [
              "<Figure size 640x480 with 1 Axes>"
            ]
          },
          "metadata": {},
          "output_type": "display_data"
        }
      ],
      "source": [
        "# Actual gt\n",
        "path_to_sequence = 'processed_flow/test1/inputs'\n",
        "sequence_start = 1500\n",
        "idx = sequence_start + 4\n",
        "img = io.imread(os.path.join(path_to_sequence, f'frame{idx:05d}.png'))\n",
        "plt.imshow(img)"
      ]
    },
    {
      "cell_type": "code",
      "execution_count": null,
      "metadata": {},
      "outputs": [
        {
          "data": {
            "text/plain": [
              "<matplotlib.image.AxesImage at 0x7d6a6375f640>"
            ]
          },
          "execution_count": 85,
          "metadata": {},
          "output_type": "execute_result"
        },
        {
          "data": {
            "image/png": "[encoded data removed]",
            "text/plain": [
              "<Figure size 640x480 with 1 Axes>"
            ]
          },
          "metadata": {},
          "output_type": "display_data"
        }
      ],
      "source": [
        "# Actual gt\n",
        "path_to_sequence = 'processed_flow/test1/targets'\n",
        "idx = sequence_start + 4\n",
        "img = io.imread(os.path.join(path_to_sequence, f'frame{idx:05d}.png'))\n",
        "plt.imshow(img)"
      ]
    },
    {
      "cell_type": "markdown",
      "metadata": {},
      "source": [
        "#### Testing dataloader"
      ]
    },
    {
      "cell_type": "code",
      "execution_count": 20,
      "metadata": {
        "id": "nZa-MdYC2Tkf",
        "outputId": "eb6f4cf0-79a1-401b-aa9e-35896221207f"
      },
      "outputs": [
        {
          "name": "stderr",
          "output_type": "stream",
          "text": [
            "100%|██████████| 7/7 [00:00<00:00, 169.65it/s]\n"
          ]
        }
      ],
      "source": [
        "batch_size = 1\n",
        "dataset = VideoDataset(path_to_data, augmented=augmented, num_vids=7, seq_length=seq_length, img_size=img_size)\n",
        "loader = DataLoader(dataset, batch_size=batch_size, shuffle=True, num_workers=0) #NOTE: num_workers is the number of extra processes running in parallel retrieving the data\n",
        "counter = 0\n",
        "for datapoint in loader:\n",
        "    # found_one = False\n",
        "    # features = datapoint['input']\n",
        "    # labels = datapoint['target']\n",
        "    if counter > 1:\n",
        "        break\n",
        "    counter += 1\n",
        "    # for i in range(batch_size):\n",
        "    #     image = features[0][i]\n",
        "    #     if counter > 1502:\n",
        "    #         found_one = True\n",
        "    #         break\n",
        "    #     counter += 1\n",
        "\n",
        "    # if found_one:\n",
        "    #     break\n",
        "\n",
        "# counter\n",
        "# len(datapoint)\n",
        "in_frame = datapoint['input'][0][0, -1, 0, :, :]\n",
        "out_frame = datapoint['target'][0, -1, 0, :, :]\n",
        "# datapoint['input'][:, 0, :, :, :, 1]\n",
        "# counter"
      ]
    },
    {
      "cell_type": "code",
      "execution_count": null,
      "metadata": {},
      "outputs": [],
      "source": [
        "# Use transforms to resize images\n",
        "# This is an example, but it must actually be performed before feeding image data to encoder\n",
        "# For the augmented tensor the image is already resized inside the dataloader\n",
        "\n",
        "sequence = next(iter(loader))\n",
        "if augmented:\n",
        "    input, target = sequence['input'], sequence['target']\n",
        "    print(f'Tensor shape should be: [{batch_size, seq_length, 1, img_size, img_size, 14}] and is: {input.shape}')\n",
        "else:\n",
        "\n",
        "    features = sequence\n",
        "    image = features['input'][0]\n",
        "    input, target = features['input'], features['target']\n",
        "    print(f'\\nBatched image shape should be: [{batch_size, seq_length, 1, img_size, img_size}] and is: {image.shape}')\n"
      ]
    },
    {
      "cell_type": "code",
      "execution_count": null,
      "metadata": {
        "id": "mRfSgW0p2Tkf"
      },
      "outputs": [
        {
          "name": "stdout",
          "output_type": "stream",
          "text": [
            "tensor(1.0000)\n"
          ]
        },
        {
          "data": {
            "text/plain": [
              "<matplotlib.image.AxesImage at 0x7aa500335930>"
            ]
          },
          "execution_count": 77,
          "metadata": {},
          "output_type": "execute_result"
        },
        {
          "data": {
            "image/png": "[encoded data removed]",
            "text/plain": [
              "<Figure size 640x480 with 1 Axes>"
            ]
          },
          "metadata": {},
          "output_type": "display_data"
        }
      ],
      "source": [
        "print(in_frame.max())\n",
        "plt.imshow(in_frame)"
      ]
    },
    {
      "cell_type": "code",
      "execution_count": null,
      "metadata": {},
      "outputs": [
        {
          "name": "stdout",
          "output_type": "stream",
          "text": [
            "tensor(1.0000)\n"
          ]
        },
        {
          "data": {
            "text/plain": [
              "<matplotlib.image.AxesImage at 0x7aa59c39a800>"
            ]
          },
          "execution_count": 76,
          "metadata": {},
          "output_type": "execute_result"
        },
        {
          "data": {
            "image/png": "[encoded data removed]",
            "text/plain": [
              "<Figure size 640x480 with 1 Axes>"
            ]
          },
          "metadata": {},
          "output_type": "display_data"
        }
      ],
      "source": [
        "print(out_frame.max())\n",
        "plt.imshow(out_frame)"
      ]
    },
    {
      "cell_type": "code",
      "execution_count": null,
      "metadata": {
        "id": "P0SzUPJU2Tkf",
        "outputId": "398eee74-d583-4ca5-8102-93dd9065eb11"
      },
      "outputs": [
        {
          "data": {
            "text/plain": [
              "1503"
            ]
          },
          "execution_count": 73,
          "metadata": {},
          "output_type": "execute_result"
        }
      ],
      "source": [
        "features[0].shape\n",
        "counter"
      ]
    },
    {
      "cell_type": "code",
      "execution_count": null,
      "metadata": {
        "id": "aOc07DAT2Tkf",
        "outputId": "c0f6ffe5-c145-41f9-887f-a9beb2d83470"
      },
      "outputs": [
        {
          "data": {
            "text/plain": [
              "tensor([-1.3603,  0.6753,  2.2040,  0.0300,  0.0131,  0.1257,  0.9915])"
            ]
          },
          "execution_count": 74,
          "metadata": {},
          "output_type": "execute_result"
        }
      ],
      "source": [
        "pose = features[1]\n",
        "pose[28]"
      ]
    },
    {
      "cell_type": "markdown",
      "metadata": {
        "id": "ZOc_mFio2Tkf"
      },
      "source": [
        "#### Testing interpolated twist"
      ]
    },
    {
      "cell_type": "code",
      "execution_count": null,
      "metadata": {
        "id": "UdtoDN912Tkf",
        "outputId": "e0f2c3c1-f8df-4d04-c59c-d542ce8d9397"
      },
      "outputs": [
        {
          "data": {
            "image/png": "[encoded data removed]",
            "text/plain": [
              "<Figure size 640x480 with 1 Axes>"
            ]
          },
          "metadata": {},
          "output_type": "display_data"
        }
      ],
      "source": [
        "features[1]\n",
        "twist = features[2]\n",
        "\n",
        "plt.plot(pose[:, 0])\n",
        "plt.plot(twist[:, 0])\n",
        "plt.legend([\"pos_x\", \"vel_x\"])\n",
        "plt.show()"
      ]
    },
    {
      "cell_type": "code",
      "execution_count": null,
      "metadata": {
        "id": "2fOHwKEl2Tkg",
        "outputId": "fdf4a3a1-9715-43b8-b655-d393fb342bad"
      },
      "outputs": [
        {
          "data": {
            "text/plain": [
              "<matplotlib.image.AxesImage at 0x7aa6d1ed3190>"
            ]
          },
          "execution_count": 67,
          "metadata": {},
          "output_type": "execute_result"
        },
        {
          "data": {
            "image/png": "[encoded data removed]",
            "text/plain": [
              "<Figure size 640x480 with 1 Axes>"
            ]
          },
          "metadata": {},
          "output_type": "display_data"
        }
      ],
      "source": [
        "image = features[0][28]\n",
        "image.max()\n",
        "plt.imshow(image)"
      ]
    },
    {
      "cell_type": "code",
      "execution_count": null,
      "metadata": {
        "id": "okyO-UJw2Tkg",
        "outputId": "efe99c9b-9cf0-48c0-d2fd-800bf73fb1ff"
      },
      "outputs": [
        {
          "data": {
            "text/plain": [
              "torch.Size([32, 256, 256])"
            ]
          },
          "execution_count": 43,
          "metadata": {},
          "output_type": "execute_result"
        }
      ],
      "source": []
    }
  ],
  "metadata": {
    "colab": {
      "provenance": []
    },
    "kernelspec": {
      "display_name": "rdp_venv",
      "language": "python",
      "name": "python3"
    },
    "language_info": {
      "codemirror_mode": {
        "name": "ipython",
        "version": 3
      },
      "file_extension": ".py",
      "mimetype": "text/x-python",
      "name": "python",
      "nbconvert_exporter": "python",
      "pygments_lexer": "ipython3",
      "version": "3.10.12"
    }
  },
  "nbformat": 4,
  "nbformat_minor": 0
}
