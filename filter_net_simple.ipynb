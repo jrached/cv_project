{
  "cells": [
    {
      "cell_type": "markdown",
      "metadata": {
        "id": "Fa2szzXO2TkX"
      },
      "source": [
        "### FilterNet\n",
        "A neural network for filtering out gaussian noise from an image introduced by aggressive accelerations on the vehicle carrying the camera."
      ]
    },
    {
      "cell_type": "code",
      "execution_count": 1,
      "metadata": {
        "id": "NnM9R8Ai2Tka"
      },
      "outputs": [],
      "source": [
        "import os\n",
        "import torch\n",
        "import torch.nn as nn\n",
        "import numpy as np\n",
        "import pandas as pd\n",
        "from scipy.spatial.transform import Rotation as R\n",
        "import matplotlib.pyplot as plt\n",
        "from skimage import io, transform\n",
        "from PIL import Image\n",
        "from torch.utils.data import Dataset, DataLoader, random_split\n",
        "from torchvision import transforms, utils\n",
        "from typing import List, Dict, Tuple\n",
        "from tqdm import tqdm"
      ]
    },
    {
      "cell_type": "markdown",
      "metadata": {
        "id": "_sve0geD2Tkb"
      },
      "source": [
        "### Dataset Class and Dataloader"
      ]
    },
    {
      "cell_type": "code",
      "execution_count": 2,
      "metadata": {
        "id": "nZQXyVbA2Tkb"
      },
      "outputs": [],
      "source": [
        "# Set device to cuda\n",
        "device = torch.device('cuda:0')\n",
        "\n",
        "# Create dataset class\n",
        "class VideoDataset(Dataset):\n",
        "    def __init__(self, path_to_data, augmented=False, num_vids=7, seq_length=5, img_size=256):\n",
        "        \"\"\"\n",
        "        Go through each video folder and build a map from\n",
        "        index i in range [0, N], where N is the total number\n",
        "        of frames in all the videos, to a tuple (j, k), where\n",
        "        j is the video number and k the frame index in that\n",
        "        video. For reference, the videos are stored in the\n",
        "        dataset as:\n",
        "\n",
        "        data:\n",
        "        - test1:\n",
        "          - inputs:\n",
        "            - bd_poses.csv\n",
        "            - bd_twists.csv\n",
        "            - frame0000.png\n",
        "            - frame0001.png\n",
        "            - ...\n",
        "          - targets:\n",
        "            - frame0000.png\n",
        "            - frame0001.png\n",
        "            - ...\n",
        "        - test2:\n",
        "            - ...\n",
        "        - ...\n",
        "        \"\"\"\n",
        "        self.img_size = img_size\n",
        "        self.seq_length = seq_length\n",
        "        self.augmented = augmented\n",
        "        self.num_vids = num_vids\n",
        "        self.path_to_data = path_to_data\n",
        "        self.idx_map: List[Tuple[int, int]] = []\n",
        "        self.poses: Dict[int, np.ndarray] = {}\n",
        "        self.twists: Dict[int, np.ndarray] = {}\n",
        "        for i in tqdm(range(1, self.num_vids + 1)):\n",
        "            # Define path to pose\n",
        "            pose_path = os.path.join(path_to_data, f'test{i}/inputs/bd_poses.csv')\n",
        "            twist_path = os.path.join(path_to_data, f'test{i}/inputs/bd_twists.csv')\n",
        "\n",
        "            # Check that files were opened properly\n",
        "            if not os.path.isfile(pose_path):\n",
        "                raise FileNotFoundError(f\"Missing pose file: {pose_path}\")\n",
        "            if not os.path.isfile(twist_path):\n",
        "                raise FileNotFoundError(f\"Missing twist file: {twist_path}\")\n",
        "\n",
        "            # Get poses\n",
        "            self.poses[i] = pd.read_csv(pose_path).to_numpy()\n",
        "            self.twists[i] = pd.read_csv(twist_path).to_numpy()\n",
        "\n",
        "            # Get number of sequences in this video: num_frames - (seq_length - 1)\n",
        "            num_sequences = (self.poses[i].shape[0] - 1) - (self.seq_length - 1)\n",
        "\n",
        "            # Update index map\n",
        "            video_num = [i] * num_sequences\n",
        "            frame_idx = list(range(0, num_sequences))\n",
        "            self.idx_map.extend(list(zip(video_num, frame_idx)))\n",
        "\n",
        "        self.total_num_sequences = len(self.idx_map)\n",
        "\n",
        "    def __len__(self):\n",
        "        \"\"\"\n",
        "        Return length of dataset as computed in __init__() function.\n",
        "        \"\"\"\n",
        "        return self.total_num_sequences\n",
        "\n",
        "    def __getitem__(self, idx):\n",
        "        \"\"\"\n",
        "        Use map built in __init__() to retrieve the image,\n",
        "        pose, and twist directly from the dataset.\n",
        "        This avoids loading the entire dataset which\n",
        "        overwhelms RAM.\n",
        "        \"\"\"\n",
        "        assert idx < self.total_num_sequences\n",
        "        if torch.is_tensor(idx):\n",
        "            idx = idx.tolist()\n",
        "\n",
        "        seq_start = True\n",
        "        for i in range(self.seq_length):\n",
        "            # Define path to data\n",
        "            test_idx, frame_idx = self.idx_map[idx]\n",
        "            frame_idx += i\n",
        "            padded_frame_idx = self.to_zero_pad_idx(frame_idx)\n",
        "            input_img_path = os.path.join(self.path_to_data,\n",
        "                                    f'test{test_idx}/inputs/frame{padded_frame_idx}.png')\n",
        "            output_img_path = os.path.join(self.path_to_data,\n",
        "                                    f'test{test_idx}/targets/frame{padded_frame_idx}.png')\n",
        "\n",
        "            # Debug:\n",
        "            # print(f'\\ntest idx, frame idx: {test_idx, frame_idx}')\n",
        "\n",
        "            # Load and process data\n",
        "            input_frame = io.imread(input_img_path)\n",
        "            output_frame = io.imread(output_img_path)\n",
        "            input_frame = torch.from_numpy(self.to_grayscale(input_frame)).float()\n",
        "            output_frame = torch.from_numpy(self.to_grayscale(output_frame)).float()\n",
        "            pose = self.poses[test_idx][frame_idx]\n",
        "            pose = torch.from_numpy(self.pose_vector_from_matrix(pose).reshape(-1, 1)).float()\n",
        "            twist = torch.from_numpy(self.twists[test_idx][frame_idx].reshape(-1, 1)).float()\n",
        "            state = torch.cat((pose, twist), dim=0).view(-1)\n",
        "\n",
        "            # Resize frames\n",
        "            h, w = self.img_size, self.img_size\n",
        "            resize_frame = transforms.Resize((h, w))\n",
        "            output_frame = resize_frame(output_frame.unsqueeze(0))\n",
        "            input_frame = resize_frame(input_frame.unsqueeze(0))\n",
        "\n",
        "            if not self.augmented:\n",
        "                # Initialize sequence\n",
        "                if seq_start:\n",
        "                    in_frame_seq = torch.zeros_like(input_frame).view(1, 1, h, w).repeat((self.seq_length, 1, 1, 1))\n",
        "                    out_frame_seq = torch.zeros_like(output_frame).view(1, 1, h, w).repeat((self.seq_length, 1, 1, 1))\n",
        "                    state_seq = torch.zeros_like(state).unsqueeze(0).repeat((self.seq_length, 1))\n",
        "                    seq_start = False\n",
        "\n",
        "                # Update sequence\n",
        "                in_frame_seq[i] = input_frame.view(1, h, w)\n",
        "                out_frame_seq[i] = output_frame.view(1, h, w)\n",
        "                state_seq[i] = state\n",
        "\n",
        "            # If we want a broadcasted frame, pose, twist tensor of shape (B, T, 1, H, W, 14)\n",
        "            else:\n",
        "                expanded_frame = input_frame.view(1, h, w, 1)\n",
        "                expanded_state = state.view(1, 1, 1, -1).repeat(1, h, w, 1)\n",
        "                augmented_frame = torch.cat((expanded_frame, expanded_state), dim=-1)\n",
        "\n",
        "                # Initialize augmented sequence\n",
        "                if seq_start:\n",
        "                    aug_seq_in = torch.zeros_like(augmented_frame).unsqueeze(0).repeat((self.seq_length, 1, 1, 1, 1))\n",
        "                    aug_seq_out = torch.zeros_like(output_frame).unsqueeze(0).repeat((self.seq_length, 1, 1, 1))\n",
        "                    seq_start = False\n",
        "\n",
        "                # Update augmented sequence\n",
        "                aug_seq_in[i] = augmented_frame\n",
        "                aug_seq_out[i] = output_frame\n",
        "\n",
        "        return {'input': (in_frame_seq, state_seq), 'target': out_frame_seq} if not self.augmented else {'input': aug_seq_in, 'target': aug_seq_out}\n",
        "\n",
        "    def to_zero_pad_idx(self, idx):\n",
        "        \"\"\"\n",
        "        Convert frame index from regular index to zero-padded index.\n",
        "        e.g. 1 -> 00001, 12 -> 00012\n",
        "        \"\"\"\n",
        "        return f'{idx:05d}'\n",
        "\n",
        "    def pose_vector_from_matrix(self, pose):\n",
        "        \"\"\"\n",
        "        Convert 4x4 pose matrix (as a flattenned length 16 vector) into a position and quaternion length 7 vector.\n",
        "        \"\"\"\n",
        "        pose = pose.reshape(4, 4)\n",
        "        position = pose[:3, 3].reshape(3, 1)\n",
        "        orientation = pose[:3, :3]\n",
        "\n",
        "        quat = R.from_matrix(orientation).as_quat().reshape(-1, 1)\n",
        "        norm_quat = quat / np.linalg.norm(quat)\n",
        "\n",
        "        return np.vstack((position, norm_quat)).reshape(-1)\n",
        "\n",
        "    def to_grayscale(self, image):\n",
        "        \"\"\"\n",
        "        Convert PNG image to grayscale mask\n",
        "        \"\"\"\n",
        "        #TODO: Try float16 type\n",
        "        return (image[..., 0] > 127).astype(np.float32)\n"
      ]
    },
    {
      "cell_type": "code",
      "execution_count": 3,
      "metadata": {},
      "outputs": [],
      "source": [
        "\n",
        "import torch.nn.functional as F\n",
        "\n",
        "# Utility function to safely reshape even with empty batch\n",
        "def safe_view(tensor, shape):\n",
        "    if 0 in shape:\n",
        "        return torch.zeros(shape, device=tensor.device, dtype=tensor.dtype)\n",
        "    return tensor.view(*shape)\n",
        "\n",
        "class PoseEncoder(nn.Module):\n",
        "    def __init__(self, pose_dim=13, hidden_dim=64, output_dim=128):\n",
        "        super().__init__()\n",
        "        self.encoder = nn.Sequential(\n",
        "            nn.Linear(pose_dim, hidden_dim),\n",
        "            nn.ReLU(),\n",
        "            nn.Linear(hidden_dim, hidden_dim),\n",
        "            nn.ReLU(),\n",
        "            nn.Linear(hidden_dim, output_dim)\n",
        "        )\n",
        "        self.output_dim = output_dim\n",
        "\n",
        "    def forward(self, pose):\n",
        "        B, T, _ = pose.shape\n",
        "        if B == 0 or T == 0:\n",
        "            return torch.zeros((B, T, self.output_dim), device=pose.device, dtype=pose.dtype)\n",
        "        pose_flat = pose.view(B * T, -1)\n",
        "        features = self.encoder(pose_flat)\n",
        "        return features.view(B, T, -1)\n",
        "\n",
        "class SpatialAttention(nn.Module):\n",
        "    def __init__(self, in_channels):\n",
        "        super().__init__()\n",
        "        self.conv1 = nn.Conv2d(in_channels, in_channels // 8, 1)\n",
        "        self.conv2 = nn.Conv2d(in_channels // 8, 1, 1)\n",
        "        self.sigmoid = nn.Sigmoid()\n",
        "\n",
        "    def forward(self, x):\n",
        "        attention = F.relu(self.conv1(x))\n",
        "        attention = self.sigmoid(self.conv2(attention))\n",
        "        return x * attention\n",
        "\n",
        "class TemporalBlock(nn.Module):\n",
        "    def __init__(self, in_channels, out_channels, kernel_size=(3, 3, 3), stride=1, padding=1):\n",
        "        super().__init__()\n",
        "        self.conv3d = nn.Conv3d(in_channels, out_channels, kernel_size, stride, padding)\n",
        "        self.bn = nn.BatchNorm3d(out_channels)\n",
        "        self.relu = nn.ReLU()\n",
        "        self.spatial_attention = SpatialAttention(out_channels)\n",
        "\n",
        "    def forward(self, x):\n",
        "        x = self.relu(self.bn(self.conv3d(x)))\n",
        "        B, C, T, H, W = x.shape\n",
        "        if B == 0 or T == 0:\n",
        "            return torch.zeros((B, C, T, H, W), device=x.device, dtype=x.dtype)\n",
        "        x_reshaped = x.permute(0, 2, 1, 3, 4).contiguous().view(B * T, C, H, W)\n",
        "        x_attended = self.spatial_attention(x_reshaped)\n",
        "        x = safe_view(x_attended, (B, T, C, H, W)).permute(0, 2, 1, 3, 4)\n",
        "        return x\n",
        "\n",
        "class PoseGuidedFusion(nn.Module):\n",
        "    def __init__(self, visual_channels, pose_features, output_channels):\n",
        "        super().__init__()\n",
        "        self.pose_proj = nn.Linear(pose_features, visual_channels)\n",
        "        self.fusion_conv = nn.Conv2d(visual_channels * 2, output_channels, 1)\n",
        "        self.out_channels = output_channels\n",
        "\n",
        "    def forward(self, visual_features, pose_features):\n",
        "        B, C, T, H, W = visual_features.shape\n",
        "        if B == 0 or T == 0:\n",
        "            return torch.zeros((B, self.out_channels, T, H, W), device=visual_features.device, dtype=visual_features.dtype)\n",
        "        pose_proj = self.pose_proj(pose_features).unsqueeze(-1).unsqueeze(-1).expand(-1, -1, -1, H, W)\n",
        "        visual_flat = visual_features.permute(0, 2, 1, 3, 4).contiguous().view(B * T, C, H, W)\n",
        "        pose_flat = pose_proj.contiguous().view(B * T, C, H, W)\n",
        "        fused = torch.cat([visual_flat, pose_flat], dim=1)\n",
        "        output = self.fusion_conv(fused)\n",
        "        output = safe_view(output, (B, T, -1, H, W)).permute(0, 2, 1, 3, 4)\n",
        "        return output\n",
        "\n",
        "class FilterNet(nn.Module):\n",
        "    def __init__(self, input_shape=(256, 256), pose_dim=13, hidden_channels=64):\n",
        "        super().__init__()\n",
        "        self.input_shape = input_shape\n",
        "        self.pose_dim = pose_dim\n",
        "        self.hidden_channels = hidden_channels\n",
        "\n",
        "        self.pose_encoder = PoseEncoder(pose_dim, 64, 128)\n",
        "        self.encoder1 = TemporalBlock(1, hidden_channels)\n",
        "        self.encoder2 = TemporalBlock(hidden_channels, hidden_channels * 2)\n",
        "        self.encoder3 = TemporalBlock(hidden_channels * 2, hidden_channels * 4)\n",
        "        self.pose_fusion = PoseGuidedFusion(hidden_channels * 4, 128, hidden_channels * 4)\n",
        "        self.bottleneck = TemporalBlock(hidden_channels * 4, hidden_channels * 8)\n",
        "        self.decoder3 = TemporalBlock(hidden_channels * 8 + hidden_channels * 4, hidden_channels * 4)\n",
        "        self.decoder2 = TemporalBlock(hidden_channels * 4 + hidden_channels * 2, hidden_channels * 2)\n",
        "        self.decoder1 = TemporalBlock(hidden_channels * 2 + hidden_channels, hidden_channels)\n",
        "        self.output_conv = nn.Conv3d(hidden_channels, 1, kernel_size=(1, 1, 1))\n",
        "        self.sigmoid = nn.Sigmoid()\n",
        "        self.pool = nn.MaxPool3d(kernel_size=(1, 2, 2), stride=(1, 2, 2))\n",
        "\n",
        "    def forward(self, video_masks, pose_info):\n",
        "        B, T, C, H, W = video_masks.shape\n",
        "        if B == 0 or T == 0:\n",
        "            return torch.zeros((B, T, 1, H, W), device=video_masks.device, dtype=video_masks.dtype)\n",
        "\n",
        "        x = video_masks.permute(0, 2, 1, 3, 4)\n",
        "        pose_features = self.pose_encoder(pose_info)\n",
        "\n",
        "        enc1 = self.encoder1(x)\n",
        "        x_pool1 = self.pool(enc1)\n",
        "        enc2 = self.encoder2(x_pool1)\n",
        "        x_pool2 = self.pool(enc2)\n",
        "        enc3 = self.encoder3(x_pool2)\n",
        "        x_pool3 = self.pool(enc3)\n",
        "\n",
        "        enc3_fused = self.pose_fusion(enc3, pose_features)\n",
        "        bottleneck = self.bottleneck(x_pool3)\n",
        "\n",
        "        up3 = F.interpolate(bottleneck, size=(T, H // 4, W // 4), mode='trilinear', align_corners=False)\n",
        "        dec3 = torch.cat([up3, enc3_fused], dim=1)\n",
        "        dec3 = self.decoder3(dec3)\n",
        "\n",
        "        up2 = F.interpolate(dec3, size=(T, H // 2, W // 2), mode='trilinear', align_corners=False)\n",
        "        dec2 = torch.cat([up2, enc2], dim=1)\n",
        "        dec2 = self.decoder2(dec2)\n",
        "\n",
        "        up1 = F.interpolate(dec2, size=(T, H, W), mode='trilinear', align_corners=False)\n",
        "        dec1 = torch.cat([up1, enc1], dim=1)\n",
        "        dec1 = self.decoder1(dec1)\n",
        "\n",
        "        output = self.output_conv(dec1)\n",
        "        output = self.sigmoid(output)\n",
        "        output = output.permute(0, 2, 1, 3, 4)\n",
        "        return output\n",
        "\n",
        "    def loss(self, sequence):\n",
        "        frames, state = sequence['input']\n",
        "        target = sequence['target']\n",
        "        B = frames.shape[0]\n",
        "        if B == 0:\n",
        "            return torch.tensor(0.0, device=frames.device, requires_grad=True), torch.zeros_like(target)\n",
        "\n",
        "        pred = self.forward(frames, state)\n",
        "        target = torch.clamp(target, 0, 1)\n",
        "\n",
        "        bce_loss = F.binary_cross_entropy(pred, target)\n",
        "        intersection = (pred * target).sum()\n",
        "        dice_loss = 1 - (2 * intersection + 1) / (pred.sum() + target.sum() + 1)\n",
        "        temporal_diff = torch.abs(pred[:, 1:] - pred[:, :-1])\n",
        "        temporal_loss = temporal_diff.mean()\n",
        "\n",
        "        total_loss = bce_loss + 0.5 * dice_loss + 0.1 * temporal_loss\n",
        "        return total_loss, pred\n"
      ]
    },
    {
      "cell_type": "markdown",
      "metadata": {
        "id": "CWqqQFt_2Tkc"
      },
      "source": [
        "### Submodules\n",
        "\n",
        "Here are the Encoders, Decoder, and LSTM"
      ]
    },
    {
      "cell_type": "code",
      "execution_count": 5,
      "metadata": {
        "id": "FDZEvwW82Tkd"
      },
      "outputs": [],
      "source": [
        "# Write classes for compression networks\n",
        "\n",
        "#TODO: Try a conv3d encoder. conv3d layers encode temporal information. (Alternative to LSTM). An alternative to the current pipeline would\n",
        "# be to use the augmented data tensor (without compressing it) and a conv3d layer to process the (T, B, 1, H, W, 14) input. Which would need to be\n",
        "#reshaped to (B, 1, T, H, W, 14). I wouldn't know what to do with the state dimension. Treat them as channels (image, pose, twist)? Flatten them with the sequence dim?\n",
        "\n",
        "class ImgEncoder(nn.Module):\n",
        "    def __init__(self, in_channel=1, hidden_channel=16, out_channel=32, h_in=256, out_dim=1024):\n",
        "        \"\"\"\n",
        "        Define convolutional neural network architecture for compressing a 256 x 256 image into a 1024 embedding vector.\n",
        "        Assumes image is square.\n",
        "        \"\"\"\n",
        "        super().__init__()\n",
        "\n",
        "        # Compute image shape after convolution\n",
        "        stride = 2\n",
        "        padding_one, padding_two = 7, 1\n",
        "        num_ker_one, num_ker_two = 16, 4\n",
        "        h_out = (h_in + 2 * padding_one - num_ker_one) // stride + 1\n",
        "        h_out = (h_out + 2 * padding_two - num_ker_two) // stride + 1\n",
        "\n",
        "        # Define CNN\n",
        "        linear_in_dim = out_channel * h_out ** 2\n",
        "        linear_out_dim = out_dim\n",
        "        self.conv_stack = nn.Sequential(\n",
        "                            nn.Conv2d(in_channel, hidden_channel, num_ker_one, stride=stride, padding=padding_one), # h_in, w_in = (256, 256); h_out, w_out = (128, 128)\n",
        "                            nn.ReLU(),\n",
        "                            nn.Conv2d(hidden_channel, out_channel, num_ker_two, stride=stride, padding=padding_two), # h_in, w_in = (128, 128); h_out, w_out = (64, 64)\n",
        "                            nn.ReLU(),\n",
        "                            nn.Flatten(start_dim=1, end_dim=-1), # Flattens (c_out, h_out, w_out) = (32, 64, 64) into 131072\n",
        "                            nn.Linear(linear_in_dim, linear_out_dim) # Encodes the 131072 length flattened convolved image into a 1024 length embedding vector\n",
        "        )\n",
        "\n",
        "    def forward(self, x):\n",
        "        \"\"\"\n",
        "        Define neural network forward pass\n",
        "        Input has shape (T, B, 1, H, W)\n",
        "        \"\"\"\n",
        "        return self.conv_stack(x[-1])\n",
        "\n",
        "class ImgSeqEncoder(nn.Module):\n",
        "    def __init__(self, in_channel=1, hidden_channel=16, out_channel=32, h_in=256, out_dim=1024):\n",
        "        \"\"\"\n",
        "        Define convolutional neural network architecture for compressing a SEQUENCE of 256 x 256 images into a 1024 embedding vector.\n",
        "        Assumes image is square.\n",
        "        \"\"\"\n",
        "        super().__init__()\n",
        "\n",
        "        # Compute image shape after convolution\n",
        "        stride = 2\n",
        "        padding_one, padding_two = 7, 1\n",
        "        num_ker_one, num_ker_two = 16, 4\n",
        "        h_out = (h_in + 2 * padding_one - num_ker_one) // stride + 1\n",
        "        h_out = (h_out + 2 * padding_two - num_ker_two) // stride + 1\n",
        "\n",
        "        # Define CNN\n",
        "        linear_in_dim = out_channel * h_out ** 2\n",
        "        linear_out_dim = out_dim\n",
        "        self.conv_stack = nn.Sequential(\n",
        "                            nn.Conv2d(in_channel, hidden_channel, num_ker_one, stride=stride, padding=padding_one), # h_in, w_in = (256, 256); h_out, w_out = (128, 128)\n",
        "                            nn.ReLU(),\n",
        "                            nn.Conv2d(hidden_channel, out_channel, num_ker_two, stride=stride, padding=padding_two), # h_in, w_in = (128, 128); h_out, w_out = (64, 64)\n",
        "                            nn.ReLU(),\n",
        "                            nn.Flatten(start_dim=1, end_dim=-1), # Flattens (c_out, h_out, w_out) = (32, 64, 64) into 131072\n",
        "                            nn.Linear(linear_in_dim, linear_out_dim) # Encodes the 131072 length flattened convolved image into a 1024 length embedding vector\n",
        "        )\n",
        "\n",
        "    def forward(self, x):\n",
        "        \"\"\"\n",
        "        Define neural network forward pass\n",
        "        Input has shape (T, B, 1, H, W)\n",
        "        \"\"\"\n",
        "        seq_len, batch_size, _, h, w = x.shape\n",
        "        x = x.reshape(seq_len * batch_size, 1, h, w)\n",
        "        return self.conv_stack(x).reshape(seq_len, batch_size, -1)\n",
        "\n",
        "class StateEncoder(nn.Module):\n",
        "    def __init__(self, in_dim=13, out_dim=128):\n",
        "        \"\"\"\n",
        "        Define linear layer to generate a length 128 embedding vector from length 13 pose and twist vector.\n",
        "        \"\"\"\n",
        "        super().__init__()\n",
        "        self.linear_layer = nn.Linear(in_dim, out_dim)\n",
        "\n",
        "    def forward(self, x):\n",
        "        \"\"\"\n",
        "        Define nueral network forward pass\n",
        "        Input has shape (T, B, D) need (B, D)\n",
        "        \"\"\"\n",
        "        return self.linear_layer(x[-1])\n",
        "\n",
        "class StateSeqEncoder(nn.Module):\n",
        "    def __init__(self, in_dim=13, out_dim=128):\n",
        "        \"\"\"\n",
        "        Define linear layer to generate a sequence of length 128 embedding vectors from length 13 pose and twist vectors.\n",
        "        \"\"\"\n",
        "        super().__init__()\n",
        "        self.linear_layer = nn.Linear(in_dim, out_dim)\n",
        "\n",
        "    def forward(self, x):\n",
        "        \"\"\"\n",
        "        Define nueral network forward pass\n",
        "        \"\"\"\n",
        "        return self.linear_layer(x)\n",
        "\n",
        "class ImgDecoder(nn.Module):\n",
        "    def __init__(self, in_channels=5, hidden_channels=3, out_channels=1, in_dim=512, hidden_dim=4096):\n",
        "        \"\"\"\n",
        "        Reconstructs the image from the embedding vector. (B, T, in_dim): (B, 5, 512)\n",
        "        Output image size is (256, 256).\n",
        "        \"\"\"\n",
        "        super().__init__()\n",
        "\n",
        "        # Compute output height\n",
        "        h_in = int(np.sqrt(hidden_dim))\n",
        "        stride = 1\n",
        "        pad_one, pad_two = 34, 71\n",
        "        ker_one, ker_two = 5, 15\n",
        "        self.h_out = (h_in + 2 * pad_one - ker_one) // stride + 1\n",
        "        self.h_out = (self.h_out + 2 * pad_two - ker_two) // stride + 1\n",
        "\n",
        "        # Modules\n",
        "        self.decoder = nn.Sequential(\n",
        "                        nn.Linear(in_dim, hidden_dim), # (B, T, hidden_dim)\n",
        "                        nn.ReLU(),\n",
        "                        nn.Unflatten(dim=-1, unflattened_size=(h_in, h_in)),\n",
        "                        nn.Conv2d(in_channels, hidden_channels, ker_one, stride, pad_one),\n",
        "                        nn.ReLU(),\n",
        "                        nn.Conv2d(hidden_channels, out_channels, ker_two, stride, pad_two),\n",
        "        )\n",
        "\n",
        "    def forward(self, x):\n",
        "        \"\"\"\n",
        "        Input has shape (T, B, D_emb) = (5, 16, 512)\n",
        "        Return predicted last image in sequence (B, 1, h_out, h_out)\n",
        "        It treats the input sequence dimension as an images channels dimension and it convolves\n",
        "        the image back to its original dimension.\n",
        "\n",
        "        TODO: Consider instead of passing (T, B, D_emb) as (T * B, D_emb) and reconstructing as\n",
        "        (T, B, 1, h_out, h_out), pass it as (B, T * D_emb) and reconstruct as (B, 1, h_out, h_out).\n",
        "        \"\"\"\n",
        "        return self.decoder(x.permute(1, 0, 2)) # Convnet expects (B, T, H, W)\n",
        "\n",
        "class ImgDecoder2(nn.Module):\n",
        "    def __init__(self, in_channels=5, hidden_channels=32, out_channels=1, in_dim=512, hidden_dim=1024, out_size=256):\n",
        "        super().__init__()\n",
        "        self.out_size = out_size\n",
        "        h_in = int(np.sqrt(hidden_dim))\n",
        "\n",
        "        self.decoder = nn.Sequential(\n",
        "            nn.Linear(in_dim, hidden_dim),\n",
        "            nn.ReLU(),\n",
        "            nn.Unflatten(dim=-1, unflattened_size=(h_in, h_in)),  # (B, 5, 32, 32)\n",
        "            nn.Upsample(scale_factor=2, mode='nearest'),  # (B, 5, 64, 64)\n",
        "            nn.Conv2d(in_channels, hidden_channels, kernel_size=3, padding=1),\n",
        "            nn.ReLU(),\n",
        "            nn.Upsample(scale_factor=2, mode='nearest'),  # (B, 32, 128, 128)\n",
        "            nn.Conv2d(hidden_channels, hidden_channels, kernel_size=3, padding=1),\n",
        "            nn.ReLU(),\n",
        "            nn.Upsample(scale_factor=2, mode='nearest'),  # (B, 16, 256, 256)\n",
        "            nn.Conv2d(hidden_channels, out_channels, kernel_size=3, padding=1),\n",
        "        )\n",
        "\n",
        "    def forward(self, x):\n",
        "        return self.decoder(x.permute(1, 0, 2))\n",
        "\n",
        "\n",
        "# Jialin Encoder\n",
        "class SIRENActivation(nn.Module):\n",
        "    def __init__(self, w0=30.0):\n",
        "        super().__init__()\n",
        "        self.w0 = w0\n",
        "\n",
        "    def forward(self, x):\n",
        "        return torch.sin(self.w0 * x)\n",
        "\n",
        "class CNNEncoder(nn.Module):\n",
        "    def __init__(self, input_channels=1, hidden_dim=1024, activation=SIRENActivation(30.0)): # or nn.ReLU\n",
        "        super().__init__()\n",
        "        self.encoder = nn.Sequential(\n",
        "            nn.Conv2d(input_channels, 16, 3, padding=1),\n",
        "            activation,\n",
        "            nn.MaxPool2d(2),\n",
        "            nn.Conv2d(16, 32, 3, padding=1),\n",
        "            activation,\n",
        "            nn.MaxPool2d(2)\n",
        "        )\n",
        "        self.flatten = nn.Flatten()\n",
        "        self.out_dim = 32 * 64 * 64 # 131072\n",
        "        self.fc = nn.Linear(self.out_dim, hidden_dim)\n",
        "\n",
        "    def forward(self, x):  # (T, B, 1, H, W)\n",
        "        T, B, C, H, W = x.shape\n",
        "        x = x.contiguous().view(T * B, C, H, W)\n",
        "        x = self.encoder(x)\n",
        "        x = self.flatten(x)\n",
        "        x = self.fc(x)\n",
        "        x = x.view(T, B, -1)\n",
        "        return x  # (T, B, hidden_dim)\n",
        "\n",
        "# Jialin State Encoder\n",
        "class JStateEncoder(nn.Module):\n",
        "    def __init__(self, pose_dim=13, embed_dim=128):\n",
        "        super().__init__()\n",
        "        self.fc = nn.Sequential(\n",
        "            nn.Linear(pose_dim, embed_dim),\n",
        "            nn.ReLU(),\n",
        "            nn.Linear(embed_dim, embed_dim)\n",
        "        )\n",
        "\n",
        "    def forward(self, pose):  # (T, B, 13)\n",
        "        return self.fc(pose)  # (T, B, embed_dim)\n"
      ]
    },
    {
      "cell_type": "code",
      "execution_count": 96,
      "metadata": {
        "id": "IiQQUOdU2Tkd"
      },
      "outputs": [],
      "source": [
        "# Test conv encoder\n",
        "mock_img_data = torch.zeros((5, 16, 1, 256, 256))\n",
        "img_encoder = CNNEncoder()\n",
        "img_embedding = img_encoder(mock_img_data)\n",
        "\n",
        "# Test state encoder\n",
        "mock_state_data = torch.zeros((5,64, 13))\n",
        "state_encoder = JStateEncoder()\n",
        "state_embedding = state_encoder(mock_state_data)\n"
      ]
    },
    {
      "cell_type": "code",
      "execution_count": 97,
      "metadata": {
        "id": "zXDPaPQh2Tkd",
        "outputId": "963689c7-44a6-45b7-f60f-9885ebbe24c2"
      },
      "outputs": [
        {
          "data": {
            "text/plain": [
              "torch.Size([5, 16, 1024])"
            ]
          },
          "execution_count": 97,
          "metadata": {},
          "output_type": "execute_result"
        }
      ],
      "source": [
        "img_embedding.shape\n",
        "# state_embedding.shape"
      ]
    },
    {
      "cell_type": "code",
      "execution_count": null,
      "metadata": {
        "id": "MjdP10Rv2Tke"
      },
      "outputs": [],
      "source": [
        "# Vanilla LSTM\n",
        "class LSTM(nn.Module):\n",
        "    def __init__(self, in_dim, hidden_dim, num_layers=1):\n",
        "        super().__init__()\n",
        "        self.model = nn.LSTM(in_dim, hidden_dim, num_layers=num_layers)\n",
        "\n",
        "    def forward(self, x):\n",
        "        return self.model(x)[0]\n",
        "\n",
        "# Jialin's LSTM\n",
        "class JLSTM(nn.Module):\n",
        "    '''\n",
        "    LSTM with the image + pose embeddings as input\n",
        "    '''\n",
        "    def __init__(self, input_dim, hidden_dim):\n",
        "        super().__init__()\n",
        "\n",
        "        self.lstm = nn.LSTM(\n",
        "            input_size=input_dim,\n",
        "            hidden_size=hidden_dim,\n",
        "            batch_first=False,\n",
        "            bidirectional=False\n",
        "        )\n",
        "\n",
        "    def forward(self, x):  # (T, B, input_dim)\n",
        "        out, _ = self.lstm(x)\n",
        "        return out  # (T, B, hidden_dim)\n",
        "\n",
        "\n",
        "class MLP(nn.Module):\n",
        "    def __init__(self, in_dim, hidden_dim, num_layers=3):\n",
        "        super().__init__()\n",
        "\n",
        "        ### Create model\n",
        "        out_dim = hidden_dim\n",
        "        layers = [nn.Linear(in_dim, hidden_dim), nn.ReLU()]\n",
        "        for _ in range(1, num_layers):\n",
        "            layers.extend([nn.Linear(hidden_dim, hidden_dim), nn.ReLU()])\n",
        "        layers.append(nn.Linear(hidden_dim, out_dim))\n",
        "        self.model = nn.Sequential(*layers)\n",
        "\n",
        "    def forward(self, x):\n",
        "        \"\"\"\n",
        "        Input has shape (B, D) and decoder Expects (1, B, D)\n",
        "        \"\"\"\n",
        "        x = x\n",
        "        return self.model(x).unsqueeze(0)\n"
      ]
    },
    {
      "cell_type": "code",
      "execution_count": null,
      "metadata": {},
      "outputs": [],
      "source": [
        "# Loss functions\n",
        "class BCEDiceLoss(nn.Module):\n",
        "    def __init__(self, weight_bce=0.7, weight_dice=0.3, smooth=1.0, weight=250.0):\n",
        "        super().__init__()\n",
        "        self.bce = nn.BCEWithLogitsLoss(pos_weight=torch.tensor([weight], device=device))\n",
        "        self.weight_bce = weight_bce\n",
        "        self.weight_dice = weight_dice\n",
        "        self.smooth = smooth  # to avoid division by zero\n",
        "\n",
        "    def forward(self, logits, targets):\n",
        "        # BCEWithLogitsLoss expects raw logits\n",
        "        bce_loss = self.bce(logits, targets)\n",
        "\n",
        "        # Apply sigmoid to get probabilities\n",
        "        probs = torch.sigmoid(logits)\n",
        "        probs = probs.reshape(-1)\n",
        "        targets = targets.reshape(-1)\n",
        "\n",
        "        intersection = (probs * targets).sum()\n",
        "        dice_score = (2. * intersection + self.smooth) / (\n",
        "            probs.sum() + targets.sum() + self.smooth\n",
        "        )\n",
        "        dice_loss = 1 - dice_score\n",
        "\n",
        "        return self.weight_bce * bce_loss + self.weight_dice * dice_loss"
      ]
    },
    {
      "cell_type": "markdown",
      "metadata": {
        "id": "NBK9Zmsb2Tke"
      },
      "source": [
        "### FilterNet\n",
        "\n",
        "This is the main module which contains the submodules to form a LSTM convolutional autoencoder"
      ]
    },
    {
      "cell_type": "code",
      "execution_count": null,
      "metadata": {
        "id": "va7AQ7WO2Tke"
      },
      "outputs": [],
      "source": [
        "# Define LSTM class\n",
        "class FilterNet(nn.Module):\n",
        "    def __init__(self, in_dim=1152, hidden_dim=512, seq_length=5, augmented=False):\n",
        "        \"\"\"\n",
        "        Define LSTM architecture with image and state encoders\n",
        "        Must concatenate image and state embeddings to make a 1024 + 128 length embedding vector for lstm\n",
        "        lstm input dimension is then 1024 + 128 = 1152\n",
        "        \"\"\"\n",
        "        super().__init__()\n",
        "\n",
        "        # Parameters\n",
        "        self.in_dim = in_dim\n",
        "        self.hidden_dim = hidden_dim\n",
        "        self.seq_len = seq_length\n",
        "        self.augmented = augmented\n",
        "\n",
        "        # Jialin Modules\n",
        "        # self.image_encoder = CNNEncoder()\n",
        "        # self.state_encoder = JStateEncoder()\n",
        "        # self.lstm = JLSTM(input_dim=in_dim, hidden_dim=hidden_dim)\n",
        "        # self.image_decoder = ImgDecoder()\n",
        "        # self.loss_fun = nn.MSELoss()\n",
        "\n",
        "        # Juan Modules\n",
        "        self.image_encoder = ImgEncoder()\n",
        "        self.state_encoder = StateEncoder()\n",
        "        self.lstm = MLP(in_dim, hidden_dim)\n",
        "        self.image_decoder = ImgDecoder2(in_channels=1) # in_channels should be 5 for lstm\n",
        "        self.loss_fun = BCEDiceLoss()\n",
        "\n",
        "\n",
        "\n",
        "    def loss(self, sequence):\n",
        "        \"\"\"\n",
        "        Unless using the augmented (B, T, 1, H, W, 14) tensor, data will come in as a Tuple storing a sequence of {'input', 'target'}\n",
        "        dictionaries. Each 'input' field contains a frame, a pose, and a twist, each as a tensor.\n",
        "\n",
        "        Must loop through the sequence to generate embedding, but for small sequence lengths, the overhead is negligible, and actually\n",
        "        preferable, than the memory overhead of the augmented tensor.\n",
        "        \"\"\"\n",
        "\n",
        "        if self.augmented:\n",
        "            # Retrieve data\n",
        "            input, output = sequence['input'].permute(1, 0, 2, 3, 4, 5), sequence['target'].permute(1, 0, 2, 3, 4) # switch to sequence first\n",
        "            frames = input[..., 0]\n",
        "            state = input[:, :, :, 0, 0, 1:]\n",
        "            out_frame = output[-1, ...]\n",
        "        else:\n",
        "            # Pass each element of the sequence through the model\n",
        "            frames = sequence['input'][0].permute(1, 0, 2, 3, 4) # (B, T, 1, H, W) --> (T, B, 1, H, W)\n",
        "            state = sequence['input'][1].permute(1, 0, 2) # (B, T, 13) --> (T, B, 13)\n",
        "            out_frame = sequence['target'].permute(1, 0, 2, 3, 4)[-1, ...] #(T, B, 1, H, W) --> (B, 1, H, W)\n",
        "\n",
        "        # Pass inputs through encoders\n",
        "        img_embedding = self.image_encoder(frames) # out dim should be (T, B, d_img_emb)\n",
        "        state_embedding = self.state_encoder(state) # out dim should be (T, B, d_state_emb)\n",
        "\n",
        "        # Concatenate embedding vector and reconstruct sequence as a tensor\n",
        "        compressed_input = torch.cat((img_embedding, state_embedding), dim=-1) # (T, B, in_dim)\n",
        "\n",
        "        # Pass compressed sequence through LSTM\n",
        "        lstm_out = self.lstm(compressed_input) # should have shape (T, B, hidden_dim) (5, 16, 512)\n",
        "\n",
        "        # Pass through decoder to reconstruct predicted last frame in sequence\n",
        "        pred_frame = self.image_decoder(lstm_out)\n",
        "\n",
        "        # Get loss between predicted frame and last frame in target sequence\n",
        "        return self.loss_fun(pred_frame, out_frame), pred_frame\n"
      ]
    },
    {
      "cell_type": "code",
      "execution_count": 101,
      "metadata": {
        "id": "amF2bPn42Tke",
        "outputId": "a94a8b5f-d8e3-4b47-9d0c-f072dd744c39"
      },
      "outputs": [
        {
          "data": {
            "text/plain": [
              "(tensor(123.9011, device='cuda:0', grad_fn=<AddBackward0>),\n",
              " tensor([[[[-0.0429, -0.0223, -0.0151,  ..., -0.0205, -0.0088, -0.0082],\n",
              "           [-0.0358, -0.0228, -0.0206,  ..., -0.0177, -0.0130, -0.0146],\n",
              "           [-0.0390, -0.0299, -0.0231,  ..., -0.0188, -0.0145, -0.0119],\n",
              "           ...,\n",
              "           [-0.0187, -0.0125, -0.0092,  ..., -0.0076, -0.0194, -0.0161],\n",
              "           [-0.0232, -0.0251, -0.0204,  ..., -0.0113, -0.0243, -0.0207],\n",
              "           [-0.0138, -0.0143, -0.0109,  ..., -0.0185, -0.0226, -0.0286]]],\n",
              " \n",
              " \n",
              "         [[[-0.0429, -0.0223, -0.0151,  ..., -0.0205, -0.0088, -0.0082],\n",
              "           [-0.0358, -0.0228, -0.0206,  ..., -0.0177, -0.0130, -0.0146],\n",
              "           [-0.0390, -0.0299, -0.0231,  ..., -0.0188, -0.0145, -0.0119],\n",
              "           ...,\n",
              "           [-0.0187, -0.0125, -0.0092,  ..., -0.0076, -0.0194, -0.0161],\n",
              "           [-0.0232, -0.0251, -0.0204,  ..., -0.0113, -0.0243, -0.0207],\n",
              "           [-0.0138, -0.0143, -0.0109,  ..., -0.0185, -0.0226, -0.0286]]],\n",
              " \n",
              " \n",
              "         [[[-0.0429, -0.0223, -0.0151,  ..., -0.0205, -0.0088, -0.0082],\n",
              "           [-0.0358, -0.0228, -0.0206,  ..., -0.0177, -0.0130, -0.0146],\n",
              "           [-0.0390, -0.0299, -0.0231,  ..., -0.0188, -0.0145, -0.0119],\n",
              "           ...,\n",
              "           [-0.0187, -0.0125, -0.0092,  ..., -0.0076, -0.0194, -0.0161],\n",
              "           [-0.0232, -0.0251, -0.0204,  ..., -0.0113, -0.0243, -0.0207],\n",
              "           [-0.0138, -0.0143, -0.0109,  ..., -0.0185, -0.0226, -0.0286]]],\n",
              " \n",
              " \n",
              "         ...,\n",
              " \n",
              " \n",
              "         [[[-0.0429, -0.0223, -0.0151,  ..., -0.0205, -0.0088, -0.0082],\n",
              "           [-0.0358, -0.0228, -0.0206,  ..., -0.0177, -0.0130, -0.0146],\n",
              "           [-0.0390, -0.0299, -0.0231,  ..., -0.0188, -0.0145, -0.0119],\n",
              "           ...,\n",
              "           [-0.0187, -0.0125, -0.0092,  ..., -0.0076, -0.0194, -0.0161],\n",
              "           [-0.0232, -0.0251, -0.0204,  ..., -0.0113, -0.0243, -0.0207],\n",
              "           [-0.0138, -0.0143, -0.0109,  ..., -0.0185, -0.0226, -0.0286]]],\n",
              " \n",
              " \n",
              "         [[[-0.0429, -0.0223, -0.0151,  ..., -0.0205, -0.0088, -0.0082],\n",
              "           [-0.0358, -0.0228, -0.0206,  ..., -0.0177, -0.0130, -0.0146],\n",
              "           [-0.0390, -0.0299, -0.0231,  ..., -0.0188, -0.0145, -0.0119],\n",
              "           ...,\n",
              "           [-0.0187, -0.0125, -0.0092,  ..., -0.0076, -0.0194, -0.0161],\n",
              "           [-0.0232, -0.0251, -0.0204,  ..., -0.0113, -0.0243, -0.0207],\n",
              "           [-0.0138, -0.0143, -0.0109,  ..., -0.0185, -0.0226, -0.0286]]],\n",
              " \n",
              " \n",
              "         [[[-0.0429, -0.0223, -0.0151,  ..., -0.0205, -0.0088, -0.0082],\n",
              "           [-0.0358, -0.0228, -0.0206,  ..., -0.0177, -0.0130, -0.0146],\n",
              "           [-0.0390, -0.0299, -0.0231,  ..., -0.0188, -0.0145, -0.0119],\n",
              "           ...,\n",
              "           [-0.0187, -0.0125, -0.0092,  ..., -0.0076, -0.0194, -0.0161],\n",
              "           [-0.0232, -0.0251, -0.0204,  ..., -0.0113, -0.0243, -0.0207],\n",
              "           [-0.0138, -0.0143, -0.0109,  ..., -0.0185, -0.0226, -0.0286]]]],\n",
              "        device='cuda:0', grad_fn=<ConvolutionBackward0>))"
            ]
          },
          "execution_count": 101,
          "metadata": {},
          "output_type": "execute_result"
        }
      ],
      "source": [
        "### Test FilterNet\n",
        "\n",
        "# Generate mock input\n",
        "mock_img_npt_data = torch.zeros((16, 5, 1, 256, 256), device=device)\n",
        "mock_img_trgt_data = torch.ones((16, 5, 1, 256, 256), device=device)\n",
        "mock_state_data = torch.zeros((16, 5, 13), device=device)\n",
        "datapoint = {'input': (mock_img_npt_data, mock_state_data), 'target': mock_img_trgt_data}\n",
        "\n",
        "# Initialize model\n",
        "filternet = FilterNet().to(device)\n",
        "\n",
        "# Test loss function\n",
        "out = filternet.loss(datapoint)\n",
        "out\n"
      ]
    },
    {
      "cell_type": "markdown",
      "metadata": {
        "id": "lV2i0n3x2Tke"
      },
      "source": [
        "### Traning Loop"
      ]
    },
    {
      "cell_type": "code",
      "execution_count": 4,
      "metadata": {
        "id": "-0Gjja0K2Tke"
      },
      "outputs": [
        {
          "name": "stderr",
          "output_type": "stream",
          "text": [
            "100%|██████████| 7/7 [00:00<00:00, 45.04it/s]\n"
          ]
        }
      ],
      "source": [
        "# Define training parameters\n",
        "num_epochs = 1 # originally 10\n",
        "num_workers = 2\n",
        "num_vids = 7\n",
        "path_to_data = 'processed_flow'\n",
        "augmented = False\n",
        "batch_size = 1\n",
        "seq_length = 5\n",
        "img_size = 256\n",
        "\n",
        "\n",
        "# because mac :)\n",
        "# device = torch.device(\"mps\" if torch.backends.mps.is_available() else \"cpu\")\n",
        "\n",
        "\n",
        "# TODO: Split into train and val loader\n",
        "# deterministic split, same split across runs\n",
        "# generator = torch.Generator().manual_seed(42)\n",
        "# val_ratio = 0.2\n",
        "# val_size = int(len(dataset) * val_ratio)\n",
        "# train_size = len(dataset) - val_size\n",
        "# train_dataset, val_dataset = random_split(dataset, [train_size, val_size], generator=generator)\n",
        "\n",
        "\n",
        "dataset = VideoDataset(path_to_data, augmented=augmented, num_vids=num_vids, seq_length=seq_length, img_size=img_size)\n",
        "# loader = DataLoader(dataset, batch_size=batch_size, shuffle=True, num_workers=num_workers) #NOTE: num_workers is the number of extra processes running in parallel retrieving the data\n",
        "\n",
        "\n",
        "val_ratio = 0.2\n",
        "val_size = int(len(dataset) * val_ratio)\n",
        "train_size = len(dataset) - val_size\n",
        "\n",
        "train_dataset = torch.utils.data.Subset(dataset, list(range(train_size)))\n",
        "val_dataset = torch.utils.data.Subset(dataset, list(range(train_size, len(dataset))))\n",
        "\n",
        "train_loader = DataLoader(train_dataset, batch_size=batch_size, shuffle=True, num_workers=num_workers, drop_last=True)\n",
        "val_loader = DataLoader(val_dataset, batch_size=batch_size, shuffle=False, num_workers=num_workers)\n",
        "\n",
        "# Initialize model\n",
        "model = FilterNet()\n",
        "model = model.to(device) # added\n",
        "\n",
        "# Initialize optimizer\n",
        "# optimizer = torch.optim.SGD(model.parameters(), lr=0.001, momentum=0.9)\n",
        "optimizer = torch.optim.Adam(model.parameters(), lr=0.001) # lr = 0.001\n",
        "\n",
        "# next(model.parameters()).device\n"
      ]
    },
    {
      "cell_type": "code",
      "execution_count": 5,
      "metadata": {
        "id": "3eeYzpF22Tkf"
      },
      "outputs": [
        {
          "name": "stdout",
          "output_type": "stream",
          "text": [
            "\n",
            "Epoch 1/1:\n"
          ]
        },
        {
          "name": "stderr",
          "output_type": "stream",
          "text": [
            "249it [03:12,  1.31it/s]"
          ]
        },
        {
          "name": "stdout",
          "output_type": "stream",
          "text": [
            " batch 250 loss: 0.4908209275007248\n"
          ]
        },
        {
          "name": "stderr",
          "output_type": "stream",
          "text": [
            "500it [06:55,  1.11it/s]"
          ]
        },
        {
          "name": "stdout",
          "output_type": "stream",
          "text": [
            " batch 500 loss: 0.3470695797204971\n"
          ]
        },
        {
          "name": "stderr",
          "output_type": "stream",
          "text": [
            "750it [10:19,  1.07it/s]"
          ]
        },
        {
          "name": "stdout",
          "output_type": "stream",
          "text": [
            " batch 750 loss: 0.26456983083486557\n"
          ]
        },
        {
          "name": "stderr",
          "output_type": "stream",
          "text": [
            "999it [13:41,  1.11it/s]"
          ]
        },
        {
          "name": "stdout",
          "output_type": "stream",
          "text": [
            " batch 1000 loss: 0.24420452037453652\n"
          ]
        },
        {
          "name": "stderr",
          "output_type": "stream",
          "text": [
            "1250it [16:49,  1.38it/s]"
          ]
        },
        {
          "name": "stdout",
          "output_type": "stream",
          "text": [
            " batch 1250 loss: 0.2227545229792595\n"
          ]
        },
        {
          "name": "stderr",
          "output_type": "stream",
          "text": [
            "1500it [19:58,  1.16it/s]"
          ]
        },
        {
          "name": "stdout",
          "output_type": "stream",
          "text": [
            " batch 1500 loss: 0.18731231501698495\n"
          ]
        },
        {
          "name": "stderr",
          "output_type": "stream",
          "text": [
            "1750it [23:23,  1.06it/s]"
          ]
        },
        {
          "name": "stdout",
          "output_type": "stream",
          "text": [
            " batch 1750 loss: 0.236371828481555\n"
          ]
        },
        {
          "name": "stderr",
          "output_type": "stream",
          "text": [
            "2000it [26:41,  1.16s/it]"
          ]
        },
        {
          "name": "stdout",
          "output_type": "stream",
          "text": [
            " batch 2000 loss: 0.2609411230124533\n"
          ]
        },
        {
          "name": "stderr",
          "output_type": "stream",
          "text": [
            "2250it [30:02,  1.02it/s]"
          ]
        },
        {
          "name": "stdout",
          "output_type": "stream",
          "text": [
            " batch 2250 loss: 0.21315258175134658\n"
          ]
        },
        {
          "name": "stderr",
          "output_type": "stream",
          "text": [
            "2500it [33:15,  1.38it/s]"
          ]
        },
        {
          "name": "stdout",
          "output_type": "stream",
          "text": [
            " batch 2500 loss: 0.1864044821932912\n"
          ]
        },
        {
          "name": "stderr",
          "output_type": "stream",
          "text": [
            "2747it [36:39,  1.36it/s]"
          ]
        },
        {
          "name": "stdout",
          "output_type": "stream",
          "text": [
            " batch 2750 loss: 0.20746037998888642\n"
          ]
        },
        {
          "name": "stderr",
          "output_type": "stream",
          "text": [
            "2996it [39:48,  1.31it/s]"
          ]
        },
        {
          "name": "stdout",
          "output_type": "stream",
          "text": [
            " batch 3000 loss: 0.20886220142245293\n"
          ]
        },
        {
          "name": "stderr",
          "output_type": "stream",
          "text": [
            "3250it [43:01,  1.30it/s]"
          ]
        },
        {
          "name": "stdout",
          "output_type": "stream",
          "text": [
            " batch 3250 loss: 0.18171781122218816\n"
          ]
        },
        {
          "name": "stderr",
          "output_type": "stream",
          "text": [
            "3500it [46:19,  1.23it/s]"
          ]
        },
        {
          "name": "stdout",
          "output_type": "stream",
          "text": [
            " batch 3500 loss: 0.1923042777660303\n"
          ]
        },
        {
          "name": "stderr",
          "output_type": "stream",
          "text": [
            "3749it [49:44,  1.15s/it]"
          ]
        },
        {
          "name": "stdout",
          "output_type": "stream",
          "text": [
            " batch 3750 loss: 0.19905702398181893\n"
          ]
        },
        {
          "name": "stderr",
          "output_type": "stream",
          "text": [
            "3998it [52:48,  1.13it/s]"
          ]
        },
        {
          "name": "stdout",
          "output_type": "stream",
          "text": [
            " batch 4000 loss: 0.1735954631078057\n"
          ]
        },
        {
          "name": "stderr",
          "output_type": "stream",
          "text": [
            "4250it [55:52,  1.13s/it]"
          ]
        },
        {
          "name": "stdout",
          "output_type": "stream",
          "text": [
            " batch 4250 loss: 0.2231463486328721\n"
          ]
        },
        {
          "name": "stderr",
          "output_type": "stream",
          "text": [
            "4499it [59:11,  1.68it/s]"
          ]
        },
        {
          "name": "stdout",
          "output_type": "stream",
          "text": [
            " batch 4500 loss: 0.22353886892879382\n"
          ]
        },
        {
          "name": "stderr",
          "output_type": "stream",
          "text": [
            "4749it [1:02:32,  1.64it/s]"
          ]
        },
        {
          "name": "stdout",
          "output_type": "stream",
          "text": [
            " batch 4750 loss: 0.1732434267202625\n"
          ]
        },
        {
          "name": "stderr",
          "output_type": "stream",
          "text": [
            "5000it [1:05:28,  2.42it/s]"
          ]
        },
        {
          "name": "stdout",
          "output_type": "stream",
          "text": [
            " batch 5000 loss: 0.17168441778281704\n"
          ]
        },
        {
          "name": "stderr",
          "output_type": "stream",
          "text": [
            "5250it [1:08:52,  1.38it/s]"
          ]
        },
        {
          "name": "stdout",
          "output_type": "stream",
          "text": [
            " batch 5250 loss: 0.17761963253770954\n"
          ]
        },
        {
          "name": "stderr",
          "output_type": "stream",
          "text": [
            "5500it [1:12:10,  1.11it/s]"
          ]
        },
        {
          "name": "stdout",
          "output_type": "stream",
          "text": [
            " batch 5500 loss: 0.17099348510266282\n"
          ]
        },
        {
          "name": "stderr",
          "output_type": "stream",
          "text": [
            "5749it [1:15:30,  1.06it/s]"
          ]
        },
        {
          "name": "stdout",
          "output_type": "stream",
          "text": [
            " batch 5750 loss: 0.1631368360114866\n"
          ]
        },
        {
          "name": "stderr",
          "output_type": "stream",
          "text": [
            "6000it [1:18:41,  1.25it/s]"
          ]
        },
        {
          "name": "stdout",
          "output_type": "stream",
          "text": [
            " batch 6000 loss: 0.1748905602322193\n"
          ]
        },
        {
          "name": "stderr",
          "output_type": "stream",
          "text": [
            "6250it [1:21:48,  1.71it/s]"
          ]
        },
        {
          "name": "stdout",
          "output_type": "stream",
          "text": [
            " batch 6250 loss: 0.19779780052264687\n"
          ]
        },
        {
          "name": "stderr",
          "output_type": "stream",
          "text": [
            "6500it [1:25:01,  1.50it/s]"
          ]
        },
        {
          "name": "stdout",
          "output_type": "stream",
          "text": [
            " batch 6500 loss: 0.19569845328282098\n"
          ]
        },
        {
          "name": "stderr",
          "output_type": "stream",
          "text": [
            "6750it [1:28:05,  1.01s/it]"
          ]
        },
        {
          "name": "stdout",
          "output_type": "stream",
          "text": [
            " batch 6750 loss: 0.17957284167292528\n"
          ]
        },
        {
          "name": "stderr",
          "output_type": "stream",
          "text": [
            "6999it [1:31:41,  1.09it/s]"
          ]
        },
        {
          "name": "stdout",
          "output_type": "stream",
          "text": [
            " batch 7000 loss: 0.24581993622519077\n"
          ]
        },
        {
          "name": "stderr",
          "output_type": "stream",
          "text": [
            "7245it [1:34:57,  1.23it/s]"
          ]
        },
        {
          "name": "stdout",
          "output_type": "stream",
          "text": [
            " batch 7250 loss: 0.16576034373359289\n"
          ]
        },
        {
          "name": "stderr",
          "output_type": "stream",
          "text": [
            "7499it [1:38:11,  1.21it/s]"
          ]
        },
        {
          "name": "stdout",
          "output_type": "stream",
          "text": [
            " batch 7500 loss: 0.15327709484199295\n"
          ]
        },
        {
          "name": "stderr",
          "output_type": "stream",
          "text": [
            "7750it [1:41:30,  1.22it/s]"
          ]
        },
        {
          "name": "stdout",
          "output_type": "stream",
          "text": [
            " batch 7750 loss: 0.1677417703808751\n"
          ]
        },
        {
          "name": "stderr",
          "output_type": "stream",
          "text": [
            "8000it [1:44:45,  1.32it/s]"
          ]
        },
        {
          "name": "stdout",
          "output_type": "stream",
          "text": [
            " batch 8000 loss: 0.1703308168236399\n"
          ]
        },
        {
          "name": "stderr",
          "output_type": "stream",
          "text": [
            "8250it [1:48:01,  1.25it/s]"
          ]
        },
        {
          "name": "stdout",
          "output_type": "stream",
          "text": [
            " batch 8250 loss: 0.15984173014573752\n"
          ]
        },
        {
          "name": "stderr",
          "output_type": "stream",
          "text": [
            "8499it [1:51:39,  1.04s/it]"
          ]
        },
        {
          "name": "stdout",
          "output_type": "stream",
          "text": [
            " batch 8500 loss: 0.17491295440809335\n"
          ]
        },
        {
          "name": "stderr",
          "output_type": "stream",
          "text": [
            "8750it [1:55:01,  1.39it/s]"
          ]
        },
        {
          "name": "stdout",
          "output_type": "stream",
          "text": [
            " batch 8750 loss: 0.1716638627547072\n"
          ]
        },
        {
          "name": "stderr",
          "output_type": "stream",
          "text": [
            "8999it [1:58:30,  1.10s/it]"
          ]
        },
        {
          "name": "stdout",
          "output_type": "stream",
          "text": [
            " batch 9000 loss: 0.17212621429620775\n"
          ]
        },
        {
          "name": "stderr",
          "output_type": "stream",
          "text": [
            "9250it [2:02:00,  1.23it/s]"
          ]
        },
        {
          "name": "stdout",
          "output_type": "stream",
          "text": [
            " batch 9250 loss: 0.17085288186965045\n"
          ]
        },
        {
          "name": "stderr",
          "output_type": "stream",
          "text": [
            "9500it [2:05:16,  1.10it/s]"
          ]
        },
        {
          "name": "stdout",
          "output_type": "stream",
          "text": [
            " batch 9500 loss: 0.1541843153864611\n"
          ]
        },
        {
          "name": "stderr",
          "output_type": "stream",
          "text": [
            "9750it [2:08:34,  1.03s/it]"
          ]
        },
        {
          "name": "stdout",
          "output_type": "stream",
          "text": [
            " batch 9750 loss: 0.16590534315630795\n"
          ]
        },
        {
          "name": "stderr",
          "output_type": "stream",
          "text": [
            "9999it [2:12:00,  1.56it/s]"
          ]
        },
        {
          "name": "stdout",
          "output_type": "stream",
          "text": [
            " batch 10000 loss: 0.1924969541229075\n"
          ]
        },
        {
          "name": "stderr",
          "output_type": "stream",
          "text": [
            "10249it [2:15:24,  1.29it/s]"
          ]
        },
        {
          "name": "stdout",
          "output_type": "stream",
          "text": [
            " batch 10250 loss: 0.16797178597620221\n"
          ]
        },
        {
          "name": "stderr",
          "output_type": "stream",
          "text": [
            "10500it [2:18:38,  1.78it/s]"
          ]
        },
        {
          "name": "stdout",
          "output_type": "stream",
          "text": [
            " batch 10500 loss: 0.16994480933225714\n"
          ]
        },
        {
          "name": "stderr",
          "output_type": "stream",
          "text": [
            "10749it [2:22:09,  1.56it/s]"
          ]
        },
        {
          "name": "stdout",
          "output_type": "stream",
          "text": [
            " batch 10750 loss: 0.16015782830549868\n"
          ]
        },
        {
          "name": "stderr",
          "output_type": "stream",
          "text": [
            "10999it [2:25:30,  1.25it/s]"
          ]
        },
        {
          "name": "stdout",
          "output_type": "stream",
          "text": [
            " batch 11000 loss: 0.15777214155788533\n"
          ]
        },
        {
          "name": "stderr",
          "output_type": "stream",
          "text": [
            "11250it [2:28:48,  1.56it/s]"
          ]
        },
        {
          "name": "stdout",
          "output_type": "stream",
          "text": [
            " batch 11250 loss: 0.1734378505507484\n"
          ]
        },
        {
          "name": "stderr",
          "output_type": "stream",
          "text": [
            "11499it [2:32:18,  2.34it/s]"
          ]
        },
        {
          "name": "stdout",
          "output_type": "stream",
          "text": [
            " batch 11500 loss: 0.1698682703700615\n"
          ]
        },
        {
          "name": "stderr",
          "output_type": "stream",
          "text": [
            "11747it [2:35:23,  1.88it/s]"
          ]
        },
        {
          "name": "stdout",
          "output_type": "stream",
          "text": [
            " batch 11750 loss: 0.17796586973546072\n"
          ]
        },
        {
          "name": "stderr",
          "output_type": "stream",
          "text": [
            "11999it [2:38:44,  1.18s/it]"
          ]
        },
        {
          "name": "stdout",
          "output_type": "stream",
          "text": [
            " batch 12000 loss: 0.13798545589612332\n"
          ]
        },
        {
          "name": "stderr",
          "output_type": "stream",
          "text": [
            "12250it [2:42:03,  1.18it/s]"
          ]
        },
        {
          "name": "stdout",
          "output_type": "stream",
          "text": [
            " batch 12250 loss: 0.14917417097819272\n"
          ]
        },
        {
          "name": "stderr",
          "output_type": "stream",
          "text": [
            "12500it [2:45:34,  2.31it/s]"
          ]
        },
        {
          "name": "stdout",
          "output_type": "stream",
          "text": [
            " batch 12500 loss: 0.18229231985041405\n"
          ]
        },
        {
          "name": "stderr",
          "output_type": "stream",
          "text": [
            "12746it [2:48:25,  1.30it/s]"
          ]
        },
        {
          "name": "stdout",
          "output_type": "stream",
          "text": [
            " batch 12750 loss: 0.1374875851732213\n"
          ]
        },
        {
          "name": "stderr",
          "output_type": "stream",
          "text": [
            "13000it [2:51:42,  1.11it/s]"
          ]
        },
        {
          "name": "stdout",
          "output_type": "stream",
          "text": [
            " batch 13000 loss: 0.1525848285756074\n"
          ]
        },
        {
          "name": "stderr",
          "output_type": "stream",
          "text": [
            "13250it [2:54:43,  1.82it/s]"
          ]
        },
        {
          "name": "stdout",
          "output_type": "stream",
          "text": [
            " batch 13250 loss: 0.15846900593570898\n"
          ]
        },
        {
          "name": "stderr",
          "output_type": "stream",
          "text": [
            "13500it [2:57:54,  1.03it/s]"
          ]
        },
        {
          "name": "stdout",
          "output_type": "stream",
          "text": [
            " batch 13500 loss: 0.17167406950879377\n"
          ]
        },
        {
          "name": "stderr",
          "output_type": "stream",
          "text": [
            "13749it [3:01:18,  1.12it/s]"
          ]
        },
        {
          "name": "stdout",
          "output_type": "stream",
          "text": [
            " batch 13750 loss: 0.16041350887602313\n"
          ]
        },
        {
          "name": "stderr",
          "output_type": "stream",
          "text": [
            "14000it [3:04:41,  1.54it/s]"
          ]
        },
        {
          "name": "stdout",
          "output_type": "stream",
          "text": [
            " batch 14000 loss: 0.16720484711581957\n"
          ]
        },
        {
          "name": "stderr",
          "output_type": "stream",
          "text": [
            "14250it [3:07:37,  1.44it/s]"
          ]
        },
        {
          "name": "stdout",
          "output_type": "stream",
          "text": [
            " batch 14250 loss: 0.1330930179322313\n"
          ]
        },
        {
          "name": "stderr",
          "output_type": "stream",
          "text": [
            "14500it [3:11:01,  1.16s/it]"
          ]
        },
        {
          "name": "stdout",
          "output_type": "stream",
          "text": [
            " batch 14500 loss: 0.16624004211626014\n"
          ]
        },
        {
          "name": "stderr",
          "output_type": "stream",
          "text": [
            "14749it [3:14:24,  1.22it/s]"
          ]
        },
        {
          "name": "stdout",
          "output_type": "stream",
          "text": [
            " batch 14750 loss: 0.14418987746030326\n"
          ]
        },
        {
          "name": "stderr",
          "output_type": "stream",
          "text": [
            "14997it [3:17:25,  1.09it/s]"
          ]
        },
        {
          "name": "stdout",
          "output_type": "stream",
          "text": [
            " batch 15000 loss: 0.11434045804149355\n"
          ]
        },
        {
          "name": "stderr",
          "output_type": "stream",
          "text": [
            "15248it [3:20:42,  1.41it/s]"
          ]
        },
        {
          "name": "stdout",
          "output_type": "stream",
          "text": [
            " batch 15250 loss: 0.1507477593520307\n"
          ]
        },
        {
          "name": "stderr",
          "output_type": "stream",
          "text": [
            "15500it [3:23:52,  1.10it/s]"
          ]
        },
        {
          "name": "stdout",
          "output_type": "stream",
          "text": [
            " batch 15500 loss: 0.17784475592862145\n"
          ]
        },
        {
          "name": "stderr",
          "output_type": "stream",
          "text": [
            "15749it [3:26:57,  1.04it/s]"
          ]
        },
        {
          "name": "stdout",
          "output_type": "stream",
          "text": [
            " batch 15750 loss: 0.15195408981353103\n"
          ]
        },
        {
          "name": "stderr",
          "output_type": "stream",
          "text": [
            "16000it [3:30:10,  1.17s/it]"
          ]
        },
        {
          "name": "stdout",
          "output_type": "stream",
          "text": [
            " batch 16000 loss: 0.14401708981825503\n"
          ]
        },
        {
          "name": "stderr",
          "output_type": "stream",
          "text": [
            "16250it [3:33:45,  1.21s/it]"
          ]
        },
        {
          "name": "stdout",
          "output_type": "stream",
          "text": [
            " batch 16250 loss: 0.18838693106913706\n"
          ]
        },
        {
          "name": "stderr",
          "output_type": "stream",
          "text": [
            "16500it [3:37:03,  1.12it/s]"
          ]
        },
        {
          "name": "stdout",
          "output_type": "stream",
          "text": [
            " batch 16500 loss: 0.17387724289504694\n"
          ]
        },
        {
          "name": "stderr",
          "output_type": "stream",
          "text": [
            "16750it [3:40:15,  1.18it/s]"
          ]
        },
        {
          "name": "stdout",
          "output_type": "stream",
          "text": [
            " batch 16750 loss: 0.135475147928737\n"
          ]
        },
        {
          "name": "stderr",
          "output_type": "stream",
          "text": [
            "16999it [3:43:30,  1.96it/s]"
          ]
        },
        {
          "name": "stdout",
          "output_type": "stream",
          "text": [
            " batch 17000 loss: 0.1385571418175241\n"
          ]
        },
        {
          "name": "stderr",
          "output_type": "stream",
          "text": [
            "17084it [3:44:45,  1.27it/s]"
          ]
        },
        {
          "name": "stdout",
          "output_type": "stream",
          "text": [
            "Epoch 1 average loss: 0.18453849249872376\n"
          ]
        },
        {
          "name": "stderr",
          "output_type": "stream",
          "text": [
            "\n"
          ]
        }
      ],
      "source": [
        "# Training loop\n",
        "import torchvision\n",
        "for epoch in range(num_epochs):\n",
        "    running_loss, last_loss = 0, 0\n",
        "    num_batches, epoch_loss = 0, 0\n",
        "    print(f'\\nEpoch {epoch + 1}/{num_epochs}:')\n",
        "    for i, sequence in tqdm(enumerate(train_loader)):\n",
        "\n",
        "        # Move data to device\n",
        "        frames, state = sequence['input']\n",
        "        out_frame = sequence['target']\n",
        "\n",
        "        # NOTE: Temp: mask out the sequences with no foreground #TODO remove if no improvement\n",
        "        B, T, C, H, W = frames.shape\n",
        "        nonzero_mask = frames.view(B, -1).any(dim=1)\n",
        "        frames = frames[nonzero_mask]\n",
        "        out_frame = out_frame[nonzero_mask]\n",
        "        state = state[nonzero_mask]\n",
        "\n",
        "        sequence['input'] = (frames.to(device), state.to(device))\n",
        "        sequence['target'] = out_frame.to(device)\n",
        "\n",
        "        # Zero gradients for every batch\n",
        "        optimizer.zero_grad()\n",
        "\n",
        "        # Compute the loss and its gradients\n",
        "        loss, pred  = model.loss(sequence)\n",
        "        loss.backward()\n",
        "\n",
        "        # Adjust learning weights\n",
        "        optimizer.step()\n",
        "\n",
        "        # print(pred.mean().item(), pred.std().item())\n",
        "        # Gather data and report\n",
        "        running_loss += loss.item()\n",
        "        if i % 250 == 249: # report loss every 1000 batches\n",
        "            last_loss = running_loss / 250 # loss per batch\n",
        "            print(' batch {} loss: {}'.format(i + 1, last_loss))\n",
        "            running_loss = 0\n",
        "            # with torch.no_grad():\n",
        "            #     print(f'Prediction logit mean: {pred.mean().item()}, std: {pred.std().item()}, and max: {pred.max().item()} and min: {pred.min().item()}')\n",
        "\n",
        "\n",
        "        # Update counters for average epoch loss\n",
        "        epoch_loss += loss.item()\n",
        "        num_batches += 1 # changed from num_epochs to num_batches\n",
        "\n",
        "    print(f'Epoch {epoch + 1} average loss: {epoch_loss / num_batches}') # changed from num_epochs to num_batches\n"
      ]
    },
    {
      "cell_type": "code",
      "execution_count": 14,
      "metadata": {},
      "outputs": [],
      "source": [
        "# save the model\n",
        "torch.save(model.state_dict(), 'model_weights.pth')"
      ]
    },
    {
      "cell_type": "code",
      "execution_count": null,
      "metadata": {},
      "outputs": [],
      "source": [
        "# load weights of model\n",
        "model = FilterNet()\n",
        "model.load_state_dict(torch.load('model_weights.pth'))\n",
        "model.eval()"
      ]
    },
    {
      "cell_type": "markdown",
      "metadata": {
        "id": "-dz8ehjK2Tkf"
      },
      "source": [
        "### Testing:\n"
      ]
    },
    {
      "cell_type": "markdown",
      "metadata": {},
      "source": [
        "#### Testing model "
      ]
    },
    {
      "cell_type": "code",
      "execution_count": 6,
      "metadata": {},
      "outputs": [],
      "source": [
        "# Reimplemnt pose matrix to vector >:(\n",
        "\n",
        "def pose_vector_from_matrix(pose, seq_length):\n",
        "    \"\"\"\n",
        "    Convert 4x4 pose matrix (as a flattenned length 16 vector) into a position and quaternion length 7 vector.\n",
        "    \"\"\"\n",
        "    pose = pose.reshape(seq_length, 4, 4)\n",
        "    position = pose[:, :3, 3].reshape(seq_length, 3)\n",
        "    orientation = pose[:, :3, :3]\n",
        "\n",
        "    quat = R.from_matrix(orientation).as_quat().reshape(seq_length, 4)\n",
        "    norm_quat = quat / np.linalg.norm(quat)\n",
        "\n",
        "    return np.hstack((position, norm_quat))"
      ]
    },
    {
      "cell_type": "code",
      "execution_count": 7,
      "metadata": {},
      "outputs": [],
      "source": [
        "# Load noisy sequence\n",
        "path_to_sequence = 'processed_flow/test3/inputs'\n",
        "sequence_start = 2559 #2559\n",
        "sequence = torch.zeros((seq_length, 1, 480, 848))\n",
        "\n",
        "for i in range(seq_length):\n",
        "    idx = sequence_start + i\n",
        "    img = io.imread(os.path.join(path_to_sequence, f'frame{idx:05d}.png'))\n",
        "    img = torch.from_numpy((img[..., 0] > 127).astype(np.float32))\n",
        "    sequence[i] = img\n",
        "\n",
        "transform = transforms.Resize((256, 256))\n",
        "sequence = transform(sequence)\n",
        "sequence = sequence.unsqueeze(0).float() # Add batch dimension\n",
        "\n",
        "\n",
        "# Load pose and twist\n",
        "pose = pd.read_csv(os.path.join(path_to_sequence, 'bd_poses.csv')).to_numpy()[sequence_start:sequence_start + seq_length, :]\n",
        "pose = pose_vector_from_matrix(pose, seq_length)\n",
        "twist = pd.read_csv(os.path.join(path_to_sequence, 'bd_twists.csv')).to_numpy()[sequence_start:sequence_start + seq_length, :]\n",
        "state = torch.from_numpy(np.hstack((pose, twist)))\n",
        "state = state.unsqueeze(0).float() # Add batch dimension\n",
        "\n",
        "# Make dummy output\n",
        "out_seq = torch.zeros_like(sequence)\n",
        "\n",
        "# Build input dict\n",
        "datapoint = {'input': (sequence.to(device), state.to(device)), 'target': out_seq.to(device)}\n",
        "\n",
        "# Save og image for plotting\n",
        "og_image = sequence[0, -1, 0, :, :].detach().numpy().copy()\n",
        "target = out_seq[0, -1, 0, :, :].detach().numpy().copy()\n"
      ]
    },
    {
      "cell_type": "code",
      "execution_count": 10,
      "metadata": {},
      "outputs": [],
      "source": [
        "# Test model\n",
        "model.eval()\n",
        "_, pred_frame = model.loss(datapoint)\n"
      ]
    },
    {
      "cell_type": "code",
      "execution_count": 11,
      "metadata": {},
      "outputs": [
        {
          "data": {
            "text/plain": [
              "<matplotlib.image.AxesImage at 0x753659c1fcd0>"
            ]
          },
          "execution_count": 11,
          "metadata": {},
          "output_type": "execute_result"
        },
        {
          "data": {
            "image/png": "[encoded data removed]",
            "text/plain": [
              "<Figure size 640x480 with 1 Axes>"
            ]
          },
          "metadata": {},
          "output_type": "display_data"
        }
      ],
      "source": [
        "# Plot output frame\n",
        "plt.imshow(og_image)"
      ]
    },
    {
      "cell_type": "code",
      "execution_count": 13,
      "metadata": {},
      "outputs": [
        {
          "data": {
            "text/plain": [
              "tensor(0.5000, device='cuda:0', grad_fn=<MaxBackward1>)"
            ]
          },
          "execution_count": 13,
          "metadata": {},
          "output_type": "execute_result"
        },
        {
          "data": {
            "image/png": "[encoded data removed]",
            "text/plain": [
              "<Figure size 640x480 with 1 Axes>"
            ]
          },
          "metadata": {},
          "output_type": "display_data"
        }
      ],
      "source": [
        "prob_pred_frame = torch.sigmoid(pred_frame)\n",
        "out = (prob_pred_frame > 0.5).to(torch.float32)\n",
        "plt.imshow(out[0, 0, 0, :, :].cpu().detach().numpy())\n",
        "out.max()\n",
        "prob_pred_frame.max()"
      ]
    },
    {
      "cell_type": "code",
      "execution_count": null,
      "metadata": {},
      "outputs": [
        {
          "data": {
            "text/plain": [
              "<matplotlib.image.AxesImage at 0x7d6a631154e0>"
            ]
          },
          "execution_count": 109,
          "metadata": {},
          "output_type": "execute_result"
        },
        {
          "data": {
            "image/png": "[encoded data removed]",
            "text/plain": [
              "<Figure size 640x480 with 1 Axes>"
            ]
          },
          "metadata": {},
          "output_type": "display_data"
        }
      ],
      "source": [
        "# Actual gt\n",
        "path_to_sequence = 'processed_flow/test3/targets'\n",
        "idx = sequence_start + 4\n",
        "img = io.imread(os.path.join(path_to_sequence, f'frame{idx:05d}.png'))\n",
        "plt.imshow(img)"
      ]
    },
    {
      "cell_type": "code",
      "execution_count": null,
      "metadata": {},
      "outputs": [
        {
          "data": {
            "text/plain": [
              "<matplotlib.image.AxesImage at 0x7d6a6323a710>"
            ]
          },
          "execution_count": 110,
          "metadata": {},
          "output_type": "execute_result"
        },
        {
          "data": {
            "image/png": "[encoded data removed]",
            "text/plain": [
              "<Figure size 640x480 with 1 Axes>"
            ]
          },
          "metadata": {},
          "output_type": "display_data"
        }
      ],
      "source": [
        "# Actual gt\n",
        "path_to_sequence = 'processed_flow/test1/inputs'\n",
        "sequence_start = 1500\n",
        "idx = sequence_start + 4\n",
        "img = io.imread(os.path.join(path_to_sequence, f'frame{idx:05d}.png'))\n",
        "plt.imshow(img)"
      ]
    },
    {
      "cell_type": "code",
      "execution_count": null,
      "metadata": {},
      "outputs": [
        {
          "data": {
            "text/plain": [
              "<matplotlib.image.AxesImage at 0x7d6a6375f640>"
            ]
          },
          "execution_count": 85,
          "metadata": {},
          "output_type": "execute_result"
        },
        {
          "data": {
            "image/png": "[encoded data removed]",
            "text/plain": [
              "<Figure size 640x480 with 1 Axes>"
            ]
          },
          "metadata": {},
          "output_type": "display_data"
        }
      ],
      "source": [
        "# Actual gt\n",
        "path_to_sequence = 'processed_flow/test1/targets'\n",
        "idx = sequence_start + 4\n",
        "img = io.imread(os.path.join(path_to_sequence, f'frame{idx:05d}.png'))\n",
        "plt.imshow(img)"
      ]
    },
    {
      "cell_type": "markdown",
      "metadata": {},
      "source": [
        "#### Testing dataloader"
      ]
    },
    {
      "cell_type": "code",
      "execution_count": 20,
      "metadata": {
        "id": "nZa-MdYC2Tkf",
        "outputId": "eb6f4cf0-79a1-401b-aa9e-35896221207f"
      },
      "outputs": [
        {
          "name": "stderr",
          "output_type": "stream",
          "text": [
            "100%|██████████| 7/7 [00:00<00:00, 169.65it/s]\n"
          ]
        }
      ],
      "source": [
        "batch_size = 1\n",
        "dataset = VideoDataset(path_to_data, augmented=augmented, num_vids=7, seq_length=seq_length, img_size=img_size)\n",
        "loader = DataLoader(dataset, batch_size=batch_size, shuffle=True, num_workers=0) #NOTE: num_workers is the number of extra processes running in parallel retrieving the data\n",
        "counter = 0\n",
        "for datapoint in loader:\n",
        "    # found_one = False\n",
        "    # features = datapoint['input']\n",
        "    # labels = datapoint['target']\n",
        "    if counter > 1:\n",
        "        break\n",
        "    counter += 1\n",
        "    # for i in range(batch_size):\n",
        "    #     image = features[0][i]\n",
        "    #     if counter > 1502:\n",
        "    #         found_one = True\n",
        "    #         break\n",
        "    #     counter += 1\n",
        "\n",
        "    # if found_one:\n",
        "    #     break\n",
        "\n",
        "# counter\n",
        "# len(datapoint)\n",
        "in_frame = datapoint['input'][0][0, -1, 0, :, :]\n",
        "out_frame = datapoint['target'][0, -1, 0, :, :]\n",
        "# datapoint['input'][:, 0, :, :, :, 1]\n",
        "# counter"
      ]
    },
    {
      "cell_type": "code",
      "execution_count": null,
      "metadata": {},
      "outputs": [],
      "source": [
        "# Use transforms to resize images\n",
        "# This is an example, but it must actually be performed before feeding image data to encoder\n",
        "# For the augmented tensor the image is already resized inside the dataloader\n",
        "\n",
        "sequence = next(iter(loader))\n",
        "if augmented:\n",
        "    input, target = sequence['input'], sequence['target']\n",
        "    print(f'Tensor shape should be: [{batch_size, seq_length, 1, img_size, img_size, 14}] and is: {input.shape}')\n",
        "else:\n",
        "\n",
        "    features = sequence\n",
        "    image = features['input'][0]\n",
        "    input, target = features['input'], features['target']\n",
        "    print(f'\\nBatched image shape should be: [{batch_size, seq_length, 1, img_size, img_size}] and is: {image.shape}')\n"
      ]
    },
    {
      "cell_type": "code",
      "execution_count": null,
      "metadata": {
        "id": "mRfSgW0p2Tkf"
      },
      "outputs": [
        {
          "name": "stdout",
          "output_type": "stream",
          "text": [
            "tensor(1.0000)\n"
          ]
        },
        {
          "data": {
            "text/plain": [
              "<matplotlib.image.AxesImage at 0x7aa500335930>"
            ]
          },
          "execution_count": 77,
          "metadata": {},
          "output_type": "execute_result"
        },
        {
          "data": {
            "image/png": "[encoded data removed]",
            "text/plain": [
              "<Figure size 640x480 with 1 Axes>"
            ]
          },
          "metadata": {},
          "output_type": "display_data"
        }
      ],
      "source": [
        "print(in_frame.max())\n",
        "plt.imshow(in_frame)"
      ]
    },
    {
      "cell_type": "code",
      "execution_count": null,
      "metadata": {},
      "outputs": [
        {
          "name": "stdout",
          "output_type": "stream",
          "text": [
            "tensor(1.0000)\n"
          ]
        },
        {
          "data": {
            "text/plain": [
              "<matplotlib.image.AxesImage at 0x7aa59c39a800>"
            ]
          },
          "execution_count": 76,
          "metadata": {},
          "output_type": "execute_result"
        },
        {
          "data": {
            "image/png": "[encoded data removed]",
            "text/plain": [
              "<Figure size 640x480 with 1 Axes>"
            ]
          },
          "metadata": {},
          "output_type": "display_data"
        }
      ],
      "source": [
        "print(out_frame.max())\n",
        "plt.imshow(out_frame)"
      ]
    },
    {
      "cell_type": "code",
      "execution_count": null,
      "metadata": {
        "id": "P0SzUPJU2Tkf",
        "outputId": "398eee74-d583-4ca5-8102-93dd9065eb11"
      },
      "outputs": [
        {
          "data": {
            "text/plain": [
              "1503"
            ]
          },
          "execution_count": 73,
          "metadata": {},
          "output_type": "execute_result"
        }
      ],
      "source": [
        "features[0].shape\n",
        "counter"
      ]
    },
    {
      "cell_type": "code",
      "execution_count": null,
      "metadata": {
        "id": "aOc07DAT2Tkf",
        "outputId": "c0f6ffe5-c145-41f9-887f-a9beb2d83470"
      },
      "outputs": [
        {
          "data": {
            "text/plain": [
              "tensor([-1.3603,  0.6753,  2.2040,  0.0300,  0.0131,  0.1257,  0.9915])"
            ]
          },
          "execution_count": 74,
          "metadata": {},
          "output_type": "execute_result"
        }
      ],
      "source": [
        "pose = features[1]\n",
        "pose[28]"
      ]
    },
    {
      "cell_type": "markdown",
      "metadata": {
        "id": "ZOc_mFio2Tkf"
      },
      "source": [
        "#### Testing interpolated twist"
      ]
    },
    {
      "cell_type": "code",
      "execution_count": null,
      "metadata": {
        "id": "UdtoDN912Tkf",
        "outputId": "e0f2c3c1-f8df-4d04-c59c-d542ce8d9397"
      },
      "outputs": [
        {
          "data": {
            "image/png": "[encoded data removed]",
            "text/plain": [
              "<Figure size 640x480 with 1 Axes>"
            ]
          },
          "metadata": {},
          "output_type": "display_data"
        }
      ],
      "source": [
        "features[1]\n",
        "twist = features[2]\n",
        "\n",
        "plt.plot(pose[:, 0])\n",
        "plt.plot(twist[:, 0])\n",
        "plt.legend([\"pos_x\", \"vel_x\"])\n",
        "plt.show()"
      ]
    },
    {
      "cell_type": "code",
      "execution_count": null,
      "metadata": {
        "id": "2fOHwKEl2Tkg",
        "outputId": "fdf4a3a1-9715-43b8-b655-d393fb342bad"
      },
      "outputs": [
        {
          "data": {
            "text/plain": [
              "<matplotlib.image.AxesImage at 0x7aa6d1ed3190>"
            ]
          },
          "execution_count": 67,
          "metadata": {},
          "output_type": "execute_result"
        },
        {
          "data": {
            "image/png": "[encoded data removed]",
            "text/plain": [
              "<Figure size 640x480 with 1 Axes>"
            ]
          },
          "metadata": {},
          "output_type": "display_data"
        }
      ],
      "source": [
        "image = features[0][28]\n",
        "image.max()\n",
        "plt.imshow(image)"
      ]
    },
    {
      "cell_type": "code",
      "execution_count": null,
      "metadata": {
        "id": "okyO-UJw2Tkg",
        "outputId": "efe99c9b-9cf0-48c0-d2fd-800bf73fb1ff"
      },
      "outputs": [
        {
          "data": {
            "text/plain": [
              "torch.Size([32, 256, 256])"
            ]
          },
          "execution_count": 43,
          "metadata": {},
          "output_type": "execute_result"
        }
      ],
      "source": []
    }
  ],
  "metadata": {
    "colab": {
      "provenance": []
    },
    "kernelspec": {
      "display_name": "rdp_venv",
      "language": "python",
      "name": "python3"
    },
    "language_info": {
      "codemirror_mode": {
        "name": "ipython",
        "version": 3
      },
      "file_extension": ".py",
      "mimetype": "text/x-python",
      "name": "python",
      "nbconvert_exporter": "python",
      "pygments_lexer": "ipython3",
      "version": "3.10.12"
    }
  },
  "nbformat": 4,
  "nbformat_minor": 0
}
