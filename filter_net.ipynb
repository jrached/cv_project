{
 "cells": [
  {
   "cell_type": "markdown",
   "metadata": {},
   "source": [
    "### FilterNet\n",
    "A neural network for filtering out gaussian noise from an image introduced by aggressive accelerations on the vehicle carrying the camera. "
   ]
  },
  {
   "cell_type": "code",
   "execution_count": 2,
   "metadata": {},
   "outputs": [
    {
     "name": "stderr",
     "output_type": "stream",
     "text": [
      "/home/jrached/.local/lib/python3.10/site-packages/matplotlib/projections/__init__.py:63: UserWarning: Unable to import Axes3D. This may be due to multiple versions of Matplotlib being installed (e.g. as a system package and as a pip package). As a result, the 3D projection is not available.\n",
      "  warnings.warn(\"Unable to import Axes3D. This may be due to multiple versions of \"\n"
     ]
    }
   ],
   "source": [
    "import os \n",
    "import torch \n",
    "import torch.nn as nn \n",
    "import numpy as np \n",
    "import pandas as pd \n",
    "from scipy.spatial.transform import Rotation as R \n",
    "import matplotlib.pyplot as plt\n",
    "from skimage import io, transform \n",
    "from PIL import Image    \n",
    "from torch.utils.data import Dataset, DataLoader \n",
    "from torchvision import transforms, utils \n",
    "from typing import List, Dict, Tuple \n",
    "from tqdm import tqdm "
   ]
  },
  {
   "cell_type": "markdown",
   "metadata": {},
   "source": [
    "### Dataset Class and Dataloader"
   ]
  },
  {
   "cell_type": "code",
   "execution_count": null,
   "metadata": {},
   "outputs": [],
   "source": [
    "# Create dataset class \n",
    "\n",
    "class VideoDataset(Dataset):\n",
    "    def __init__(self, path_to_data, augmented=False, num_vids=7, seq_length=5):\n",
    "        \"\"\"\n",
    "        Go through each video folder and build a map from \n",
    "        index i in range [0, N], where N is the total number\n",
    "        of frames in all the videos, to a tuple (j, k), where \n",
    "        j is the video number and k the frame index in that \n",
    "        video. For reference, the videos are stored in the \n",
    "        dataset as:  \n",
    "\n",
    "        data: \n",
    "        - test1: \n",
    "          - inputs:\n",
    "            - bd_poses.csv\n",
    "            - bd_twists.csv\n",
    "            - frame0000.png\n",
    "            - frame0001.png\n",
    "            - ... \n",
    "          - targets: \n",
    "            - frame0000.png\n",
    "            - frame0001.png\n",
    "            - ... \n",
    "        - test2: \n",
    "            - ... \n",
    "        - ... \n",
    "        \"\"\" \n",
    "        self.seq_length = seq_length\n",
    "        self.augmented = augmented\n",
    "        self.num_vids = num_vids \n",
    "        self.path_to_data = path_to_data \n",
    "        self.idx_map: List[Tuple[int, int]] = []\n",
    "        self.poses: Dict[int, np.ndarray] = {}\n",
    "        self.twists: Dict[int, np.ndarray] = {} \n",
    "        for i in tqdm(range(1, self.num_vids + 1)):\n",
    "            # Define path to pose \n",
    "            pose_path = os.path.join(path_to_data, f'test{i}/inputs/bd_poses.csv')\n",
    "            twist_path = os.path.join(path_to_data, f'test{i}/inputs/bd_twists.csv')\n",
    "\n",
    "            # Check that files were opened properly \n",
    "            if not os.path.isfile(pose_path):\n",
    "                raise FileNotFoundError(f\"Missing pose file: {pose_path}\")\n",
    "            if not os.path.isfile(twist_path):\n",
    "                raise FileNotFoundError(f\"Missing twist file: {twist_path}\")  \n",
    "\n",
    "            # Get poses \n",
    "            self.poses[i] = pd.read_csv(pose_path).to_numpy() \n",
    "            self.twists[i] = pd.read_csv(twist_path).to_numpy() \n",
    "\n",
    "            # Get pose data frame \n",
    "            num_frames = self.poses[i].shape[0] \n",
    "\n",
    "            # Update index map \n",
    "            video_num = [i] * num_frames \n",
    "            frame_idx = list(range(0, num_frames))\n",
    "            self.idx_map.extend(list(zip(video_num, frame_idx)))\n",
    "\n",
    "        self.total_num_frames = len(self.idx_map)\n",
    "\n",
    "    def __len__(self): \n",
    "        \"\"\"\n",
    "        Return length of dataset as computed in __init__() function. \n",
    "        \"\"\"\n",
    "        # Remove T last elements to prevent out of index error when retrieving sequence of length T\n",
    "        return self.total_num_frames - self.seq_length\n",
    "    \n",
    "    def __getitem__(self, idx): \n",
    "        \"\"\" \n",
    "        Use map built in __init__() to retrieve the image, \n",
    "        pose, and twist directly from the dataset. \n",
    "        This avoids loading the entire dataset which \n",
    "        overwhelms RAM. \n",
    "        \"\"\"\n",
    "        assert idx < self.total_num_frames - self.seq_length \n",
    "        if torch.is_tensor(idx): \n",
    "            idx = idx.tolist() \n",
    "\n",
    "        # Define path to data \n",
    "        test_idx, frame_idx = self.idx_map[idx]\n",
    "        padded_frame_idx = self.to_zero_pad_idx(frame_idx) \n",
    "        input_img_path = os.path.join(self.path_to_data,\n",
    "                                f'test{test_idx}/inputs/frame{padded_frame_idx}.png')\n",
    "        output_img_path = os.path.join(self.path_to_data,\n",
    "                                f'test{test_idx}/targets/frame{padded_frame_idx}.png')\n",
    "        \n",
    "        # Load and process data \n",
    "        input_frame = io.imread(input_img_path)        \n",
    "        output_frame = io.imread(output_img_path)        \n",
    "        input_frame = self.to_grayscale(input_frame) \n",
    "        output_frame = self.to_grayscale(output_frame) \n",
    "        pose = self.poses[test_idx][frame_idx]\n",
    "        pose = self.pose_vector_from_matrix(pose)\n",
    "        twist = self.twists[test_idx][frame_idx]\n",
    "\n",
    "        if self.augmented: \n",
    "            h, w = input_frame.shape \n",
    "            expanded_frame = torch.from_numpy(input_frame).float().view(h, w, 1) \n",
    "            expanded_pose = torch.from_numpy(pose).float().view(1, 1, -1).repeat(h, w, 1)\n",
    "            expanded_twist = torch.from_numpy(twist).float().view(1, 1, -1).repeat(h, w, 1)  \n",
    "            augmented_frame = torch.cat((expanded_frame, expanded_pose, expanded_twist), dim=-1)\n",
    "            \n",
    "            return {'input': augmented_frame, 'target': torch.from_numpy(output_frame).float()}\n",
    "\n",
    "        return {'input': (torch.from_numpy(input_frame).float(), torch.from_numpy(pose).float(), torch.from_numpy(twist).float()), 'target': torch.from_numpy(output_frame).float()}\n",
    "\n",
    "    def to_zero_pad_idx(self, idx):\n",
    "        \"\"\" \n",
    "        Convert frame index from regular index to lexicographical index. \n",
    "        e.g. 1 -> 00001, 12 -> 00012 \n",
    "        \"\"\"\n",
    "        return f'{idx:05d}'\n",
    "\n",
    "    def pose_vector_from_matrix(self, pose): \n",
    "        \"\"\"\n",
    "        Convert 4x4 pose matrix (as a flattenned length 16 vector) into a position and quaternion length 7 vector. \n",
    "        \"\"\"\n",
    "        pose = pose.reshape(4, 4) \n",
    "        position = pose[:3, 3].reshape(3, 1) \n",
    "        orientation = pose[:3, :3]\n",
    "\n",
    "        quat = R.from_matrix(orientation).as_quat().reshape(-1, 1) \n",
    "        norm_quat = quat / np.linalg.norm(quat) \n",
    "\n",
    "        return np.vstack((position, norm_quat)).reshape(-1)\n",
    "\n",
    "    def to_grayscale(self, image):\n",
    "        \"\"\" \n",
    "        Convert PNG image to grayscale mask \n",
    "        \"\"\" \n",
    "        #TODO: Try float16 type \n",
    "        return (image[..., 0] > 127).astype(np.float32)\n",
    "        \n",
    "\n",
    "        "
   ]
  },
  {
   "cell_type": "code",
   "execution_count": null,
   "metadata": {},
   "outputs": [
    {
     "name": "stderr",
     "output_type": "stream",
     "text": [
      "100%|██████████| 7/7 [00:00<00:00, 123.33it/s]\n"
     ]
    }
   ],
   "source": [
    "# Make dataloader and load data \n",
    "path_to_data = '/home/jrached/cv_project_code/project/data/filter_net/processed_flow'\n",
    "dataset = VideoDataset(path_to_data, augmented=False)\n",
    "loader = DataLoader(dataset, batch_size=32, shuffle=False, num_workers=1) #NOTE: num_workers is the number of extra processes running in parallel retrieving the data\n"
   ]
  },
  {
   "cell_type": "markdown",
   "metadata": {},
   "source": [
    "### Image and State Encoders"
   ]
  },
  {
   "cell_type": "code",
   "execution_count": null,
   "metadata": {},
   "outputs": [],
   "source": [
    "# Use transforms to resize images \n",
    "# This is an example, but it must actually be performed before feeding image data to encoder\n",
    "features = next(iter(loader)) \n",
    "transform = transforms.Resize((256, 256))\n",
    "resized_img = transform(features[0])\n",
    "resized_img.shape"
   ]
  },
  {
   "cell_type": "code",
   "execution_count": null,
   "metadata": {},
   "outputs": [],
   "source": [
    "# Write classes for compression networks \n",
    "\n",
    "class ImgEncoder(nn.Module): \n",
    "    def __init__(self, in_channel=1, hidden_channel=16, out_channel=32):\n",
    "        \"\"\"\n",
    "        Define convolutional neural network architecture for compressing a 256 x 256 image into a 1024 embedding vector.\n",
    "        \"\"\"\n",
    "        super().__init__()\n",
    "        linear_in_dim = out_channel * 64 ** 2 \n",
    "        linear_out_dim = 1024\n",
    "        self.conv_stack = nn.Sequential(\n",
    "                            nn.Conv2d(in_channel, hidden_channel, 16, stride=2, padding=7), # h_in, w_in = (256, 256); h_out, w_out = (128, 128)\n",
    "                            nn.ReLU(),\n",
    "                            nn.Conv2d(hidden_channel, out_channel, 4, stride=2, padding=1), # h_in, w_in = (128, 128); h_out, w_out = (64, 64) \n",
    "                            nn.ReLU(), \n",
    "                            nn.Flatten(start_dim=1, end_dim=-1), # Flattens (c_out, h_out, w_out) = (32, 64, 64) into 131072\n",
    "                            nn.Linear(linear_in_dim, linear_out_dim) # Encodes the 131072 length flattened convolved image into a 1024 length embedding vector\n",
    "        ) \n",
    "\n",
    "    def forward(self, x): \n",
    "        \"\"\"\n",
    "        Define neural network forward pass \n",
    "        \"\"\"\n",
    "        return self.conv_stack(x)\n",
    "    \n",
    "\n",
    "class StateEncoder(nn.Module): \n",
    "    def __init__(self, in_dim=13, out_dim=128): \n",
    "        \"\"\"\n",
    "        Define linear layer to generate a length 128 embedding vector from length 13 pose and twist vector. \n",
    "        \"\"\"\n",
    "        super().__init__()\n",
    "        self.linear_layer = nn.Linear(in_dim, out_dim)\n",
    "\n",
    "    def forward(self, x): \n",
    "        \"\"\" \n",
    "        Define nueral network forward pass \n",
    "        \"\"\"\n",
    "        return self.linear_layer(x) "
   ]
  },
  {
   "cell_type": "code",
   "execution_count": null,
   "metadata": {},
   "outputs": [],
   "source": [
    "# Test conv encoder \n",
    "mock_img_data = torch.zeros((64, 1, 256, 256))\n",
    "img_encoder = ImgEncoder() \n",
    "img_embedding = img_encoder(mock_img_data) \n",
    "\n",
    "# Test state encoder \n",
    "mock_state_data = torch.zeros((64, 13))\n",
    "state_encoder = StateEncoder()\n",
    "state_embedding = state_encoder(mock_state_data)\n"
   ]
  },
  {
   "cell_type": "code",
   "execution_count": null,
   "metadata": {},
   "outputs": [],
   "source": [
    "img_embedding.shape\n",
    "state_embedding.shape"
   ]
  },
  {
   "cell_type": "markdown",
   "metadata": {},
   "source": [
    "### LSTM \n",
    "\n",
    "LSTM class with image and state embeddings \n"
   ]
  },
  {
   "cell_type": "code",
   "execution_count": null,
   "metadata": {},
   "outputs": [],
   "source": [
    "# Define LSTM class \n",
    "class FilterNet(nn.Module):\n",
    "    def __init__(self, in_dim=1152, hidden_dim=512):\n",
    "        \"\"\"\n",
    "        Define LSTM architecture with image and state encoders\n",
    "        Must concatenate image and state embeddings to make a 1024 + 128 length embedding vector for lstm \n",
    "        lstm input dimension is then 1024 + 128 = 1152 \n",
    "        \"\"\"\n",
    "        super().__init__()\n",
    "        self.in_dim = in_dim \n",
    "        self.hidden_dim = hidden_dim \n",
    "        self.image_encoder = ImgEncoder()\n",
    "        self.state_encoder = StateEncoder() \n",
    "        self.lstm = nn.LSTM(in_dim, hidden_dim ) \n"
   ]
  },
  {
   "cell_type": "markdown",
   "metadata": {},
   "source": [
    "### Traning Loop"
   ]
  },
  {
   "cell_type": "markdown",
   "metadata": {},
   "source": [
    "### Testing: \n",
    "#### Testing Dataloader"
   ]
  },
  {
   "cell_type": "code",
   "execution_count": 72,
   "metadata": {},
   "outputs": [],
   "source": [
    "counter = 0 \n",
    "for datapoint in loader:\n",
    "    found_one = False\n",
    "    features = datapoint['input']\n",
    "    labels = datapoint['target']\n",
    "\n",
    "    for i in range(32):\n",
    "        image = features[0][i] \n",
    "        if counter > 1502:\n",
    "            found_one = True\n",
    "            break\n",
    "        counter += 1\n",
    "    \n",
    "    if found_one: \n",
    "        break\n"
   ]
  },
  {
   "cell_type": "code",
   "execution_count": 73,
   "metadata": {},
   "outputs": [
    {
     "data": {
      "text/plain": [
       "1503"
      ]
     },
     "execution_count": 73,
     "metadata": {},
     "output_type": "execute_result"
    }
   ],
   "source": [
    "features[0].shape\n",
    "counter"
   ]
  },
  {
   "cell_type": "code",
   "execution_count": null,
   "metadata": {},
   "outputs": [
    {
     "data": {
      "text/plain": [
       "tensor([-1.3603,  0.6753,  2.2040,  0.0300,  0.0131,  0.1257,  0.9915])"
      ]
     },
     "execution_count": 74,
     "metadata": {},
     "output_type": "execute_result"
    }
   ],
   "source": [
    "pose = features[1]\n",
    "pose[28]"
   ]
  },
  {
   "cell_type": "markdown",
   "metadata": {},
   "source": [
    "#### Testing interpolated twist"
   ]
  },
  {
   "cell_type": "code",
   "execution_count": null,
   "metadata": {},
   "outputs": [
    {
     "data": {
      "image/png": "[encoded data removed]",
      "text/plain": [
       "<Figure size 640x480 with 1 Axes>"
      ]
     },
     "metadata": {},
     "output_type": "display_data"
    }
   ],
   "source": [
    "features[1]\n",
    "twist = features[2]\n",
    "\n",
    "plt.plot(pose[:, 0])\n",
    "plt.plot(twist[:, 0])\n",
    "plt.legend([\"pos_x\", \"vel_x\"])\n",
    "plt.show()"
   ]
  },
  {
   "cell_type": "code",
   "execution_count": 67,
   "metadata": {},
   "outputs": [
    {
     "data": {
      "text/plain": [
       "<matplotlib.image.AxesImage at 0x7aa6d1ed3190>"
      ]
     },
     "execution_count": 67,
     "metadata": {},
     "output_type": "execute_result"
    },
    {
     "data": {
      "image/png": "[encoded data removed]",
      "text/plain": [
       "<Figure size 640x480 with 1 Axes>"
      ]
     },
     "metadata": {},
     "output_type": "display_data"
    }
   ],
   "source": [
    "image = features[0][28] \n",
    "image.max()\n",
    "plt.imshow(image)"
   ]
  },
  {
   "cell_type": "code",
   "execution_count": null,
   "metadata": {},
   "outputs": [
    {
     "data": {
      "text/plain": [
       "torch.Size([32, 256, 256])"
      ]
     },
     "execution_count": 43,
     "metadata": {},
     "output_type": "execute_result"
    }
   ],
   "source": []
  }
 ],
 "metadata": {
  "kernelspec": {
   "display_name": "Python 3",
   "language": "python",
   "name": "python3"
  },
  "language_info": {
   "codemirror_mode": {
    "name": "ipython",
    "version": 3
   },
   "file_extension": ".py",
   "mimetype": "text/x-python",
   "name": "python",
   "nbconvert_exporter": "python",
   "pygments_lexer": "ipython3",
   "version": "3.10.12"
  }
 },
 "nbformat": 4,
 "nbformat_minor": 2
}
