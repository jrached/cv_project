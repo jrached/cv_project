{
  "cells": [
    {
      "cell_type": "markdown",
      "metadata": {
        "id": "Fa2szzXO2TkX"
      },
      "source": [
        "### FilterNet\n",
        "A neural network for filtering out gaussian noise from an image introduced by aggressive accelerations on the vehicle carrying the camera."
      ]
    },
    {
      "cell_type": "code",
      "execution_count": 1,
      "metadata": {
        "id": "NnM9R8Ai2Tka"
      },
      "outputs": [],
      "source": [
        "import os\n",
        "import torch\n",
        "import torch.nn as nn\n",
        "import numpy as np\n",
        "import pandas as pd\n",
        "from scipy.spatial.transform import Rotation as R\n",
        "import matplotlib.pyplot as plt\n",
        "from skimage import io, transform\n",
        "from PIL import Image\n",
        "from torch.utils.data import Dataset, DataLoader, random_split\n",
        "from torchvision import transforms, utils\n",
        "from typing import List, Dict, Tuple\n",
        "from tqdm import tqdm"
      ]
    },
    {
      "cell_type": "markdown",
      "metadata": {
        "id": "_sve0geD2Tkb"
      },
      "source": [
        "### Dataset Class and Dataloader"
      ]
    },
    {
      "cell_type": "code",
      "execution_count": 2,
      "metadata": {
        "id": "nZQXyVbA2Tkb"
      },
      "outputs": [],
      "source": [
        "# Set device to cuda\n",
        "device = torch.device('cuda:0')\n",
        "\n",
        "# Create dataset class\n",
        "class VideoDataset(Dataset):\n",
        "    def __init__(self, path_to_data, augmented=False, num_vids=7, seq_length=5, img_size=256):\n",
        "        \"\"\"\n",
        "        Go through each video folder and build a map from\n",
        "        index i in range [0, N], where N is the total number\n",
        "        of frames in all the videos, to a tuple (j, k), where\n",
        "        j is the video number and k the frame index in that\n",
        "        video. For reference, the videos are stored in the\n",
        "        dataset as:\n",
        "\n",
        "        data:\n",
        "        - test1:\n",
        "          - inputs:\n",
        "            - bd_poses.csv\n",
        "            - bd_twists.csv\n",
        "            - frame0000.png\n",
        "            - frame0001.png\n",
        "            - ...\n",
        "          - targets:\n",
        "            - frame0000.png\n",
        "            - frame0001.png\n",
        "            - ...\n",
        "        - test2:\n",
        "            - ...\n",
        "        - ...\n",
        "        \"\"\"\n",
        "        self.img_size = img_size\n",
        "        self.seq_length = seq_length\n",
        "        self.augmented = augmented\n",
        "        self.num_vids = num_vids\n",
        "        self.path_to_data = path_to_data\n",
        "        self.idx_map: List[Tuple[int, int]] = []\n",
        "        self.poses: Dict[int, np.ndarray] = {}\n",
        "        self.twists: Dict[int, np.ndarray] = {}\n",
        "        for i in tqdm(range(1, self.num_vids + 1)):\n",
        "            # Define path to pose\n",
        "            pose_path = os.path.join(path_to_data, f'test{i}/inputs/bd_poses.csv')\n",
        "            twist_path = os.path.join(path_to_data, f'test{i}/inputs/bd_twists.csv')\n",
        "\n",
        "            # Check that files were opened properly\n",
        "            if not os.path.isfile(pose_path):\n",
        "                raise FileNotFoundError(f\"Missing pose file: {pose_path}\")\n",
        "            if not os.path.isfile(twist_path):\n",
        "                raise FileNotFoundError(f\"Missing twist file: {twist_path}\")\n",
        "\n",
        "            # Get poses\n",
        "            self.poses[i] = pd.read_csv(pose_path).to_numpy()\n",
        "            self.twists[i] = pd.read_csv(twist_path).to_numpy()\n",
        "\n",
        "            # Get number of sequences in this video: num_frames - (seq_length - 1)\n",
        "            num_sequences = (self.poses[i].shape[0] - 1) - (self.seq_length - 1)\n",
        "\n",
        "            # Update index map\n",
        "            video_num = [i] * num_sequences\n",
        "            frame_idx = list(range(0, num_sequences))\n",
        "            self.idx_map.extend(list(zip(video_num, frame_idx)))\n",
        "\n",
        "        self.total_num_sequences = len(self.idx_map)\n",
        "\n",
        "    def __len__(self):\n",
        "        \"\"\"\n",
        "        Return length of dataset as computed in __init__() function.\n",
        "        \"\"\"\n",
        "        return self.total_num_sequences\n",
        "\n",
        "    def __getitem__(self, idx):\n",
        "        \"\"\"\n",
        "        Use map built in __init__() to retrieve the image,\n",
        "        pose, and twist directly from the dataset.\n",
        "        This avoids loading the entire dataset which\n",
        "        overwhelms RAM.\n",
        "        \"\"\"\n",
        "        assert idx < self.total_num_sequences\n",
        "        if torch.is_tensor(idx):\n",
        "            idx = idx.tolist()\n",
        "\n",
        "        seq_start = True\n",
        "        for i in range(self.seq_length):\n",
        "            # Define path to data\n",
        "            test_idx, frame_idx = self.idx_map[idx]\n",
        "            frame_idx += i\n",
        "            padded_frame_idx = self.to_zero_pad_idx(frame_idx)\n",
        "            input_img_path = os.path.join(self.path_to_data,\n",
        "                                    f'test{test_idx}/inputs/frame{padded_frame_idx}.png')\n",
        "            output_img_path = os.path.join(self.path_to_data,\n",
        "                                    f'test{test_idx}/targets/frame{padded_frame_idx}.png')\n",
        "\n",
        "            # Debug: \n",
        "            # print(f'\\ntest idx, frame idx: {test_idx, frame_idx}')\n",
        "\n",
        "            # Load and process data\n",
        "            input_frame = io.imread(input_img_path)\n",
        "            output_frame = io.imread(output_img_path)\n",
        "            input_frame = torch.from_numpy(self.to_grayscale(input_frame)).float()\n",
        "            output_frame = torch.from_numpy(self.to_grayscale(output_frame)).float()\n",
        "            pose = self.poses[test_idx][frame_idx]\n",
        "            pose = torch.from_numpy(self.pose_vector_from_matrix(pose).reshape(-1, 1)).float()\n",
        "            twist = torch.from_numpy(self.twists[test_idx][frame_idx].reshape(-1, 1)).float()\n",
        "            state = torch.cat((pose, twist), dim=0).view(-1)\n",
        "\n",
        "            # Resize frames\n",
        "            h, w = self.img_size, self.img_size\n",
        "            resize_frame = transforms.Resize((h, w))\n",
        "            output_frame = resize_frame(output_frame.unsqueeze(0))\n",
        "            input_frame = resize_frame(input_frame.unsqueeze(0))\n",
        "\n",
        "            if not self.augmented:\n",
        "                # Initialize sequence\n",
        "                if seq_start:\n",
        "                    in_frame_seq = torch.zeros_like(input_frame).view(1, 1, h, w).repeat((self.seq_length, 1, 1, 1))\n",
        "                    out_frame_seq = torch.zeros_like(output_frame).view(1, 1, h, w).repeat((self.seq_length, 1, 1, 1))\n",
        "                    state_seq = torch.zeros_like(state).unsqueeze(0).repeat((self.seq_length, 1))\n",
        "                    seq_start = False\n",
        "\n",
        "                # Update sequence\n",
        "                in_frame_seq[i] = input_frame.view(1, h, w)\n",
        "                out_frame_seq[i] = output_frame.view(1, h, w)\n",
        "                state_seq[i] = state\n",
        "\n",
        "            # If we want a broadcasted frame, pose, twist tensor of shape (B, T, 1, H, W, 14)\n",
        "            else:\n",
        "                expanded_frame = input_frame.view(1, h, w, 1)\n",
        "                expanded_state = state.view(1, 1, 1, -1).repeat(1, h, w, 1)\n",
        "                augmented_frame = torch.cat((expanded_frame, expanded_state), dim=-1)\n",
        "\n",
        "                # Initialize augmented sequence\n",
        "                if seq_start:\n",
        "                    aug_seq_in = torch.zeros_like(augmented_frame).unsqueeze(0).repeat((self.seq_length, 1, 1, 1, 1))\n",
        "                    aug_seq_out = torch.zeros_like(output_frame).unsqueeze(0).repeat((self.seq_length, 1, 1, 1))\n",
        "                    seq_start = False\n",
        "\n",
        "                # Update augmented sequence\n",
        "                aug_seq_in[i] = augmented_frame\n",
        "                aug_seq_out[i] = output_frame\n",
        "\n",
        "        return {'input': (in_frame_seq, state_seq), 'target': out_frame_seq} if not self.augmented else {'input': aug_seq_in, 'target': aug_seq_out}\n",
        "\n",
        "    def to_zero_pad_idx(self, idx):\n",
        "        \"\"\"\n",
        "        Convert frame index from regular index to zero-padded index.\n",
        "        e.g. 1 -> 00001, 12 -> 00012\n",
        "        \"\"\"\n",
        "        return f'{idx:05d}'\n",
        "\n",
        "    def pose_vector_from_matrix(self, pose):\n",
        "        \"\"\"\n",
        "        Convert 4x4 pose matrix (as a flattenned length 16 vector) into a position and quaternion length 7 vector.\n",
        "        \"\"\"\n",
        "        pose = pose.reshape(4, 4)\n",
        "        position = pose[:3, 3].reshape(3, 1)\n",
        "        orientation = pose[:3, :3]\n",
        "\n",
        "        quat = R.from_matrix(orientation).as_quat().reshape(-1, 1)\n",
        "        norm_quat = quat / np.linalg.norm(quat)\n",
        "\n",
        "        return np.vstack((position, norm_quat)).reshape(-1)\n",
        "\n",
        "    def to_grayscale(self, image):\n",
        "        \"\"\"\n",
        "        Convert PNG image to grayscale mask\n",
        "        \"\"\"\n",
        "        #TODO: Try float16 type\n",
        "        return (image[..., 0] > 127).astype(np.float32)\n"
      ]
    },
    {
      "cell_type": "markdown",
      "metadata": {
        "id": "CWqqQFt_2Tkc"
      },
      "source": [
        "### Submodules\n",
        "\n",
        "Here are the Encoders, Decoder, and LSTM"
      ]
    },
    {
      "cell_type": "code",
      "execution_count": 3,
      "metadata": {
        "id": "FDZEvwW82Tkd"
      },
      "outputs": [],
      "source": [
        "# Write classes for compression networks\n",
        "\n",
        "#TODO: Try a conv3d encoder. conv3d layers encode temporal information. (Alternative to LSTM). An alternative to the current pipeline would\n",
        "# be to use the augmented data tensor (without compressing it) and a conv3d layer to process the (T, B, 1, H, W, 14) input. Which would need to be\n",
        "#reshaped to (B, 1, T, H, W, 14). I wouldn't know what to do with the state dimension. Treat them as channels (image, pose, twist)? Flatten them with the sequence dim?\n",
        "\n",
        "class ImgEncoder(nn.Module):\n",
        "    def __init__(self, in_channel=1, hidden_channel=16, out_channel=32, h_in=256, out_dim=1024):\n",
        "        \"\"\"\n",
        "        Define convolutional neural network architecture for compressing a 256 x 256 image into a 1024 embedding vector.\n",
        "        Assumes image is square.\n",
        "        \"\"\"\n",
        "        super().__init__()\n",
        "\n",
        "        # Compute image shape after convolution\n",
        "        stride = 2\n",
        "        padding_one, padding_two = 7, 1\n",
        "        num_ker_one, num_ker_two = 16, 4\n",
        "        h_out = (h_in + 2 * padding_one - num_ker_one) // stride + 1\n",
        "        h_out = (h_out + 2 * padding_two - num_ker_two) // stride + 1\n",
        "\n",
        "        # Define CNN\n",
        "        linear_in_dim = out_channel * h_out ** 2\n",
        "        linear_out_dim = out_dim\n",
        "        self.conv_stack = nn.Sequential(\n",
        "                            nn.Conv2d(in_channel, hidden_channel, num_ker_one, stride=stride, padding=padding_one), # h_in, w_in = (256, 256); h_out, w_out = (128, 128)\n",
        "                            nn.ReLU(),\n",
        "                            nn.Conv2d(hidden_channel, out_channel, num_ker_two, stride=stride, padding=padding_two), # h_in, w_in = (128, 128); h_out, w_out = (64, 64)\n",
        "                            nn.ReLU(),\n",
        "                            nn.Flatten(start_dim=1, end_dim=-1), # Flattens (c_out, h_out, w_out) = (32, 64, 64) into 131072\n",
        "                            nn.Linear(linear_in_dim, linear_out_dim) # Encodes the 131072 length flattened convolved image into a 1024 length embedding vector\n",
        "        )\n",
        "\n",
        "    def forward(self, x):\n",
        "        \"\"\"\n",
        "        Define neural network forward pass\n",
        "        Input has shape (T, B, 1, H, W)\n",
        "        \"\"\"\n",
        "        return self.conv_stack(x[-1])\n",
        "\n",
        "class ImgSeqEncoder(nn.Module):\n",
        "    def __init__(self, in_channel=1, hidden_channel=16, out_channel=32, h_in=256, out_dim=1024):\n",
        "        \"\"\"\n",
        "        Define convolutional neural network architecture for compressing a SEQUENCE of 256 x 256 images into a 1024 embedding vector.\n",
        "        Assumes image is square.\n",
        "        \"\"\"\n",
        "        super().__init__()\n",
        "\n",
        "        # Compute image shape after convolution\n",
        "        stride = 2\n",
        "        padding_one, padding_two = 7, 1\n",
        "        num_ker_one, num_ker_two = 16, 4\n",
        "        h_out = (h_in + 2 * padding_one - num_ker_one) // stride + 1\n",
        "        h_out = (h_out + 2 * padding_two - num_ker_two) // stride + 1\n",
        "\n",
        "        # Define CNN\n",
        "        linear_in_dim = out_channel * h_out ** 2\n",
        "        linear_out_dim = out_dim\n",
        "        self.conv_stack = nn.Sequential(\n",
        "                            nn.Conv2d(in_channel, hidden_channel, num_ker_one, stride=stride, padding=padding_one), # h_in, w_in = (256, 256); h_out, w_out = (128, 128)\n",
        "                            nn.ReLU(),\n",
        "                            nn.Conv2d(hidden_channel, out_channel, num_ker_two, stride=stride, padding=padding_two), # h_in, w_in = (128, 128); h_out, w_out = (64, 64)\n",
        "                            nn.ReLU(),\n",
        "                            nn.Flatten(start_dim=1, end_dim=-1), # Flattens (c_out, h_out, w_out) = (32, 64, 64) into 131072\n",
        "                            nn.Linear(linear_in_dim, linear_out_dim) # Encodes the 131072 length flattened convolved image into a 1024 length embedding vector\n",
        "        )\n",
        "\n",
        "    def forward(self, x):\n",
        "        \"\"\"\n",
        "        Define neural network forward pass\n",
        "        Input has shape (T, B, 1, H, W)\n",
        "        \"\"\"\n",
        "        seq_len, batch_size, _, h, w = x.shape\n",
        "        x = x.reshape(seq_len * batch_size, 1, h, w)\n",
        "        return self.conv_stack(x).reshape(seq_len, batch_size, -1)\n",
        "    \n",
        "class Conv3DImgSeqEncoder(nn.Module):\n",
        "    def __init__(self, in_channel=1, hidden_channel=16, out_channel=32, h_in=256, out_dim=4096):\n",
        "        super().__init__()\n",
        "\n",
        "        # Image height after two conv layers with kernel size 3 and stride 2\n",
        "        h_out = h_in // 8  # Assuming 2x2 stride twice\n",
        "        \n",
        "        self.conv_stack = nn.Sequential(\n",
        "            nn.Conv3d(in_channels=in_channel, out_channels=hidden_channel,\n",
        "                      kernel_size=(1, 7, 7), stride=(1, 2, 2), padding=(0, 3, 3)),  # (B, C=1, T, H=256, W=256) --> (B, 16, T, 128, 128) \n",
        "            nn.ReLU(),\n",
        "\n",
        "            nn.Conv3d(in_channels=hidden_channel, out_channels=out_channel,\n",
        "                      kernel_size=(1, 3, 3), stride=(1, 2, 2), padding=(0, 1, 1)), # (B, 16, T, 128, 128) --> (B, 32, T, 64, 64)\n",
        "            nn.ReLU(), \n",
        "            \n",
        "            nn.Conv3d(in_channels=out_channel, out_channels=out_channel, \n",
        "                      kernel_size=(1, 3, 3), stride=(1, 2, 2), padding=(0, 1, 1)), # (B, 32, T, 64, 64) --> (B, 32, T, 32, 32) \n",
        "            nn.ReLU(), \n",
        "        )\n",
        "\n",
        "        self.linear = nn.Linear(out_channel * h_out * h_out, out_dim)\n",
        "\n",
        "    def forward(self, x):\n",
        "        \"\"\"\n",
        "        x: (B, T, 1, H, W)\n",
        "        return: (B, T, D_emb)\n",
        "        \"\"\"\n",
        "        T, B, C, H, W = x.shape\n",
        "        x = x.permute(1, 2, 0, 3, 4)  # -> (B, C=1, T, H, W)\n",
        "        x = self.conv_stack(x)        # -> (B, C_out, T, H', W')\n",
        "        B, C_out, T, H_out, W_out = x.shape\n",
        "        x = x.permute(2, 0, 1, 3, 4)  # -> (T, B, C_out, H_out, W_out)\n",
        "        x = x.reshape(T, B, -1)       # -> (T, B, C_out * H_out * W_out)\n",
        "        x = self.linear(x)            # -> (T, B, D_emb)\n",
        "        return x\n",
        "\n",
        "class StateEncoder(nn.Module):\n",
        "    def __init__(self, in_dim=13, out_dim=128):\n",
        "        \"\"\"\n",
        "        Define linear layer to generate a length 128 embedding vector from length 13 pose and twist vector.\n",
        "        \"\"\"\n",
        "        super().__init__()\n",
        "        self.linear_layer = nn.Linear(in_dim, out_dim)\n",
        "\n",
        "    def forward(self, x):\n",
        "        \"\"\"\n",
        "        Define nueral network forward pass\n",
        "        Input has shape (T, B, D) need (B, D) \n",
        "        \"\"\"\n",
        "        return self.linear_layer(x[-1])\n",
        "    \n",
        "class StateSeqEncoder(nn.Module):\n",
        "    def __init__(self, in_dim=13, out_dim=128):\n",
        "        \"\"\"\n",
        "        Define linear layer to generate a sequence of length 128 embedding vectors from length 13 pose and twist vectors.\n",
        "        \"\"\"\n",
        "        super().__init__()\n",
        "        self.linear_layer = nn.Linear(in_dim, out_dim)\n",
        "\n",
        "    def forward(self, x):\n",
        "        \"\"\"\n",
        "        Define nueral network forward pass\n",
        "        \"\"\"\n",
        "        return self.linear_layer(x)\n",
        "\n",
        "class ImgDecoder(nn.Module):\n",
        "    def __init__(self, in_channels=5, hidden_channels=3, out_channels=1, in_dim=512, hidden_dim=4096):\n",
        "        \"\"\"\n",
        "        Reconstructs the image from the embedding vector. (B, T, in_dim): (B, 5, 512)\n",
        "        Output image size is (256, 256).\n",
        "        \"\"\"\n",
        "        super().__init__()\n",
        "\n",
        "        # Compute output height\n",
        "        h_in = int(np.sqrt(hidden_dim))\n",
        "        stride = 1\n",
        "        pad_one, pad_two = 34, 71\n",
        "        ker_one, ker_two = 5, 15\n",
        "        self.h_out = (h_in + 2 * pad_one - ker_one) // stride + 1\n",
        "        self.h_out = (self.h_out + 2 * pad_two - ker_two) // stride + 1\n",
        "\n",
        "        # Modules\n",
        "        self.decoder = nn.Sequential(\n",
        "                        nn.Linear(in_dim, hidden_dim), # (B, T, hidden_dim)\n",
        "                        nn.ReLU(),\n",
        "                        nn.Unflatten(dim=-1, unflattened_size=(h_in, h_in)),\n",
        "                        nn.Conv2d(in_channels, hidden_channels, ker_one, stride, pad_one),\n",
        "                        nn.ReLU(),\n",
        "                        nn.Conv2d(hidden_channels, out_channels, ker_two, stride, pad_two),\n",
        "        )\n",
        "\n",
        "    def forward(self, x):\n",
        "        \"\"\"\n",
        "        Input has shape (T, B, D_emb) = (5, 16, 512)\n",
        "        Return predicted last image in sequence (B, 1, h_out, h_out)\n",
        "        It treats the input sequence dimension as an images channels dimension and it convolves\n",
        "        the image back to its original dimension.\n",
        "\n",
        "        TODO: Consider instead of passing (T, B, D_emb) as (T * B, D_emb) and reconstructing as\n",
        "        (T, B, 1, h_out, h_out), pass it as (B, T * D_emb) and reconstruct as (B, 1, h_out, h_out).\n",
        "        \"\"\"\n",
        "        return self.decoder(x.permute(1, 0, 2)) # Convnet expects (B, T, H, W)\n",
        "    \n",
        "class ImgDecoder2(nn.Module):\n",
        "    def __init__(self, in_channels=1, hidden_channels=32, out_channels=1, in_dim=1024, hidden_dim=1024, out_size=256):\n",
        "        super().__init__()\n",
        "        self.out_size = out_size\n",
        "        h_in = int(np.sqrt(hidden_dim))\n",
        "\n",
        "        self.decoder = nn.Sequential(\n",
        "            nn.Linear(in_dim, hidden_dim),\n",
        "            nn.ReLU(),\n",
        "            nn.Unflatten(dim=-1, unflattened_size=(1, h_in, h_in)),  # (B*T, 32, 32, 32)\n",
        "            nn.Upsample(scale_factor=2, mode='nearest'),  # (B*T, 32, 64, 64)\n",
        "            nn.Conv2d(in_channels, hidden_channels, kernel_size=3, padding=1),\n",
        "            nn.ReLU(),\n",
        "            nn.Upsample(scale_factor=2, mode='nearest'),  # (B*T, 16, 128, 128)\n",
        "            nn.Conv2d(hidden_channels, hidden_channels // 2 , kernel_size=3, padding=1),\n",
        "            nn.ReLU(),\n",
        "            nn.Upsample(scale_factor=2, mode='nearest'),  # (B*T, 1, 256, 256)\n",
        "            nn.Conv2d(hidden_channels // 2, out_channels, kernel_size=3, padding=1),\n",
        "        )\n",
        "\n",
        "    def forward(self, x):\n",
        "\n",
        "        seq_len, batch_size, D = x.shape\n",
        "        x = x.reshape(seq_len * batch_size, D)\n",
        "        return self.decoder(x).reshape(seq_len, batch_size, 1, self.out_size, self.out_size)\n",
        "\n",
        "class Conv3DImgSeqDecoder(nn.Module):\n",
        "    def __init__(self, in_dim=4096, out_channels=1, h_out=256):\n",
        "        super().__init__()\n",
        "        self.h_mid = h_out // 8  # 32\n",
        "        self.c_mid = 32\n",
        "\n",
        "        self.linear = nn.Linear(in_dim, self.c_mid * self.h_mid * self.h_mid)\n",
        "\n",
        "        self.deconv_stack = nn.Sequential(\n",
        "            nn.ConvTranspose3d(self.c_mid, self.c_mid, kernel_size=(1, 4, 4), stride=(1, 2, 2), padding=(0, 1, 1)),  # 32→64\n",
        "            nn.ReLU(),\n",
        "            nn.ConvTranspose3d(self.c_mid, self.c_mid // 2, kernel_size=(1, 4, 4), stride=(1, 2, 2), padding=(0, 1, 1)),         # 64→128\n",
        "            nn.ReLU(),\n",
        "            nn.ConvTranspose3d(self.c_mid // 2, out_channels, kernel_size=(1, 4, 4), stride=(1, 2, 2), padding=(0, 1, 1)),       # 128→256\n",
        "        )\n",
        "\n",
        "    def forward(self, x):\n",
        "        # x: (T, B, D)\n",
        "        T, B, D = x.shape\n",
        "        x = self.linear(x)                       # (T, B, C*H*W)\n",
        "        x = x.view(T, B, self.c_mid, self.h_mid, self.h_mid)\n",
        "        x = x.permute(1, 2, 0, 3, 4)             # (B, C, T, H, W)\n",
        "        x = self.deconv_stack(x)                 # (B, 1, T, 256, 256)\n",
        "        x = x.permute(2, 0, 1, 3, 4)             # (T, B, 1, 256, 256)\n",
        "        return x\n",
        "\n",
        "    \n",
        "\n",
        "# Jialin Encoder\n",
        "class SIRENActivation(nn.Module):\n",
        "    def __init__(self, w0=30.0):\n",
        "        super().__init__()\n",
        "        self.w0 = w0\n",
        "\n",
        "    def forward(self, x):\n",
        "        return torch.sin(self.w0 * x)\n",
        "\n",
        "class CNNEncoder(nn.Module):\n",
        "    def __init__(self, input_channels=1, hidden_dim=1024, activation=SIRENActivation(30.0)): # or nn.ReLU\n",
        "        super().__init__()\n",
        "        self.encoder = nn.Sequential(\n",
        "            nn.Conv2d(input_channels, 16, 3, padding=1),\n",
        "            activation,\n",
        "            nn.MaxPool2d(2),\n",
        "            nn.Conv2d(16, 32, 3, padding=1),\n",
        "            activation,\n",
        "            nn.MaxPool2d(2)\n",
        "        )\n",
        "        self.flatten = nn.Flatten()\n",
        "        self.out_dim = 32 * 64 * 64 # 131072\n",
        "        self.fc = nn.Linear(self.out_dim, hidden_dim)\n",
        "\n",
        "    def forward(self, x):  # (T, B, 1, H, W)\n",
        "        T, B, C, H, W = x.shape\n",
        "        x = x.contiguous().view(T * B, C, H, W)\n",
        "        x = self.encoder(x)\n",
        "        x = self.flatten(x)\n",
        "        x = self.fc(x)\n",
        "        x = x.view(T, B, -1)\n",
        "        return x  # (T, B, hidden_dim)\n",
        "\n",
        "# Jialin State Encoder\n",
        "class JStateEncoder(nn.Module):\n",
        "    def __init__(self, pose_dim=13, embed_dim=128):\n",
        "        super().__init__()\n",
        "        self.fc = nn.Sequential(\n",
        "            nn.Linear(pose_dim, embed_dim),\n",
        "            nn.ReLU(),\n",
        "            nn.Linear(embed_dim, embed_dim)\n",
        "        )\n",
        "\n",
        "    def forward(self, pose):  # (T, B, 13)\n",
        "        return self.fc(pose)  # (T, B, embed_dim)\n"
      ]
    },
    {
      "cell_type": "code",
      "execution_count": 4,
      "metadata": {
        "id": "MjdP10Rv2Tke"
      },
      "outputs": [],
      "source": [
        "# Vanilla LSTM\n",
        "class LSTM(nn.Module):\n",
        "    def __init__(self, in_dim, hidden_dim, num_layers=1):\n",
        "        super().__init__()\n",
        "        self.model = nn.LSTM(in_dim, hidden_dim, num_layers=num_layers)\n",
        "\n",
        "    def forward(self, x):\n",
        "        return self.model(x)[0]\n",
        "    \n",
        "class MLP(nn.Module): \n",
        "    def __init__(self, in_dim, hidden_dim, num_layers=3):\n",
        "        super().__init__()\n",
        "        \n",
        "        ### Create model \n",
        "        out_dim = hidden_dim \n",
        "        layers = [nn.Linear(in_dim, hidden_dim), nn.ReLU()]\n",
        "        for _ in range(1, num_layers): \n",
        "            layers.extend([nn.Linear(hidden_dim, hidden_dim), nn.ReLU()])\n",
        "        layers.append(nn.Linear(hidden_dim, out_dim))\n",
        "        self.model = nn.Sequential(*layers) \n",
        "        \n",
        "    def forward(self, x):\n",
        "        \"\"\"\n",
        "        Input has shape (B, D) and decoder Expects (1, B, D) \n",
        "        \"\"\"\n",
        "        x = x\n",
        "        return self.model(x).unsqueeze(0)\n"
      ]
    },
    {
      "cell_type": "code",
      "execution_count": 5,
      "metadata": {},
      "outputs": [],
      "source": [
        "# Loss functions \n",
        "class BCEDiceLoss(nn.Module):\n",
        "    def __init__(self, weight_bce=0.7, weight_dice=0.3, smooth=1.0, weight=250.0):\n",
        "        super().__init__()\n",
        "        self.bce = nn.BCEWithLogitsLoss(pos_weight=torch.tensor([weight], device=device))\n",
        "        self.weight_bce = weight_bce\n",
        "        self.weight_dice = weight_dice\n",
        "        self.smooth = smooth  # to avoid division by zero\n",
        "\n",
        "    def forward(self, logits, targets):\n",
        "        # BCEWithLogitsLoss expects raw logits\n",
        "        bce_loss = self.bce(logits, targets)\n",
        "\n",
        "        # Apply sigmoid to get probabilities\n",
        "        probs = torch.sigmoid(logits)\n",
        "        probs = probs.reshape(-1)\n",
        "        targets = targets.reshape(-1)\n",
        "\n",
        "        intersection = (probs * targets).sum()\n",
        "        dice_score = (2. * intersection + self.smooth) / (\n",
        "            probs.sum() + targets.sum() + self.smooth\n",
        "        )\n",
        "        dice_loss = 1 - dice_score\n",
        "\n",
        "        return self.weight_bce * bce_loss + self.weight_dice * dice_loss"
      ]
    },
    {
      "cell_type": "markdown",
      "metadata": {
        "id": "NBK9Zmsb2Tke"
      },
      "source": [
        "### FilterNet\n",
        "\n",
        "This is the main module which contains the submodules to form a LSTM convolutional autoencoder"
      ]
    },
    {
      "cell_type": "code",
      "execution_count": 6,
      "metadata": {
        "id": "va7AQ7WO2Tke"
      },
      "outputs": [],
      "source": [
        "# Define LSTM class\n",
        "class FilterNet(nn.Module):\n",
        "    def __init__(self, in_dim=4224, hidden_dim=4096, seq_length=3, augmented=False, conv3d=True):\n",
        "        \"\"\"\n",
        "        Define LSTM architecture with image and state encoders\n",
        "        Must concatenate image and state embeddings to make a 1024 + 128 length embedding vector for lstm\n",
        "        lstm input dimension is then 1024 + 128 = 1152\n",
        "\n",
        "        conv3d vals: in_dim 4224, hidden_dim 4096\n",
        "        conv2d vals: in_dim 1152, hidden_dim 1024\n",
        "        \"\"\"\n",
        "        super().__init__()\n",
        "\n",
        "        # Parameters\n",
        "        self.in_dim = in_dim\n",
        "        self.hidden_dim = hidden_dim\n",
        "        self.seq_len = seq_length\n",
        "        self.augmented = augmented\n",
        "\n",
        "        if conv3d:\n",
        "            # Juan Conv3d \n",
        "            self.image_encoder = Conv3DImgSeqEncoder()\n",
        "            self.state_encoder = StateSeqEncoder() \n",
        "            self.lstm = LSTM(in_dim, hidden_dim) \n",
        "            self.image_decoder = Conv3DImgSeqDecoder() \n",
        "            self.loss_fun = BCEDiceLoss()\n",
        "        else:\n",
        "            # Juan Conv2d\n",
        "            self.image_encoder = ImgSeqEncoder()\n",
        "            self.state_encoder = StateSeqEncoder() \n",
        "            self.lstm = LSTM(in_dim, hidden_dim) \n",
        "            self.image_decoder = ImgDecoder2(in_dim=hidden_dim) \n",
        "            self.loss_fun = BCEDiceLoss()\n",
        "\n",
        "\n",
        "\n",
        "    def loss(self, sequence):\n",
        "        \"\"\"\n",
        "        Unless using the augmented (B, T, 1, H, W, 14) tensor, data will come in as a Tuple storing a sequence of {'input', 'target'}\n",
        "        dictionaries. Each 'input' field contains a frame, a pose, and a twist, each as a tensor.\n",
        "\n",
        "        Must loop through the sequence to generate embedding, but for small sequence lengths, the overhead is negligible, and actually\n",
        "        preferable, than the memory overhead of the augmented tensor.\n",
        "        \"\"\"\n",
        "\n",
        "        if self.augmented:\n",
        "            # Retrieve data\n",
        "            input, output = sequence['input'].permute(1, 0, 2, 3, 4, 5), sequence['target'].permute(1, 0, 2, 3, 4) # switch to sequence first\n",
        "            frames = input[..., 0]\n",
        "            state = input[:, :, :, 0, 0, 1:]\n",
        "            out_frame = output[-1, ...]\n",
        "        else:\n",
        "            # Pass each element of the sequence through the model\n",
        "            frames = sequence['input'][0].permute(1, 0, 2, 3, 4) # (B, T, 1, H, W) --> (T, B, 1, H, W)\n",
        "            state = sequence['input'][1].permute(1, 0, 2) # (B, T, 13) --> (T, B, 13)\n",
        "            out_frame = sequence['target'].permute(1, 0, 2, 3, 4) #(B, T, 1, H, W) --> (T, B, 1, H, W)\n",
        "\n",
        "        # Pass inputs through encoders\n",
        "        img_embedding = self.image_encoder(frames) # out dim should be (T, B, d_img_emb)\n",
        "        state_embedding = self.state_encoder(state) # out dim should be (T, B, d_state_emb)\n",
        "\n",
        "        # Concatenate embedding vector and reconstruct sequence as a tensor\n",
        "        compressed_input = torch.cat((img_embedding, state_embedding), dim=-1) # (T, B, in_dim)\n",
        "\n",
        "        # Pass compressed sequence through LSTM\n",
        "        lstm_out = self.lstm(compressed_input) # should have shape (T, B, hidden_dim) (5, 16, 512)\n",
        "\n",
        "        # Pass through decoder to reconstruct predicted last frame in sequence\n",
        "        pred_frames = self.image_decoder(lstm_out)\n",
        "\n",
        "        # Get loss between predicted frame and last frame in target sequence\n",
        "        return self.loss_fun(pred_frames, out_frame), pred_frames[-1, ...]\n"
      ]
    },
    {
      "cell_type": "code",
      "execution_count": 7,
      "metadata": {
        "id": "amF2bPn42Tke",
        "outputId": "a94a8b5f-d8e3-4b47-9d0c-f072dd744c39"
      },
      "outputs": [
        {
          "data": {
            "text/plain": [
              "(tensor(143.3983, device='cuda:0', grad_fn=<AddBackward0>),\n",
              " tensor([[[[-0.2273, -0.2317, -0.2131,  ..., -0.2314, -0.2139, -0.2047],\n",
              "           [-0.2453, -0.2324, -0.2574,  ..., -0.2337, -0.2619, -0.2248],\n",
              "           [-0.2204, -0.2402, -0.2092,  ..., -0.2351, -0.2108, -0.2181],\n",
              "           ...,\n",
              "           [-0.2462, -0.2381, -0.2611,  ..., -0.2395, -0.2625, -0.2230],\n",
              "           [-0.2208, -0.2408, -0.2087,  ..., -0.2378, -0.2111, -0.2147],\n",
              "           [-0.2268, -0.2269, -0.2172,  ..., -0.2299, -0.2177, -0.2406]]],\n",
              " \n",
              " \n",
              "         [[[-0.2273, -0.2317, -0.2131,  ..., -0.2314, -0.2139, -0.2047],\n",
              "           [-0.2453, -0.2324, -0.2574,  ..., -0.2337, -0.2619, -0.2248],\n",
              "           [-0.2204, -0.2402, -0.2092,  ..., -0.2351, -0.2108, -0.2181],\n",
              "           ...,\n",
              "           [-0.2462, -0.2381, -0.2611,  ..., -0.2395, -0.2625, -0.2230],\n",
              "           [-0.2208, -0.2408, -0.2087,  ..., -0.2378, -0.2111, -0.2147],\n",
              "           [-0.2268, -0.2269, -0.2172,  ..., -0.2299, -0.2177, -0.2406]]],\n",
              " \n",
              " \n",
              "         [[[-0.2273, -0.2317, -0.2131,  ..., -0.2314, -0.2139, -0.2047],\n",
              "           [-0.2453, -0.2324, -0.2574,  ..., -0.2337, -0.2619, -0.2248],\n",
              "           [-0.2204, -0.2402, -0.2092,  ..., -0.2351, -0.2108, -0.2181],\n",
              "           ...,\n",
              "           [-0.2462, -0.2381, -0.2611,  ..., -0.2395, -0.2625, -0.2230],\n",
              "           [-0.2208, -0.2408, -0.2087,  ..., -0.2378, -0.2111, -0.2147],\n",
              "           [-0.2268, -0.2269, -0.2172,  ..., -0.2299, -0.2177, -0.2406]]],\n",
              " \n",
              " \n",
              "         ...,\n",
              " \n",
              " \n",
              "         [[[-0.2273, -0.2317, -0.2131,  ..., -0.2314, -0.2139, -0.2047],\n",
              "           [-0.2453, -0.2324, -0.2574,  ..., -0.2337, -0.2619, -0.2248],\n",
              "           [-0.2204, -0.2402, -0.2092,  ..., -0.2351, -0.2108, -0.2181],\n",
              "           ...,\n",
              "           [-0.2462, -0.2381, -0.2611,  ..., -0.2395, -0.2625, -0.2230],\n",
              "           [-0.2208, -0.2408, -0.2087,  ..., -0.2378, -0.2111, -0.2147],\n",
              "           [-0.2268, -0.2269, -0.2172,  ..., -0.2299, -0.2177, -0.2406]]],\n",
              " \n",
              " \n",
              "         [[[-0.2273, -0.2317, -0.2131,  ..., -0.2314, -0.2139, -0.2047],\n",
              "           [-0.2453, -0.2324, -0.2574,  ..., -0.2337, -0.2619, -0.2248],\n",
              "           [-0.2204, -0.2402, -0.2092,  ..., -0.2351, -0.2108, -0.2181],\n",
              "           ...,\n",
              "           [-0.2462, -0.2381, -0.2611,  ..., -0.2395, -0.2625, -0.2230],\n",
              "           [-0.2208, -0.2408, -0.2087,  ..., -0.2378, -0.2111, -0.2147],\n",
              "           [-0.2268, -0.2269, -0.2172,  ..., -0.2299, -0.2177, -0.2406]]],\n",
              " \n",
              " \n",
              "         [[[-0.2273, -0.2317, -0.2131,  ..., -0.2314, -0.2139, -0.2047],\n",
              "           [-0.2453, -0.2324, -0.2574,  ..., -0.2337, -0.2619, -0.2248],\n",
              "           [-0.2204, -0.2402, -0.2092,  ..., -0.2351, -0.2108, -0.2181],\n",
              "           ...,\n",
              "           [-0.2462, -0.2381, -0.2611,  ..., -0.2395, -0.2625, -0.2230],\n",
              "           [-0.2208, -0.2408, -0.2087,  ..., -0.2378, -0.2111, -0.2147],\n",
              "           [-0.2268, -0.2269, -0.2172,  ..., -0.2299, -0.2177, -0.2406]]]],\n",
              "        device='cuda:0', grad_fn=<SelectBackward0>))"
            ]
          },
          "execution_count": 7,
          "metadata": {},
          "output_type": "execute_result"
        }
      ],
      "source": [
        "### Test FilterNet\n",
        "\n",
        "# Generate mock input\n",
        "mock_img_npt_data = torch.zeros((16, 5, 1, 256, 256), device=device)\n",
        "mock_img_trgt_data = torch.ones((16, 5, 1, 256, 256), device=device)\n",
        "mock_state_data = torch.zeros((16, 5, 13), device=device)\n",
        "datapoint = {'input': (mock_img_npt_data, mock_state_data), 'target': mock_img_trgt_data}\n",
        "\n",
        "# Initialize model\n",
        "filternet = FilterNet().to(device)\n",
        "\n",
        "# Test loss function\n",
        "out = filternet.loss(datapoint)\n",
        "out\n"
      ]
    },
    {
      "cell_type": "markdown",
      "metadata": {
        "id": "lV2i0n3x2Tke"
      },
      "source": [
        "### Traning Loop"
      ]
    },
    {
      "cell_type": "code",
      "execution_count": 8,
      "metadata": {},
      "outputs": [],
      "source": [
        "# val function \n",
        "def validate_model(model, val_loader): \n",
        "    model.eval()\n",
        "    val_loss, num_batches = 0, 0\n",
        "\n",
        "    with torch.no_grad(): \n",
        "        for sequence in tqdm(val_loader): \n",
        "            # Move data to device\n",
        "            frames, state = sequence['input']\n",
        "            out_frame = sequence['target']\n",
        "            sequence['input'] = (frames.to(device), state.to(device))\n",
        "            sequence['target'] = out_frame.to(device)\n",
        "\n",
        "            # Feed data to model \n",
        "            loss, _ = model.loss(sequence) \n",
        "\n",
        "            # Keep track of loss \n",
        "            val_loss += loss.item()\n",
        "            num_batches += 1\n",
        "\n",
        "    return val_loss / num_batches "
      ]
    },
    {
      "cell_type": "code",
      "execution_count": 9,
      "metadata": {
        "id": "-0Gjja0K2Tke"
      },
      "outputs": [
        {
          "name": "stderr",
          "output_type": "stream",
          "text": [
            "100%|██████████| 7/7 [00:00<00:00, 125.48it/s]\n"
          ]
        }
      ],
      "source": [
        "# Define training parameters\n",
        "num_epochs = 50 # originally 10\n",
        "num_workers = 4\n",
        "num_vids = 7 \n",
        "path_to_data = '/home/jrached/cv_project_code/project/data/filter_net/processed_flow'\n",
        "augmented = False\n",
        "batch_size = 32\n",
        "seq_length = 3\n",
        "img_size = 256\n",
        "conv3d = False \n",
        "\n",
        "\n",
        "# TODO: Split into train and val loader\n",
        "# deterministic split, same split across runs\n",
        "# generator = torch.Generator().manual_seed(42)\n",
        "# val_ratio = 0.2\n",
        "# val_size = int(len(dataset) * val_ratio)\n",
        "# train_size = len(dataset) - val_size\n",
        "# train_dataset, val_dataset = random_split(dataset, [train_size, val_size], generator=generator)\n",
        "\n",
        "\n",
        "dataset = VideoDataset(path_to_data, augmented=augmented, num_vids=num_vids, seq_length=seq_length, img_size=img_size)\n",
        "# loader = DataLoader(dataset, batch_size=batch_size, shuffle=True, num_workers=num_workers) #NOTE: num_workers is the number of extra processes running in parallel retrieving the data\n",
        "\n",
        "\n",
        "val_ratio = 0.2\n",
        "val_size = int(len(dataset) * val_ratio)\n",
        "train_size = len(dataset) - val_size\n",
        "\n",
        "train_dataset = torch.utils.data.Subset(dataset, list(range(train_size)))\n",
        "val_dataset = torch.utils.data.Subset(dataset, list(range(train_size, len(dataset))))\n",
        "\n",
        "train_loader = DataLoader(train_dataset, batch_size=batch_size, shuffle=True, num_workers=num_workers)\n",
        "val_loader = DataLoader(val_dataset, batch_size=batch_size, shuffle=False, num_workers=num_workers)\n",
        "\n",
        "# Initialize model\n",
        "if conv3d:\n",
        "    model = FilterNet(seq_length=seq_length)\n",
        "else: \n",
        "    #conv2d vals: in_dim 1152, hidden_dim 1024\n",
        "    model = FilterNet(seq_length=seq_length, in_dim= 1152, hidden_dim=1024, conv3d=conv3d)\n",
        "model = model.to(device) \n",
        "\n",
        "# Initialize optimizer\n",
        "# optimizer = torch.optim.SGD(model.parameters(), lr=0.001, momentum=0.9)\n",
        "optimizer = torch.optim.Adam(model.parameters(), lr=0.0001) # lr = 0.001\n",
        "\n",
        "# next(model.parameters()).device\n",
        "\n"
      ]
    },
    {
      "cell_type": "code",
      "execution_count": 10,
      "metadata": {
        "id": "3eeYzpF22Tkf"
      },
      "outputs": [
        {
          "name": "stdout",
          "output_type": "stream",
          "text": [
            "\n",
            "Epoch 1/50:\n"
          ]
        },
        {
          "name": "stderr",
          "output_type": "stream",
          "text": [
            "101it [00:15,  6.56it/s]"
          ]
        },
        {
          "name": "stdout",
          "output_type": "stream",
          "text": [
            " batch 100 loss: 0.7404071393609047\n",
            "Prediction logit mean: -2.4255051612854004, std: 1.6429178714752197, and max: -0.023996561765670776 and min: -7.3934431076049805\n"
          ]
        },
        {
          "name": "stderr",
          "output_type": "stream",
          "text": [
            "201it [00:32,  6.68it/s]"
          ]
        },
        {
          "name": "stdout",
          "output_type": "stream",
          "text": [
            " batch 200 loss: 0.610065408051014\n",
            "Prediction logit mean: -4.731631278991699, std: 2.990007162094116, and max: -0.006859995424747467 and min: -14.22706127166748\n"
          ]
        },
        {
          "name": "stderr",
          "output_type": "stream",
          "text": [
            "300it [00:49,  6.49it/s]"
          ]
        },
        {
          "name": "stdout",
          "output_type": "stream",
          "text": [
            " batch 300 loss: 0.5670484009385109\n",
            "Prediction logit mean: -5.93951416015625, std: 3.32287335395813, and max: 0.015646591782569885 and min: -18.389793395996094\n"
          ]
        },
        {
          "name": "stderr",
          "output_type": "stream",
          "text": [
            "400it [01:06,  6.79it/s]"
          ]
        },
        {
          "name": "stdout",
          "output_type": "stream",
          "text": [
            " batch 400 loss: 0.5251561135053635\n",
            "Prediction logit mean: -5.020140647888184, std: 3.333148241043091, and max: 0.10581979900598526 and min: -18.758161544799805\n"
          ]
        },
        {
          "name": "stderr",
          "output_type": "stream",
          "text": [
            "500it [01:24,  6.48it/s]"
          ]
        },
        {
          "name": "stdout",
          "output_type": "stream",
          "text": [
            " batch 500 loss: 0.49900711327791214\n",
            "Prediction logit mean: -6.520663738250732, std: 4.061415195465088, and max: 0.3683767020702362 and min: -21.845340728759766\n"
          ]
        },
        {
          "name": "stderr",
          "output_type": "stream",
          "text": [
            "535it [01:30,  5.93it/s]\n"
          ]
        },
        {
          "name": "stdout",
          "output_type": "stream",
          "text": [
            "Epoch 1 average training loss: 0.58140731743563\n"
          ]
        },
        {
          "name": "stderr",
          "output_type": "stream",
          "text": [
            "100%|██████████| 134/134 [00:22<00:00,  5.94it/s]"
          ]
        },
        {
          "name": "stdout",
          "output_type": "stream",
          "text": [
            "Epoch validation loss: 0.5165749461348377\n",
            "\n",
            "Epoch 2/50:\n"
          ]
        },
        {
          "name": "stderr",
          "output_type": "stream",
          "text": [
            "\n",
            "100it [00:17,  6.78it/s]"
          ]
        },
        {
          "name": "stdout",
          "output_type": "stream",
          "text": [
            " batch 100 loss: 0.4700169834494591\n",
            "Prediction logit mean: -9.258170127868652, std: 5.220240116119385, and max: 0.9520514011383057 and min: -30.518213272094727\n"
          ]
        },
        {
          "name": "stderr",
          "output_type": "stream",
          "text": [
            "201it [00:35,  6.70it/s]"
          ]
        },
        {
          "name": "stdout",
          "output_type": "stream",
          "text": [
            " batch 200 loss: 0.45757045209407804\n",
            "Prediction logit mean: -8.791654586791992, std: 5.252821445465088, and max: 1.4303313493728638 and min: -34.833030700683594\n"
          ]
        },
        {
          "name": "stderr",
          "output_type": "stream",
          "text": [
            "301it [00:52,  6.14it/s]"
          ]
        },
        {
          "name": "stdout",
          "output_type": "stream",
          "text": [
            " batch 300 loss: 0.44457182884216306\n",
            "Prediction logit mean: -11.454320907592773, std: 5.658875465393066, and max: 1.7288705110549927 and min: -42.04546356201172\n"
          ]
        },
        {
          "name": "stderr",
          "output_type": "stream",
          "text": [
            "400it [01:09,  6.73it/s]"
          ]
        },
        {
          "name": "stdout",
          "output_type": "stream",
          "text": [
            " batch 400 loss: 0.44632150381803515\n",
            "Prediction logit mean: -8.028697967529297, std: 4.92331600189209, and max: 2.245140552520752 and min: -37.02816390991211\n"
          ]
        },
        {
          "name": "stderr",
          "output_type": "stream",
          "text": [
            "500it [01:26,  6.75it/s]"
          ]
        },
        {
          "name": "stdout",
          "output_type": "stream",
          "text": [
            " batch 500 loss: 0.43194683015346524\n",
            "Prediction logit mean: -7.185370445251465, std: 4.856968879699707, and max: 2.507695436477661 and min: -32.75923156738281\n"
          ]
        },
        {
          "name": "stderr",
          "output_type": "stream",
          "text": [
            "535it [01:33,  5.72it/s]\n"
          ]
        },
        {
          "name": "stdout",
          "output_type": "stream",
          "text": [
            "Epoch 2 average training loss: 0.4486772615218831\n"
          ]
        },
        {
          "name": "stderr",
          "output_type": "stream",
          "text": [
            "100%|██████████| 134/134 [00:23<00:00,  5.75it/s]"
          ]
        },
        {
          "name": "stdout",
          "output_type": "stream",
          "text": [
            "Epoch validation loss: 0.4587046005832615\n",
            "\n",
            "Epoch 3/50:\n"
          ]
        },
        {
          "name": "stderr",
          "output_type": "stream",
          "text": [
            "\n",
            "100it [00:17,  6.77it/s]"
          ]
        },
        {
          "name": "stdout",
          "output_type": "stream",
          "text": [
            " batch 100 loss: 0.4191752576828003\n",
            "Prediction logit mean: -9.18342399597168, std: 5.670374870300293, and max: 2.9259374141693115 and min: -38.78535461425781\n"
          ]
        },
        {
          "name": "stderr",
          "output_type": "stream",
          "text": [
            "200it [00:35,  6.87it/s]"
          ]
        },
        {
          "name": "stdout",
          "output_type": "stream",
          "text": [
            " batch 200 loss: 0.42030043214559554\n",
            "Prediction logit mean: -8.36013126373291, std: 5.604383945465088, and max: 3.1459152698516846 and min: -41.04426574707031\n"
          ]
        },
        {
          "name": "stderr",
          "output_type": "stream",
          "text": [
            "300it [00:52,  6.67it/s]"
          ]
        },
        {
          "name": "stdout",
          "output_type": "stream",
          "text": [
            " batch 300 loss: 0.4141811054944992\n",
            "Prediction logit mean: -8.57232666015625, std: 4.931530475616455, and max: 3.357314348220825 and min: -34.82648468017578\n"
          ]
        },
        {
          "name": "stderr",
          "output_type": "stream",
          "text": [
            "400it [01:09,  7.01it/s]"
          ]
        },
        {
          "name": "stdout",
          "output_type": "stream",
          "text": [
            " batch 400 loss: 0.41704689562320707\n",
            "Prediction logit mean: -8.928319931030273, std: 5.584182262420654, and max: 3.431264877319336 and min: -35.02782440185547\n"
          ]
        },
        {
          "name": "stderr",
          "output_type": "stream",
          "text": [
            "500it [01:30,  5.05it/s]"
          ]
        },
        {
          "name": "stdout",
          "output_type": "stream",
          "text": [
            " batch 500 loss: 0.4003005573153496\n",
            "Prediction logit mean: -9.898187637329102, std: 6.051697254180908, and max: 3.708787679672241 and min: -43.28920364379883\n"
          ]
        },
        {
          "name": "stderr",
          "output_type": "stream",
          "text": [
            "535it [01:39,  5.40it/s]\n"
          ]
        },
        {
          "name": "stdout",
          "output_type": "stream",
          "text": [
            "Epoch 3 average training loss: 0.41484295458437126\n"
          ]
        },
        {
          "name": "stderr",
          "output_type": "stream",
          "text": [
            "100%|██████████| 134/134 [00:28<00:00,  4.71it/s]"
          ]
        },
        {
          "name": "stdout",
          "output_type": "stream",
          "text": [
            "Epoch validation loss: 0.4506422505894704\n",
            "\n",
            "Epoch 4/50:\n"
          ]
        },
        {
          "name": "stderr",
          "output_type": "stream",
          "text": [
            "\n",
            "100it [00:18,  6.12it/s]"
          ]
        },
        {
          "name": "stdout",
          "output_type": "stream",
          "text": [
            " batch 100 loss: 0.4027836099267006\n",
            "Prediction logit mean: -9.426191329956055, std: 5.771132946014404, and max: 3.9394962787628174 and min: -41.426395416259766\n"
          ]
        },
        {
          "name": "stderr",
          "output_type": "stream",
          "text": [
            "201it [00:38,  4.74it/s]"
          ]
        },
        {
          "name": "stdout",
          "output_type": "stream",
          "text": [
            " batch 200 loss: 0.39347124576568604\n",
            "Prediction logit mean: -8.945511817932129, std: 6.064778804779053, and max: 3.796229600906372 and min: -42.95170211791992\n"
          ]
        },
        {
          "name": "stderr",
          "output_type": "stream",
          "text": [
            "300it [00:58,  5.44it/s]"
          ]
        },
        {
          "name": "stdout",
          "output_type": "stream",
          "text": [
            " batch 300 loss: 0.40433094918727874\n",
            "Prediction logit mean: -10.789237976074219, std: 5.787951946258545, and max: 4.378657817840576 and min: -41.94099044799805\n"
          ]
        },
        {
          "name": "stderr",
          "output_type": "stream",
          "text": [
            "400it [01:16,  7.08it/s]"
          ]
        },
        {
          "name": "stdout",
          "output_type": "stream",
          "text": [
            " batch 400 loss: 0.4012605115771294\n",
            "Prediction logit mean: -11.364339828491211, std: 6.233613967895508, and max: 4.215109825134277 and min: -45.27731704711914\n"
          ]
        },
        {
          "name": "stderr",
          "output_type": "stream",
          "text": [
            "500it [01:33,  6.41it/s]"
          ]
        },
        {
          "name": "stdout",
          "output_type": "stream",
          "text": [
            " batch 500 loss: 0.4038010209798813\n",
            "Prediction logit mean: -9.644193649291992, std: 5.972083568572998, and max: 4.597366809844971 and min: -42.02061462402344\n"
          ]
        },
        {
          "name": "stderr",
          "output_type": "stream",
          "text": [
            "535it [01:39,  5.38it/s]\n"
          ]
        },
        {
          "name": "stdout",
          "output_type": "stream",
          "text": [
            "Epoch 4 average training loss: 0.40136599568563086\n"
          ]
        },
        {
          "name": "stderr",
          "output_type": "stream",
          "text": [
            "100%|██████████| 134/134 [00:23<00:00,  5.66it/s]"
          ]
        },
        {
          "name": "stdout",
          "output_type": "stream",
          "text": [
            "Epoch validation loss: 0.44515227804433055\n",
            "\n",
            "Epoch 5/50:\n"
          ]
        },
        {
          "name": "stderr",
          "output_type": "stream",
          "text": [
            "\n",
            "100it [00:19,  6.82it/s]"
          ]
        },
        {
          "name": "stdout",
          "output_type": "stream",
          "text": [
            " batch 100 loss: 0.40661675184965135\n",
            "Prediction logit mean: -9.625015258789062, std: 6.082932472229004, and max: 4.7236175537109375 and min: -43.45888900756836\n"
          ]
        },
        {
          "name": "stderr",
          "output_type": "stream",
          "text": [
            "201it [00:36,  6.06it/s]"
          ]
        },
        {
          "name": "stdout",
          "output_type": "stream",
          "text": [
            " batch 200 loss: 0.3916977050900459\n",
            "Prediction logit mean: -10.92459487915039, std: 6.438968658447266, and max: 4.656651973724365 and min: -44.02471923828125\n"
          ]
        },
        {
          "name": "stderr",
          "output_type": "stream",
          "text": [
            "300it [00:53,  6.86it/s]"
          ]
        },
        {
          "name": "stdout",
          "output_type": "stream",
          "text": [
            " batch 300 loss: 0.3889727509021759\n",
            "Prediction logit mean: -10.467641830444336, std: 5.825416564941406, and max: 4.75813102722168 and min: -45.07020950317383\n"
          ]
        },
        {
          "name": "stderr",
          "output_type": "stream",
          "text": [
            "401it [01:12,  6.82it/s]"
          ]
        },
        {
          "name": "stdout",
          "output_type": "stream",
          "text": [
            " batch 400 loss: 0.38700022131204603\n",
            "Prediction logit mean: -9.922225952148438, std: 5.745883941650391, and max: 4.9381422996521 and min: -42.25590133666992\n"
          ]
        },
        {
          "name": "stderr",
          "output_type": "stream",
          "text": [
            "501it [01:29,  6.76it/s]"
          ]
        },
        {
          "name": "stdout",
          "output_type": "stream",
          "text": [
            " batch 500 loss: 0.38039417266845704\n",
            "Prediction logit mean: -12.042280197143555, std: 6.518570899963379, and max: 4.947504043579102 and min: -47.64411544799805\n"
          ]
        },
        {
          "name": "stderr",
          "output_type": "stream",
          "text": [
            "535it [01:35,  5.59it/s]\n"
          ]
        },
        {
          "name": "stdout",
          "output_type": "stream",
          "text": [
            "Epoch 5 average training loss: 0.39064493301872893\n"
          ]
        },
        {
          "name": "stderr",
          "output_type": "stream",
          "text": [
            "100%|██████████| 134/134 [00:25<00:00,  5.31it/s]"
          ]
        },
        {
          "name": "stdout",
          "output_type": "stream",
          "text": [
            "Epoch validation loss: 0.43869212870277574\n",
            "\n",
            "Epoch 6/50:\n"
          ]
        },
        {
          "name": "stderr",
          "output_type": "stream",
          "text": [
            "\n",
            "100it [00:19,  6.53it/s]"
          ]
        },
        {
          "name": "stdout",
          "output_type": "stream",
          "text": [
            " batch 100 loss: 0.3711345863342285\n",
            "Prediction logit mean: -11.981072425842285, std: 6.725862503051758, and max: 4.919886589050293 and min: -53.60000228881836\n"
          ]
        },
        {
          "name": "stderr",
          "output_type": "stream",
          "text": [
            "200it [00:36,  6.34it/s]"
          ]
        },
        {
          "name": "stdout",
          "output_type": "stream",
          "text": [
            " batch 200 loss: 0.38661410480737685\n",
            "Prediction logit mean: -10.993457794189453, std: 5.9951395988464355, and max: 4.958252906799316 and min: -45.46098327636719\n"
          ]
        },
        {
          "name": "stderr",
          "output_type": "stream",
          "text": [
            "301it [00:53,  6.84it/s]"
          ]
        },
        {
          "name": "stdout",
          "output_type": "stream",
          "text": [
            " batch 300 loss: 0.3833644437789917\n",
            "Prediction logit mean: -10.362512588500977, std: 6.621782302856445, and max: 5.249731540679932 and min: -48.102577209472656\n"
          ]
        },
        {
          "name": "stderr",
          "output_type": "stream",
          "text": [
            "401it [01:10,  6.69it/s]"
          ]
        },
        {
          "name": "stdout",
          "output_type": "stream",
          "text": [
            " batch 400 loss: 0.3780958753824234\n",
            "Prediction logit mean: -12.031450271606445, std: 7.569270133972168, and max: 4.793206691741943 and min: -58.13127517700195\n"
          ]
        },
        {
          "name": "stderr",
          "output_type": "stream",
          "text": [
            "501it [01:27,  6.83it/s]"
          ]
        },
        {
          "name": "stdout",
          "output_type": "stream",
          "text": [
            " batch 500 loss: 0.3725716295838356\n",
            "Prediction logit mean: -11.512351989746094, std: 7.101072311401367, and max: 5.2795233726501465 and min: -58.152374267578125\n"
          ]
        },
        {
          "name": "stderr",
          "output_type": "stream",
          "text": [
            "535it [01:33,  5.74it/s]\n"
          ]
        },
        {
          "name": "stdout",
          "output_type": "stream",
          "text": [
            "Epoch 6 average training loss: 0.3789816491514723\n"
          ]
        },
        {
          "name": "stderr",
          "output_type": "stream",
          "text": [
            "100%|██████████| 134/134 [00:22<00:00,  6.06it/s]"
          ]
        },
        {
          "name": "stdout",
          "output_type": "stream",
          "text": [
            "Epoch validation loss: 0.42489969330047495\n",
            "\n",
            "Epoch 7/50:\n"
          ]
        },
        {
          "name": "stderr",
          "output_type": "stream",
          "text": [
            "\n",
            "100it [00:17,  6.66it/s]"
          ]
        },
        {
          "name": "stdout",
          "output_type": "stream",
          "text": [
            " batch 100 loss: 0.38073978424072263\n",
            "Prediction logit mean: -11.569014549255371, std: 6.305509090423584, and max: 5.148455619812012 and min: -48.571632385253906\n"
          ]
        },
        {
          "name": "stderr",
          "output_type": "stream",
          "text": [
            "200it [00:34,  6.80it/s]"
          ]
        },
        {
          "name": "stdout",
          "output_type": "stream",
          "text": [
            " batch 200 loss: 0.36419873625040056\n",
            "Prediction logit mean: -10.300649642944336, std: 6.846123695373535, and max: 5.242234706878662 and min: -52.38290786743164\n"
          ]
        },
        {
          "name": "stderr",
          "output_type": "stream",
          "text": [
            "300it [00:50,  6.70it/s]"
          ]
        },
        {
          "name": "stdout",
          "output_type": "stream",
          "text": [
            " batch 300 loss: 0.3576262107491493\n",
            "Prediction logit mean: -12.068439483642578, std: 7.972976207733154, and max: 5.360714912414551 and min: -57.82427215576172\n"
          ]
        },
        {
          "name": "stderr",
          "output_type": "stream",
          "text": [
            "401it [01:07,  6.79it/s]"
          ]
        },
        {
          "name": "stdout",
          "output_type": "stream",
          "text": [
            " batch 400 loss: 0.3554033923149109\n",
            "Prediction logit mean: -12.950010299682617, std: 7.678459167480469, and max: 5.4896650314331055 and min: -61.540340423583984\n"
          ]
        },
        {
          "name": "stderr",
          "output_type": "stream",
          "text": [
            "501it [01:25,  6.76it/s]"
          ]
        },
        {
          "name": "stdout",
          "output_type": "stream",
          "text": [
            " batch 500 loss: 0.35475859135389326\n",
            "Prediction logit mean: -14.257638931274414, std: 8.05926513671875, and max: 5.303946018218994 and min: -66.4788818359375\n"
          ]
        },
        {
          "name": "stderr",
          "output_type": "stream",
          "text": [
            "535it [01:30,  5.90it/s]\n"
          ]
        },
        {
          "name": "stdout",
          "output_type": "stream",
          "text": [
            "Epoch 7 average training loss: 0.3616041636912622\n"
          ]
        },
        {
          "name": "stderr",
          "output_type": "stream",
          "text": [
            "100%|██████████| 134/134 [00:22<00:00,  6.05it/s]"
          ]
        },
        {
          "name": "stdout",
          "output_type": "stream",
          "text": [
            "Epoch validation loss: 0.41202110986211404\n",
            "\n",
            "Epoch 8/50:\n"
          ]
        },
        {
          "name": "stderr",
          "output_type": "stream",
          "text": [
            "\n",
            "100it [00:17,  6.85it/s]"
          ]
        },
        {
          "name": "stdout",
          "output_type": "stream",
          "text": [
            " batch 100 loss: 0.3477395549416542\n",
            "Prediction logit mean: -17.609649658203125, std: 8.707679748535156, and max: 5.4432148933410645 and min: -73.51715087890625\n"
          ]
        },
        {
          "name": "stderr",
          "output_type": "stream",
          "text": [
            "200it [00:34,  6.59it/s]"
          ]
        },
        {
          "name": "stdout",
          "output_type": "stream",
          "text": [
            " batch 200 loss: 0.34300233602523805\n",
            "Prediction logit mean: -15.732453346252441, std: 8.478616714477539, and max: 5.328067779541016 and min: -76.60259246826172\n"
          ]
        },
        {
          "name": "stderr",
          "output_type": "stream",
          "text": [
            "300it [00:51,  6.87it/s]"
          ]
        },
        {
          "name": "stdout",
          "output_type": "stream",
          "text": [
            " batch 300 loss: 0.3411756256222725\n",
            "Prediction logit mean: -16.0711669921875, std: 8.753849029541016, and max: 5.312352180480957 and min: -67.95230102539062\n"
          ]
        },
        {
          "name": "stderr",
          "output_type": "stream",
          "text": [
            "400it [01:07,  7.02it/s]"
          ]
        },
        {
          "name": "stdout",
          "output_type": "stream",
          "text": [
            " batch 400 loss: 0.3352904859185219\n",
            "Prediction logit mean: -14.616333961486816, std: 8.459345817565918, and max: 5.3585991859436035 and min: -72.20044708251953\n"
          ]
        },
        {
          "name": "stderr",
          "output_type": "stream",
          "text": [
            "500it [01:25,  6.78it/s]"
          ]
        },
        {
          "name": "stdout",
          "output_type": "stream",
          "text": [
            " batch 500 loss: 0.33345800906419754\n",
            "Prediction logit mean: -17.206045150756836, std: 9.087491989135742, and max: 5.6448750495910645 and min: -77.59595489501953\n"
          ]
        },
        {
          "name": "stderr",
          "output_type": "stream",
          "text": [
            "535it [01:30,  5.89it/s]\n"
          ]
        },
        {
          "name": "stdout",
          "output_type": "stream",
          "text": [
            "Epoch 8 average training loss: 0.33898182071257976\n"
          ]
        },
        {
          "name": "stderr",
          "output_type": "stream",
          "text": [
            "100%|██████████| 134/134 [00:20<00:00,  6.64it/s]"
          ]
        },
        {
          "name": "stdout",
          "output_type": "stream",
          "text": [
            "Epoch validation loss: 0.43775013522870504\n",
            "\n",
            "Epoch 9/50:\n"
          ]
        },
        {
          "name": "stderr",
          "output_type": "stream",
          "text": [
            "\n",
            "100it [00:15,  7.14it/s]"
          ]
        },
        {
          "name": "stdout",
          "output_type": "stream",
          "text": [
            " batch 100 loss: 0.32133171826601026\n",
            "Prediction logit mean: -18.799880981445312, std: 9.552051544189453, and max: 5.451801300048828 and min: -79.74234008789062\n"
          ]
        },
        {
          "name": "stderr",
          "output_type": "stream",
          "text": [
            "200it [00:31,  7.17it/s]"
          ]
        },
        {
          "name": "stdout",
          "output_type": "stream",
          "text": [
            " batch 200 loss: 0.325061793923378\n",
            "Prediction logit mean: -19.36129379272461, std: 9.967504501342773, and max: 5.586141586303711 and min: -90.2555160522461\n"
          ]
        },
        {
          "name": "stderr",
          "output_type": "stream",
          "text": [
            "300it [00:46,  7.28it/s]"
          ]
        },
        {
          "name": "stdout",
          "output_type": "stream",
          "text": [
            " batch 300 loss: 0.3145028321444988\n",
            "Prediction logit mean: -21.329313278198242, std: 11.037394523620605, and max: 5.4906816482543945 and min: -92.94779205322266\n"
          ]
        },
        {
          "name": "stderr",
          "output_type": "stream",
          "text": [
            "400it [01:02,  7.12it/s]"
          ]
        },
        {
          "name": "stdout",
          "output_type": "stream",
          "text": [
            " batch 400 loss: 0.3128804092109203\n",
            "Prediction logit mean: -21.222915649414062, std: 11.865479469299316, and max: 5.5604376792907715 and min: -101.83718872070312\n"
          ]
        },
        {
          "name": "stderr",
          "output_type": "stream",
          "text": [
            "501it [01:17,  7.13it/s]"
          ]
        },
        {
          "name": "stdout",
          "output_type": "stream",
          "text": [
            " batch 500 loss: 0.31711032673716544\n",
            "Prediction logit mean: -18.611642837524414, std: 11.720499038696289, and max: 5.551701545715332 and min: -98.5780258178711\n"
          ]
        },
        {
          "name": "stderr",
          "output_type": "stream",
          "text": [
            "535it [01:22,  6.46it/s]\n"
          ]
        },
        {
          "name": "stdout",
          "output_type": "stream",
          "text": [
            "Epoch 9 average training loss: 0.3185580285910134\n"
          ]
        },
        {
          "name": "stderr",
          "output_type": "stream",
          "text": [
            "100%|██████████| 134/134 [00:20<00:00,  6.65it/s]"
          ]
        },
        {
          "name": "stdout",
          "output_type": "stream",
          "text": [
            "Epoch validation loss: 0.4087822387245164\n",
            "\n",
            "Epoch 10/50:\n"
          ]
        },
        {
          "name": "stderr",
          "output_type": "stream",
          "text": [
            "\n",
            "100it [00:15,  7.16it/s]"
          ]
        },
        {
          "name": "stdout",
          "output_type": "stream",
          "text": [
            " batch 100 loss: 0.3046556635200977\n",
            "Prediction logit mean: -23.530126571655273, std: 12.388700485229492, and max: 5.213089466094971 and min: -102.45305633544922\n"
          ]
        },
        {
          "name": "stderr",
          "output_type": "stream",
          "text": [
            "200it [00:31,  6.43it/s]"
          ]
        },
        {
          "name": "stdout",
          "output_type": "stream",
          "text": [
            " batch 200 loss: 0.3066014525294304\n",
            "Prediction logit mean: -21.030975341796875, std: 12.005032539367676, and max: 5.58616828918457 and min: -96.56524658203125\n"
          ]
        },
        {
          "name": "stderr",
          "output_type": "stream",
          "text": [
            "301it [00:46,  6.26it/s]"
          ]
        },
        {
          "name": "stdout",
          "output_type": "stream",
          "text": [
            " batch 300 loss: 0.3015567122399807\n",
            "Prediction logit mean: -22.258359909057617, std: 11.523306846618652, and max: 5.608389854431152 and min: -104.51582336425781\n"
          ]
        },
        {
          "name": "stderr",
          "output_type": "stream",
          "text": [
            "401it [01:01,  7.02it/s]"
          ]
        },
        {
          "name": "stdout",
          "output_type": "stream",
          "text": [
            " batch 400 loss: 0.288267193287611\n",
            "Prediction logit mean: -24.41207504272461, std: 12.4060697555542, and max: 5.691654205322266 and min: -107.2318344116211\n"
          ]
        },
        {
          "name": "stderr",
          "output_type": "stream",
          "text": [
            "500it [01:16,  7.07it/s]"
          ]
        },
        {
          "name": "stdout",
          "output_type": "stream",
          "text": [
            " batch 500 loss: 0.28606016382575034\n",
            "Prediction logit mean: -25.09981918334961, std: 12.216719627380371, and max: 5.721670150756836 and min: -120.61465454101562\n"
          ]
        },
        {
          "name": "stderr",
          "output_type": "stream",
          "text": [
            "535it [01:22,  6.50it/s]\n"
          ]
        },
        {
          "name": "stdout",
          "output_type": "stream",
          "text": [
            "Epoch 10 average training loss: 0.29688268833071274\n"
          ]
        },
        {
          "name": "stderr",
          "output_type": "stream",
          "text": [
            "100%|██████████| 134/134 [00:20<00:00,  6.59it/s]"
          ]
        },
        {
          "name": "stdout",
          "output_type": "stream",
          "text": [
            "Epoch validation loss: 0.4545797203014146\n",
            "\n",
            "Epoch 11/50:\n"
          ]
        },
        {
          "name": "stderr",
          "output_type": "stream",
          "text": [
            "\n",
            "100it [00:15,  7.14it/s]"
          ]
        },
        {
          "name": "stdout",
          "output_type": "stream",
          "text": [
            " batch 100 loss: 0.28038555160164835\n",
            "Prediction logit mean: -26.164798736572266, std: 13.088139533996582, and max: 5.770843505859375 and min: -120.18805694580078\n"
          ]
        },
        {
          "name": "stderr",
          "output_type": "stream",
          "text": [
            "200it [00:31,  6.73it/s]"
          ]
        },
        {
          "name": "stdout",
          "output_type": "stream",
          "text": [
            " batch 200 loss: 0.27976911276578903\n",
            "Prediction logit mean: -26.80644416809082, std: 13.454479217529297, and max: 5.85351037979126 and min: -120.5811996459961\n"
          ]
        },
        {
          "name": "stderr",
          "output_type": "stream",
          "text": [
            "300it [00:46,  7.28it/s]"
          ]
        },
        {
          "name": "stdout",
          "output_type": "stream",
          "text": [
            " batch 300 loss: 0.2699594309926033\n",
            "Prediction logit mean: -30.106372833251953, std: 14.649101257324219, and max: 5.681972980499268 and min: -132.79254150390625\n"
          ]
        },
        {
          "name": "stderr",
          "output_type": "stream",
          "text": [
            "400it [01:02,  7.38it/s]"
          ]
        },
        {
          "name": "stdout",
          "output_type": "stream",
          "text": [
            " batch 400 loss: 0.2667633931338787\n",
            "Prediction logit mean: -27.526639938354492, std: 13.517753601074219, and max: 5.7781982421875 and min: -129.55372619628906\n"
          ]
        },
        {
          "name": "stderr",
          "output_type": "stream",
          "text": [
            "500it [01:17,  7.31it/s]"
          ]
        },
        {
          "name": "stdout",
          "output_type": "stream",
          "text": [
            " batch 500 loss: 0.2621618266403675\n",
            "Prediction logit mean: -26.393840789794922, std: 13.087104797363281, and max: 5.96844482421875 and min: -120.93404388427734\n"
          ]
        },
        {
          "name": "stderr",
          "output_type": "stream",
          "text": [
            "535it [01:23,  6.44it/s]\n"
          ]
        },
        {
          "name": "stdout",
          "output_type": "stream",
          "text": [
            "Epoch 11 average training loss: 0.2719416526154937\n"
          ]
        },
        {
          "name": "stderr",
          "output_type": "stream",
          "text": [
            "100%|██████████| 134/134 [00:20<00:00,  6.63it/s]"
          ]
        },
        {
          "name": "stdout",
          "output_type": "stream",
          "text": [
            "Epoch validation loss: 0.487215337468617\n",
            "\n",
            "Epoch 12/50:\n"
          ]
        },
        {
          "name": "stderr",
          "output_type": "stream",
          "text": [
            "\n",
            "99it [00:15,  7.08it/s]"
          ]
        },
        {
          "name": "stdout",
          "output_type": "stream",
          "text": [
            " batch 100 loss: 0.2651045159995556\n",
            "Prediction logit mean: -26.89739990234375, std: 13.684842109680176, and max: 6.1103034019470215 and min: -108.3223876953125\n"
          ]
        },
        {
          "name": "stderr",
          "output_type": "stream",
          "text": [
            "200it [00:30,  7.56it/s]"
          ]
        },
        {
          "name": "stdout",
          "output_type": "stream",
          "text": [
            " batch 200 loss: 0.2550192254781723\n",
            "Prediction logit mean: -28.063915252685547, std: 14.174359321594238, and max: 5.953287601470947 and min: -138.455078125\n"
          ]
        },
        {
          "name": "stderr",
          "output_type": "stream",
          "text": [
            "301it [00:47,  6.17it/s]"
          ]
        },
        {
          "name": "stdout",
          "output_type": "stream",
          "text": [
            " batch 300 loss: 0.2518699637055397\n",
            "Prediction logit mean: -30.460712432861328, std: 14.739409446716309, and max: 5.8120222091674805 and min: -132.65533447265625\n"
          ]
        },
        {
          "name": "stderr",
          "output_type": "stream",
          "text": [
            "401it [01:04,  6.18it/s]"
          ]
        },
        {
          "name": "stdout",
          "output_type": "stream",
          "text": [
            " batch 400 loss: 0.2553067210316658\n",
            "Prediction logit mean: -29.988454818725586, std: 14.755165100097656, and max: 6.098231315612793 and min: -139.04034423828125\n"
          ]
        },
        {
          "name": "stderr",
          "output_type": "stream",
          "text": [
            "501it [01:21,  6.03it/s]"
          ]
        },
        {
          "name": "stdout",
          "output_type": "stream",
          "text": [
            " batch 500 loss: 0.2523998264968395\n",
            "Prediction logit mean: -30.94925308227539, std: 15.728287696838379, and max: 6.140874862670898 and min: -144.1697998046875\n"
          ]
        },
        {
          "name": "stderr",
          "output_type": "stream",
          "text": [
            "535it [01:27,  6.12it/s]\n"
          ]
        },
        {
          "name": "stdout",
          "output_type": "stream",
          "text": [
            "Epoch 12 average training loss: 0.2555404924622206\n"
          ]
        },
        {
          "name": "stderr",
          "output_type": "stream",
          "text": [
            "100%|██████████| 134/134 [00:22<00:00,  5.98it/s]"
          ]
        },
        {
          "name": "stdout",
          "output_type": "stream",
          "text": [
            "Epoch validation loss: 0.4969695784262757\n",
            "\n",
            "Epoch 13/50:\n"
          ]
        },
        {
          "name": "stderr",
          "output_type": "stream",
          "text": [
            "\n",
            "100it [00:17,  6.92it/s]"
          ]
        },
        {
          "name": "stdout",
          "output_type": "stream",
          "text": [
            " batch 100 loss: 0.24126335516571998\n",
            "Prediction logit mean: -30.78860092163086, std: 14.760826110839844, and max: 6.37781286239624 and min: -145.84622192382812\n"
          ]
        },
        {
          "name": "stderr",
          "output_type": "stream",
          "text": [
            "201it [00:34,  6.91it/s]"
          ]
        },
        {
          "name": "stdout",
          "output_type": "stream",
          "text": [
            " batch 200 loss: 0.24615690529346465\n",
            "Prediction logit mean: -30.353666305541992, std: 14.753647804260254, and max: 6.3704118728637695 and min: -131.2909393310547\n"
          ]
        },
        {
          "name": "stderr",
          "output_type": "stream",
          "text": [
            "301it [00:51,  6.21it/s]"
          ]
        },
        {
          "name": "stdout",
          "output_type": "stream",
          "text": [
            " batch 300 loss: 0.2431616696715355\n",
            "Prediction logit mean: -33.194244384765625, std: 14.729384422302246, and max: 6.484532356262207 and min: -126.96270751953125\n"
          ]
        },
        {
          "name": "stderr",
          "output_type": "stream",
          "text": [
            "401it [01:09,  6.15it/s]"
          ]
        },
        {
          "name": "stdout",
          "output_type": "stream",
          "text": [
            " batch 400 loss: 0.2379075290262699\n",
            "Prediction logit mean: -30.502620697021484, std: 15.029898643493652, and max: 6.402141094207764 and min: -137.46673583984375\n"
          ]
        },
        {
          "name": "stderr",
          "output_type": "stream",
          "text": [
            "501it [01:28,  6.40it/s]"
          ]
        },
        {
          "name": "stdout",
          "output_type": "stream",
          "text": [
            " batch 500 loss: 0.24142337143421172\n",
            "Prediction logit mean: -30.760879516601562, std: 15.379768371582031, and max: 6.4644975662231445 and min: -131.084228515625\n"
          ]
        },
        {
          "name": "stderr",
          "output_type": "stream",
          "text": [
            "535it [01:35,  5.59it/s]\n"
          ]
        },
        {
          "name": "stdout",
          "output_type": "stream",
          "text": [
            "Epoch 13 average training loss: 0.24169141137711356\n"
          ]
        },
        {
          "name": "stderr",
          "output_type": "stream",
          "text": [
            "  6%|▌         | 8/134 [00:02<00:39,  3.20it/s]\n"
          ]
        },
        {
          "ename": "KeyboardInterrupt",
          "evalue": "",
          "output_type": "error",
          "traceback": [
            "\u001b[0;31m---------------------------------------------------------------------------\u001b[0m",
            "\u001b[0;31mKeyboardInterrupt\u001b[0m                         Traceback (most recent call last)",
            "Cell \u001b[0;32mIn[10], line 54\u001b[0m\n\u001b[1;32m     52\u001b[0m train_loss_arr\u001b[38;5;241m.\u001b[39mappend(epoch_loss \u001b[38;5;241m/\u001b[39m num_batches) \n\u001b[1;32m     53\u001b[0m \u001b[38;5;28mprint\u001b[39m(\u001b[38;5;124mf\u001b[39m\u001b[38;5;124m'\u001b[39m\u001b[38;5;124mEpoch \u001b[39m\u001b[38;5;132;01m{\u001b[39;00mepoch\u001b[38;5;250m \u001b[39m\u001b[38;5;241m+\u001b[39m\u001b[38;5;250m \u001b[39m\u001b[38;5;241m1\u001b[39m\u001b[38;5;132;01m}\u001b[39;00m\u001b[38;5;124m average training loss: \u001b[39m\u001b[38;5;132;01m{\u001b[39;00mepoch_loss\u001b[38;5;250m \u001b[39m\u001b[38;5;241m/\u001b[39m\u001b[38;5;250m \u001b[39mnum_batches\u001b[38;5;132;01m}\u001b[39;00m\u001b[38;5;124m'\u001b[39m) \u001b[38;5;66;03m# changed from num_epochs to num_batches\u001b[39;00m\n\u001b[0;32m---> 54\u001b[0m val_loss \u001b[38;5;241m=\u001b[39m \u001b[43mvalidate_model\u001b[49m\u001b[43m(\u001b[49m\u001b[43mmodel\u001b[49m\u001b[43m,\u001b[49m\u001b[43m \u001b[49m\u001b[43mval_loader\u001b[49m\u001b[43m)\u001b[49m \n\u001b[1;32m     55\u001b[0m val_loss_arr\u001b[38;5;241m.\u001b[39mappend(val_loss) \n\u001b[1;32m     56\u001b[0m \u001b[38;5;28mprint\u001b[39m(\u001b[38;5;124mf\u001b[39m\u001b[38;5;124m'\u001b[39m\u001b[38;5;124mEpoch validation loss: \u001b[39m\u001b[38;5;132;01m{\u001b[39;00mval_loss\u001b[38;5;132;01m}\u001b[39;00m\u001b[38;5;124m'\u001b[39m)\n",
            "Cell \u001b[0;32mIn[8], line 7\u001b[0m, in \u001b[0;36mvalidate_model\u001b[0;34m(model, val_loader)\u001b[0m\n\u001b[1;32m      4\u001b[0m val_loss, num_batches \u001b[38;5;241m=\u001b[39m \u001b[38;5;241m0\u001b[39m, \u001b[38;5;241m0\u001b[39m\n\u001b[1;32m      6\u001b[0m \u001b[38;5;28;01mwith\u001b[39;00m torch\u001b[38;5;241m.\u001b[39mno_grad(): \n\u001b[0;32m----> 7\u001b[0m     \u001b[38;5;28;01mfor\u001b[39;00m sequence \u001b[38;5;129;01min\u001b[39;00m tqdm(val_loader): \n\u001b[1;32m      8\u001b[0m         \u001b[38;5;66;03m# Move data to device\u001b[39;00m\n\u001b[1;32m      9\u001b[0m         frames, state \u001b[38;5;241m=\u001b[39m sequence[\u001b[38;5;124m'\u001b[39m\u001b[38;5;124minput\u001b[39m\u001b[38;5;124m'\u001b[39m]\n\u001b[1;32m     10\u001b[0m         out_frame \u001b[38;5;241m=\u001b[39m sequence[\u001b[38;5;124m'\u001b[39m\u001b[38;5;124mtarget\u001b[39m\u001b[38;5;124m'\u001b[39m]\n",
            "File \u001b[0;32m~/cv_project_code/project/rdp_venv/lib/python3.10/site-packages/tqdm/std.py:1181\u001b[0m, in \u001b[0;36mtqdm.__iter__\u001b[0;34m(self)\u001b[0m\n\u001b[1;32m   1178\u001b[0m time \u001b[38;5;241m=\u001b[39m \u001b[38;5;28mself\u001b[39m\u001b[38;5;241m.\u001b[39m_time\n\u001b[1;32m   1180\u001b[0m \u001b[38;5;28;01mtry\u001b[39;00m:\n\u001b[0;32m-> 1181\u001b[0m     \u001b[38;5;28;01mfor\u001b[39;00m obj \u001b[38;5;129;01min\u001b[39;00m iterable:\n\u001b[1;32m   1182\u001b[0m         \u001b[38;5;28;01myield\u001b[39;00m obj\n\u001b[1;32m   1183\u001b[0m         \u001b[38;5;66;03m# Update and possibly print the progressbar.\u001b[39;00m\n\u001b[1;32m   1184\u001b[0m         \u001b[38;5;66;03m# Note: does not call self.update(1) for speed optimisation.\u001b[39;00m\n",
            "File \u001b[0;32m~/cv_project_code/project/rdp_venv/lib/python3.10/site-packages/torch/utils/data/dataloader.py:733\u001b[0m, in \u001b[0;36m_BaseDataLoaderIter.__next__\u001b[0;34m(self)\u001b[0m\n\u001b[1;32m    730\u001b[0m \u001b[38;5;28;01mif\u001b[39;00m \u001b[38;5;28mself\u001b[39m\u001b[38;5;241m.\u001b[39m_sampler_iter \u001b[38;5;129;01mis\u001b[39;00m \u001b[38;5;28;01mNone\u001b[39;00m:\n\u001b[1;32m    731\u001b[0m     \u001b[38;5;66;03m# TODO(https://github.com/pytorch/pytorch/issues/76750)\u001b[39;00m\n\u001b[1;32m    732\u001b[0m     \u001b[38;5;28mself\u001b[39m\u001b[38;5;241m.\u001b[39m_reset()  \u001b[38;5;66;03m# type: ignore[call-arg]\u001b[39;00m\n\u001b[0;32m--> 733\u001b[0m data \u001b[38;5;241m=\u001b[39m \u001b[38;5;28;43mself\u001b[39;49m\u001b[38;5;241;43m.\u001b[39;49m\u001b[43m_next_data\u001b[49m\u001b[43m(\u001b[49m\u001b[43m)\u001b[49m\n\u001b[1;32m    734\u001b[0m \u001b[38;5;28mself\u001b[39m\u001b[38;5;241m.\u001b[39m_num_yielded \u001b[38;5;241m+\u001b[39m\u001b[38;5;241m=\u001b[39m \u001b[38;5;241m1\u001b[39m\n\u001b[1;32m    735\u001b[0m \u001b[38;5;28;01mif\u001b[39;00m (\n\u001b[1;32m    736\u001b[0m     \u001b[38;5;28mself\u001b[39m\u001b[38;5;241m.\u001b[39m_dataset_kind \u001b[38;5;241m==\u001b[39m _DatasetKind\u001b[38;5;241m.\u001b[39mIterable\n\u001b[1;32m    737\u001b[0m     \u001b[38;5;129;01mand\u001b[39;00m \u001b[38;5;28mself\u001b[39m\u001b[38;5;241m.\u001b[39m_IterableDataset_len_called \u001b[38;5;129;01mis\u001b[39;00m \u001b[38;5;129;01mnot\u001b[39;00m \u001b[38;5;28;01mNone\u001b[39;00m\n\u001b[1;32m    738\u001b[0m     \u001b[38;5;129;01mand\u001b[39;00m \u001b[38;5;28mself\u001b[39m\u001b[38;5;241m.\u001b[39m_num_yielded \u001b[38;5;241m>\u001b[39m \u001b[38;5;28mself\u001b[39m\u001b[38;5;241m.\u001b[39m_IterableDataset_len_called\n\u001b[1;32m    739\u001b[0m ):\n",
            "File \u001b[0;32m~/cv_project_code/project/rdp_venv/lib/python3.10/site-packages/torch/utils/data/dataloader.py:1491\u001b[0m, in \u001b[0;36m_MultiProcessingDataLoaderIter._next_data\u001b[0;34m(self)\u001b[0m\n\u001b[1;32m   1488\u001b[0m     \u001b[38;5;28;01mreturn\u001b[39;00m \u001b[38;5;28mself\u001b[39m\u001b[38;5;241m.\u001b[39m_process_data(data, worker_id)\n\u001b[1;32m   1490\u001b[0m \u001b[38;5;28;01massert\u001b[39;00m \u001b[38;5;129;01mnot\u001b[39;00m \u001b[38;5;28mself\u001b[39m\u001b[38;5;241m.\u001b[39m_shutdown \u001b[38;5;129;01mand\u001b[39;00m \u001b[38;5;28mself\u001b[39m\u001b[38;5;241m.\u001b[39m_tasks_outstanding \u001b[38;5;241m>\u001b[39m \u001b[38;5;241m0\u001b[39m\n\u001b[0;32m-> 1491\u001b[0m idx, data \u001b[38;5;241m=\u001b[39m \u001b[38;5;28;43mself\u001b[39;49m\u001b[38;5;241;43m.\u001b[39;49m\u001b[43m_get_data\u001b[49m\u001b[43m(\u001b[49m\u001b[43m)\u001b[49m\n\u001b[1;32m   1492\u001b[0m \u001b[38;5;28mself\u001b[39m\u001b[38;5;241m.\u001b[39m_tasks_outstanding \u001b[38;5;241m-\u001b[39m\u001b[38;5;241m=\u001b[39m \u001b[38;5;241m1\u001b[39m\n\u001b[1;32m   1493\u001b[0m \u001b[38;5;28;01mif\u001b[39;00m \u001b[38;5;28mself\u001b[39m\u001b[38;5;241m.\u001b[39m_dataset_kind \u001b[38;5;241m==\u001b[39m _DatasetKind\u001b[38;5;241m.\u001b[39mIterable:\n\u001b[1;32m   1494\u001b[0m     \u001b[38;5;66;03m# Check for _IterableDatasetStopIteration\u001b[39;00m\n",
            "File \u001b[0;32m~/cv_project_code/project/rdp_venv/lib/python3.10/site-packages/torch/utils/data/dataloader.py:1453\u001b[0m, in \u001b[0;36m_MultiProcessingDataLoaderIter._get_data\u001b[0;34m(self)\u001b[0m\n\u001b[1;32m   1449\u001b[0m     \u001b[38;5;66;03m# In this case, `self._data_queue` is a `queue.Queue`,. But we don't\u001b[39;00m\n\u001b[1;32m   1450\u001b[0m     \u001b[38;5;66;03m# need to call `.task_done()` because we don't use `.join()`.\u001b[39;00m\n\u001b[1;32m   1451\u001b[0m \u001b[38;5;28;01melse\u001b[39;00m:\n\u001b[1;32m   1452\u001b[0m     \u001b[38;5;28;01mwhile\u001b[39;00m \u001b[38;5;28;01mTrue\u001b[39;00m:\n\u001b[0;32m-> 1453\u001b[0m         success, data \u001b[38;5;241m=\u001b[39m \u001b[38;5;28;43mself\u001b[39;49m\u001b[38;5;241;43m.\u001b[39;49m\u001b[43m_try_get_data\u001b[49m\u001b[43m(\u001b[49m\u001b[43m)\u001b[49m\n\u001b[1;32m   1454\u001b[0m         \u001b[38;5;28;01mif\u001b[39;00m success:\n\u001b[1;32m   1455\u001b[0m             \u001b[38;5;28;01mreturn\u001b[39;00m data\n",
            "File \u001b[0;32m~/cv_project_code/project/rdp_venv/lib/python3.10/site-packages/torch/utils/data/dataloader.py:1284\u001b[0m, in \u001b[0;36m_MultiProcessingDataLoaderIter._try_get_data\u001b[0;34m(self, timeout)\u001b[0m\n\u001b[1;32m   1271\u001b[0m \u001b[38;5;28;01mdef\u001b[39;00m\u001b[38;5;250m \u001b[39m\u001b[38;5;21m_try_get_data\u001b[39m(\u001b[38;5;28mself\u001b[39m, timeout\u001b[38;5;241m=\u001b[39m_utils\u001b[38;5;241m.\u001b[39mMP_STATUS_CHECK_INTERVAL):\n\u001b[1;32m   1272\u001b[0m     \u001b[38;5;66;03m# Tries to fetch data from `self._data_queue` once for a given timeout.\u001b[39;00m\n\u001b[1;32m   1273\u001b[0m     \u001b[38;5;66;03m# This can also be used as inner loop of fetching without timeout, with\u001b[39;00m\n\u001b[0;32m   (...)\u001b[0m\n\u001b[1;32m   1281\u001b[0m     \u001b[38;5;66;03m# Returns a 2-tuple:\u001b[39;00m\n\u001b[1;32m   1282\u001b[0m     \u001b[38;5;66;03m#   (bool: whether successfully get data, any: data if successful else None)\u001b[39;00m\n\u001b[1;32m   1283\u001b[0m     \u001b[38;5;28;01mtry\u001b[39;00m:\n\u001b[0;32m-> 1284\u001b[0m         data \u001b[38;5;241m=\u001b[39m \u001b[38;5;28;43mself\u001b[39;49m\u001b[38;5;241;43m.\u001b[39;49m\u001b[43m_data_queue\u001b[49m\u001b[38;5;241;43m.\u001b[39;49m\u001b[43mget\u001b[49m\u001b[43m(\u001b[49m\u001b[43mtimeout\u001b[49m\u001b[38;5;241;43m=\u001b[39;49m\u001b[43mtimeout\u001b[49m\u001b[43m)\u001b[49m\n\u001b[1;32m   1285\u001b[0m         \u001b[38;5;28;01mreturn\u001b[39;00m (\u001b[38;5;28;01mTrue\u001b[39;00m, data)\n\u001b[1;32m   1286\u001b[0m     \u001b[38;5;28;01mexcept\u001b[39;00m \u001b[38;5;167;01mException\u001b[39;00m \u001b[38;5;28;01mas\u001b[39;00m e:\n\u001b[1;32m   1287\u001b[0m         \u001b[38;5;66;03m# At timeout and error, we manually check whether any worker has\u001b[39;00m\n\u001b[1;32m   1288\u001b[0m         \u001b[38;5;66;03m# failed. Note that this is the only mechanism for Windows to detect\u001b[39;00m\n\u001b[1;32m   1289\u001b[0m         \u001b[38;5;66;03m# worker failures.\u001b[39;00m\n",
            "File \u001b[0;32m/usr/lib/python3.10/multiprocessing/queues.py:113\u001b[0m, in \u001b[0;36mQueue.get\u001b[0;34m(self, block, timeout)\u001b[0m\n\u001b[1;32m    111\u001b[0m \u001b[38;5;28;01mif\u001b[39;00m block:\n\u001b[1;32m    112\u001b[0m     timeout \u001b[38;5;241m=\u001b[39m deadline \u001b[38;5;241m-\u001b[39m time\u001b[38;5;241m.\u001b[39mmonotonic()\n\u001b[0;32m--> 113\u001b[0m     \u001b[38;5;28;01mif\u001b[39;00m \u001b[38;5;129;01mnot\u001b[39;00m \u001b[38;5;28;43mself\u001b[39;49m\u001b[38;5;241;43m.\u001b[39;49m\u001b[43m_poll\u001b[49m\u001b[43m(\u001b[49m\u001b[43mtimeout\u001b[49m\u001b[43m)\u001b[49m:\n\u001b[1;32m    114\u001b[0m         \u001b[38;5;28;01mraise\u001b[39;00m Empty\n\u001b[1;32m    115\u001b[0m \u001b[38;5;28;01melif\u001b[39;00m \u001b[38;5;129;01mnot\u001b[39;00m \u001b[38;5;28mself\u001b[39m\u001b[38;5;241m.\u001b[39m_poll():\n",
            "File \u001b[0;32m/usr/lib/python3.10/multiprocessing/connection.py:257\u001b[0m, in \u001b[0;36m_ConnectionBase.poll\u001b[0;34m(self, timeout)\u001b[0m\n\u001b[1;32m    255\u001b[0m \u001b[38;5;28mself\u001b[39m\u001b[38;5;241m.\u001b[39m_check_closed()\n\u001b[1;32m    256\u001b[0m \u001b[38;5;28mself\u001b[39m\u001b[38;5;241m.\u001b[39m_check_readable()\n\u001b[0;32m--> 257\u001b[0m \u001b[38;5;28;01mreturn\u001b[39;00m \u001b[38;5;28;43mself\u001b[39;49m\u001b[38;5;241;43m.\u001b[39;49m\u001b[43m_poll\u001b[49m\u001b[43m(\u001b[49m\u001b[43mtimeout\u001b[49m\u001b[43m)\u001b[49m\n",
            "File \u001b[0;32m/usr/lib/python3.10/multiprocessing/connection.py:424\u001b[0m, in \u001b[0;36mConnection._poll\u001b[0;34m(self, timeout)\u001b[0m\n\u001b[1;32m    423\u001b[0m \u001b[38;5;28;01mdef\u001b[39;00m\u001b[38;5;250m \u001b[39m\u001b[38;5;21m_poll\u001b[39m(\u001b[38;5;28mself\u001b[39m, timeout):\n\u001b[0;32m--> 424\u001b[0m     r \u001b[38;5;241m=\u001b[39m \u001b[43mwait\u001b[49m\u001b[43m(\u001b[49m\u001b[43m[\u001b[49m\u001b[38;5;28;43mself\u001b[39;49m\u001b[43m]\u001b[49m\u001b[43m,\u001b[49m\u001b[43m \u001b[49m\u001b[43mtimeout\u001b[49m\u001b[43m)\u001b[49m\n\u001b[1;32m    425\u001b[0m     \u001b[38;5;28;01mreturn\u001b[39;00m \u001b[38;5;28mbool\u001b[39m(r)\n",
            "File \u001b[0;32m/usr/lib/python3.10/multiprocessing/connection.py:931\u001b[0m, in \u001b[0;36mwait\u001b[0;34m(object_list, timeout)\u001b[0m\n\u001b[1;32m    928\u001b[0m     deadline \u001b[38;5;241m=\u001b[39m time\u001b[38;5;241m.\u001b[39mmonotonic() \u001b[38;5;241m+\u001b[39m timeout\n\u001b[1;32m    930\u001b[0m \u001b[38;5;28;01mwhile\u001b[39;00m \u001b[38;5;28;01mTrue\u001b[39;00m:\n\u001b[0;32m--> 931\u001b[0m     ready \u001b[38;5;241m=\u001b[39m \u001b[43mselector\u001b[49m\u001b[38;5;241;43m.\u001b[39;49m\u001b[43mselect\u001b[49m\u001b[43m(\u001b[49m\u001b[43mtimeout\u001b[49m\u001b[43m)\u001b[49m\n\u001b[1;32m    932\u001b[0m     \u001b[38;5;28;01mif\u001b[39;00m ready:\n\u001b[1;32m    933\u001b[0m         \u001b[38;5;28;01mreturn\u001b[39;00m [key\u001b[38;5;241m.\u001b[39mfileobj \u001b[38;5;28;01mfor\u001b[39;00m (key, events) \u001b[38;5;129;01min\u001b[39;00m ready]\n",
            "File \u001b[0;32m/usr/lib/python3.10/selectors.py:416\u001b[0m, in \u001b[0;36m_PollLikeSelector.select\u001b[0;34m(self, timeout)\u001b[0m\n\u001b[1;32m    414\u001b[0m ready \u001b[38;5;241m=\u001b[39m []\n\u001b[1;32m    415\u001b[0m \u001b[38;5;28;01mtry\u001b[39;00m:\n\u001b[0;32m--> 416\u001b[0m     fd_event_list \u001b[38;5;241m=\u001b[39m \u001b[38;5;28;43mself\u001b[39;49m\u001b[38;5;241;43m.\u001b[39;49m\u001b[43m_selector\u001b[49m\u001b[38;5;241;43m.\u001b[39;49m\u001b[43mpoll\u001b[49m\u001b[43m(\u001b[49m\u001b[43mtimeout\u001b[49m\u001b[43m)\u001b[49m\n\u001b[1;32m    417\u001b[0m \u001b[38;5;28;01mexcept\u001b[39;00m \u001b[38;5;167;01mInterruptedError\u001b[39;00m:\n\u001b[1;32m    418\u001b[0m     \u001b[38;5;28;01mreturn\u001b[39;00m ready\n",
            "\u001b[0;31mKeyboardInterrupt\u001b[0m: "
          ]
        }
      ],
      "source": [
        "# Training loop\n",
        "import torchvision \n",
        "report_every = 100\n",
        "train_loss_arr, val_loss_arr = [], []\n",
        "for epoch in range(num_epochs):\n",
        "    running_loss, last_loss = 0, 0\n",
        "    num_batches, epoch_loss = 0, 0\n",
        "    print(f'\\nEpoch {epoch + 1}/{num_epochs}:')\n",
        "    model.train() \n",
        "    for i, sequence in tqdm(enumerate(train_loader)):\n",
        "\n",
        "        # Move data to device without modifying original dictionary \n",
        "        frames, state = sequence['input']\n",
        "        out_frame = sequence['target']\n",
        "        seq = {\n",
        "            'input': (frames.to(device), state.to(device)),\n",
        "            'target': out_frame.to(device)\n",
        "        }\n",
        "\n",
        "        # NOTE: Temp: mask out the sequences with no foreground #TODO remove if no improvement\n",
        "        # B, T, C, H, W = frames.shape\n",
        "        # nonzero_mask = frames.view(B, -1).any(dim=1)\n",
        "        # frames = frames[nonzero_mask]\n",
        "        # out_frame = out_frame[nonzero_mask] \n",
        "        # state = state[nonzero_mask]\n",
        "\n",
        "        # Zero gradients for every batch\n",
        "        optimizer.zero_grad()\n",
        "\n",
        "        # Compute the loss and its gradients\n",
        "        loss, pred  = model.loss(seq)\n",
        "        loss.backward()\n",
        "\n",
        "        # Adjust learning weights\n",
        "        optimizer.step()\n",
        "\n",
        "        # print(pred.mean().item(), pred.std().item())\n",
        "        # Gather data and report\n",
        "        running_loss += loss.item()\n",
        "        if i % report_every == report_every - 1: # report loss every 100 batches\n",
        "            last_loss = running_loss / report_every # loss per batch\n",
        "            print(' batch {} loss: {}'.format(i + 1, last_loss))\n",
        "            running_loss = 0\n",
        "            with torch.no_grad():\n",
        "                print(f'Prediction logit mean: {pred.mean().item()}, std: {pred.std().item()}, and max: {pred.max().item()} and min: {pred.min().item()}')\n",
        "        \n",
        "\n",
        "        # Update counters for average epoch loss\n",
        "        epoch_loss += loss.item()\n",
        "        num_batches += 1 # changed from num_epochs to num_batches\n",
        "    \n",
        "    train_loss_arr.append(epoch_loss / num_batches) \n",
        "    print(f'Epoch {epoch + 1} average training loss: {epoch_loss / num_batches}') # changed from num_epochs to num_batches\n",
        "    val_loss = validate_model(model, val_loader) \n",
        "    val_loss_arr.append(val_loss) \n",
        "    print(f'Epoch validation loss: {val_loss}')\n"
      ]
    },
    {
      "cell_type": "code",
      "execution_count": 89,
      "metadata": {},
      "outputs": [
        {
          "data": {
            "image/png": "[encoded data removed]",
            "text/plain": [
              "<Figure size 1800x500 with 1 Axes>"
            ]
          },
          "metadata": {},
          "output_type": "display_data"
        },
        {
          "name": "stdout",
          "output_type": "stream",
          "text": [
            "Train loss: 0.2555404924622206, val loss: 0.4969695784262757, num epochs: 12\n",
            "Best val loss: 0.4087822387245164, at epoch: 9\n"
          ]
        }
      ],
      "source": [
        "# Plot validation and training loss vs number of epochs here\n",
        "if len(train_loss_arr) > len(val_loss_arr): \n",
        "    train_loss_arr = train_loss_arr[:-1]\n",
        "num_epochs = len(train_loss_arr) \n",
        "x = range(1, num_epochs + 1)\n",
        "plt.figure(figsize=(18,5))\n",
        "plt.plot(x, train_loss_arr)\n",
        "plt.plot(x, val_loss_arr) \n",
        "plt.legend([\"Train loss\", \"Val loss\"], fontsize=16)\n",
        "plt.xlabel(\"Epoch\", fontsize=16)\n",
        "plt.xlim([1, num_epochs])\n",
        "plt.ylabel(\"Loss\", fontsize=16)\n",
        "plt.title(\"Loss vs Epoch\", fontsize=16)  \n",
        "plt.grid()\n",
        "plt.show() \n",
        "\n",
        "idx = np.argmin(val_loss_arr)\n",
        "print(f'Train loss: {train_loss_arr[-1]}, val loss: {val_loss_arr[-1]}, num epochs: {num_epochs}')\n",
        "print(f'Best val loss: {val_loss_arr[idx]}, at epoch: {idx + 1}')\n"
      ]
    },
    {
      "cell_type": "markdown",
      "metadata": {
        "id": "-dz8ehjK2Tkf"
      },
      "source": [
        "### Testing:\n"
      ]
    },
    {
      "cell_type": "markdown",
      "metadata": {},
      "source": [
        "#### Testing model "
      ]
    },
    {
      "cell_type": "code",
      "execution_count": 15,
      "metadata": {},
      "outputs": [],
      "source": [
        "# Reimplemnt pose matrix to vector >:(\n",
        "\n",
        "def pose_vector_from_matrix(pose, seq_length):\n",
        "    \"\"\"\n",
        "    Convert 4x4 pose matrix (as a flattenned length 16 vector) into a position and quaternion length 7 vector.\n",
        "    \"\"\"\n",
        "    pose = pose.reshape(seq_length, 4, 4)\n",
        "    position = pose[:, :3, 3].reshape(seq_length, 3)\n",
        "    orientation = pose[:, :3, :3]\n",
        "\n",
        "    quat = R.from_matrix(orientation).as_quat().reshape(seq_length, 4)\n",
        "    norm_quat = quat / np.linalg.norm(quat)\n",
        "\n",
        "    return np.hstack((position, norm_quat))"
      ]
    },
    {
      "cell_type": "code",
      "execution_count": 21,
      "metadata": {},
      "outputs": [],
      "source": [
        "# Load noisy sequence \n",
        "path_to_sequence = '~/cv_project_code/project/data/filter_net/processed_flow/test3/inputs'\n",
        "sequence_start = 2561 #2561\n",
        "sequence = torch.zeros((seq_length, 1, 480, 848))\n",
        "\n",
        "for i in range(seq_length): \n",
        "    idx = sequence_start + i \n",
        "    img = io.imread(os.path.join(path_to_sequence, f'frame{idx:05d}.png'))\n",
        "    img = torch.from_numpy((img[..., 0] > 127).astype(np.float32))\n",
        "    sequence[i] = img \n",
        "\n",
        "transform = transforms.Resize((256, 256)) \n",
        "sequence = transform(sequence) \n",
        "sequence = sequence.unsqueeze(0).float() # Add batch dimension \n",
        "\n",
        "\n",
        "# Load pose and twist \n",
        "pose = pd.read_csv(os.path.join(path_to_sequence, 'bd_poses.csv')).to_numpy()[sequence_start:sequence_start + seq_length, :]\n",
        "pose = pose_vector_from_matrix(pose, seq_length)\n",
        "twist = pd.read_csv(os.path.join(path_to_sequence, 'bd_twists.csv')).to_numpy()[sequence_start:sequence_start + seq_length, :]\n",
        "state = torch.from_numpy(np.hstack((pose, twist)))\n",
        "state = state.unsqueeze(0).float() # Add batch dimension \n",
        "\n",
        "# Make dummy output \n",
        "out_seq = torch.zeros_like(sequence) \n",
        "\n",
        "# Build input dict \n",
        "datapoint = {'input': (sequence.to(device), state.to(device)), 'target': out_seq.to(device)} \n",
        "\n",
        "# Save og image for plotting \n",
        "og_image = sequence[0, -1, 0, :, :].detach().numpy().copy()\n",
        "target = out_seq[0, -1, 0, :, :].detach().numpy().copy()\n"
      ]
    },
    {
      "cell_type": "code",
      "execution_count": null,
      "metadata": {},
      "outputs": [
        {
          "name": "stdout",
          "output_type": "stream",
          "text": [
            "Took 0.00334930419921875 seconds to compute\n"
          ]
        }
      ],
      "source": [
        "# Test model \n",
        "# Conv3d model time: 0.006s\n",
        "\n",
        "import time \n",
        "model.eval() \n",
        "torch.cuda.synchronize()\n",
        "start = time.time() \n",
        "_, pred_frame = model.loss(datapoint)\n",
        "\n",
        "torch.cuda.synchronize()\n",
        "print(f\"Took {time.time() - start} seconds to compute\")\n"
      ]
    },
    {
      "cell_type": "code",
      "execution_count": 72,
      "metadata": {},
      "outputs": [
        {
          "data": {
            "text/plain": [
              "<matplotlib.image.AxesImage at 0x7036bcf136d0>"
            ]
          },
          "execution_count": 72,
          "metadata": {},
          "output_type": "execute_result"
        },
        {
          "data": {
            "image/png": "[encoded data removed]",
            "text/plain": [
              "<Figure size 640x480 with 1 Axes>"
            ]
          },
          "metadata": {},
          "output_type": "display_data"
        }
      ],
      "source": [
        "# Plot output frame \n",
        "plt.imshow(og_image)"
      ]
    },
    {
      "cell_type": "code",
      "execution_count": 73,
      "metadata": {},
      "outputs": [
        {
          "data": {
            "text/plain": [
              "tensor(0.9977, device='cuda:0', grad_fn=<MaxBackward1>)"
            ]
          },
          "execution_count": 73,
          "metadata": {},
          "output_type": "execute_result"
        },
        {
          "data": {
            "image/png": "[encoded data removed]",
            "text/plain": [
              "<Figure size 640x480 with 1 Axes>"
            ]
          },
          "metadata": {},
          "output_type": "display_data"
        }
      ],
      "source": [
        "prob_pred_frame = torch.sigmoid(pred_frame)\n",
        "out = (prob_pred_frame > 0.5).to(torch.float32) \n",
        "plt.imshow(out[0, 0, :, :].cpu().detach().numpy())\n",
        "out.max()\n",
        "prob_pred_frame.max()"
      ]
    },
    {
      "cell_type": "code",
      "execution_count": 74,
      "metadata": {},
      "outputs": [
        {
          "data": {
            "text/plain": [
              "<matplotlib.image.AxesImage at 0x7036bcdfc6d0>"
            ]
          },
          "execution_count": 74,
          "metadata": {},
          "output_type": "execute_result"
        },
        {
          "data": {
            "image/png": "[encoded data removed]",
            "text/plain": [
              "<Figure size 640x480 with 1 Axes>"
            ]
          },
          "metadata": {},
          "output_type": "display_data"
        }
      ],
      "source": [
        "h, w = 480, 848\n",
        "resize_frame = transforms.Resize((h, w))\n",
        "output_frame = resize_frame(out[0, 0, :, :].unsqueeze(0))\n",
        "plt.imshow(output_frame[0, :, :].cpu().detach().numpy())"
      ]
    },
    {
      "cell_type": "code",
      "execution_count": 75,
      "metadata": {},
      "outputs": [
        {
          "data": {
            "text/plain": [
              "<matplotlib.image.AxesImage at 0x7036bce6da20>"
            ]
          },
          "execution_count": 75,
          "metadata": {},
          "output_type": "execute_result"
        },
        {
          "data": {
            "image/png": "[encoded data removed]",
            "text/plain": [
              "<Figure size 640x480 with 1 Axes>"
            ]
          },
          "metadata": {},
          "output_type": "display_data"
        }
      ],
      "source": [
        "# Actual gt \n",
        "path_to_sequence = '~/cv_project_code/project/data/filter_net/processed_flow/test3/targets'\n",
        "idx = sequence_start + (seq_length - 1)\n",
        "img = io.imread(os.path.join(path_to_sequence, f'frame{idx:05d}.png'))\n",
        "plt.imshow(img)"
      ]
    },
    {
      "cell_type": "markdown",
      "metadata": {},
      "source": [
        "#### Testing dataloader"
      ]
    },
    {
      "cell_type": "markdown",
      "metadata": {},
      "source": [
        "#### Save model \n"
      ]
    },
    {
      "cell_type": "code",
      "execution_count": null,
      "metadata": {},
      "outputs": [],
      "source": [
        "# path_to_save = \"/home/jrached/cv_project_code/cv_project/models/filternet1.pt\"\n",
        "# torch.save(model.state_dict(), path_to_save)\n",
        "\n",
        "### Then to load \n",
        "# model = FilterNet() \n",
        "# model.load_state_dict(torch.load(path_to_save, weights_only=True))\n",
        "# model.eval()"
      ]
    },
    {
      "cell_type": "markdown",
      "metadata": {},
      "source": [
        "#### Misc: Dataloader testing and visualize estimated twist"
      ]
    },
    {
      "cell_type": "code",
      "execution_count": 20,
      "metadata": {
        "id": "nZa-MdYC2Tkf",
        "outputId": "eb6f4cf0-79a1-401b-aa9e-35896221207f"
      },
      "outputs": [
        {
          "name": "stderr",
          "output_type": "stream",
          "text": [
            "100%|██████████| 7/7 [00:00<00:00, 169.65it/s]\n"
          ]
        }
      ],
      "source": [
        "batch_size = 1\n",
        "dataset = VideoDataset(path_to_data, augmented=augmented, num_vids=7, seq_length=seq_length, img_size=img_size)\n",
        "loader = DataLoader(dataset, batch_size=batch_size, shuffle=True, num_workers=0) #NOTE: num_workers is the number of extra processes running in parallel retrieving the data\n",
        "counter = 0\n",
        "for datapoint in loader:\n",
        "    # found_one = False\n",
        "    # features = datapoint['input']\n",
        "    # labels = datapoint['target']\n",
        "    if counter > 1:\n",
        "        break\n",
        "    counter += 1\n",
        "    # for i in range(batch_size):\n",
        "    #     image = features[0][i]\n",
        "    #     if counter > 1502:\n",
        "    #         found_one = True\n",
        "    #         break\n",
        "    #     counter += 1\n",
        "\n",
        "    # if found_one:\n",
        "    #     break\n",
        "\n",
        "# counter\n",
        "# len(datapoint)\n",
        "in_frame = datapoint['input'][0][0, -1, 0, :, :]\n",
        "out_frame = datapoint['target'][0, -1, 0, :, :]\n",
        "# datapoint['input'][:, 0, :, :, :, 1]\n",
        "# counter"
      ]
    },
    {
      "cell_type": "code",
      "execution_count": null,
      "metadata": {},
      "outputs": [],
      "source": [
        "# Use transforms to resize images\n",
        "# This is an example, but it must actually be performed before feeding image data to encoder\n",
        "# For the augmented tensor the image is already resized inside the dataloader\n",
        "\n",
        "sequence = next(iter(loader))\n",
        "if augmented:\n",
        "    input, target = sequence['input'], sequence['target']\n",
        "    print(f'Tensor shape should be: [{batch_size, seq_length, 1, img_size, img_size, 14}] and is: {input.shape}')\n",
        "else:\n",
        "\n",
        "    features = sequence\n",
        "    image = features['input'][0]\n",
        "    input, target = features['input'], features['target']\n",
        "    print(f'\\nBatched image shape should be: [{batch_size, seq_length, 1, img_size, img_size}] and is: {image.shape}')\n"
      ]
    },
    {
      "cell_type": "code",
      "execution_count": null,
      "metadata": {
        "id": "mRfSgW0p2Tkf"
      },
      "outputs": [
        {
          "name": "stdout",
          "output_type": "stream",
          "text": [
            "tensor(1.0000)\n"
          ]
        },
        {
          "data": {
            "text/plain": [
              "<matplotlib.image.AxesImage at 0x7aa500335930>"
            ]
          },
          "execution_count": 77,
          "metadata": {},
          "output_type": "execute_result"
        },
        {
          "data": {
            "image/png": "[encoded data removed]",
            "text/plain": [
              "<Figure size 640x480 with 1 Axes>"
            ]
          },
          "metadata": {},
          "output_type": "display_data"
        }
      ],
      "source": [
        "print(in_frame.max())\n",
        "plt.imshow(in_frame)"
      ]
    },
    {
      "cell_type": "code",
      "execution_count": null,
      "metadata": {},
      "outputs": [
        {
          "name": "stdout",
          "output_type": "stream",
          "text": [
            "tensor(1.0000)\n"
          ]
        },
        {
          "data": {
            "text/plain": [
              "<matplotlib.image.AxesImage at 0x7aa59c39a800>"
            ]
          },
          "execution_count": 76,
          "metadata": {},
          "output_type": "execute_result"
        },
        {
          "data": {
            "image/png": "[encoded data removed]",
            "text/plain": [
              "<Figure size 640x480 with 1 Axes>"
            ]
          },
          "metadata": {},
          "output_type": "display_data"
        }
      ],
      "source": [
        "print(out_frame.max())\n",
        "plt.imshow(out_frame)"
      ]
    },
    {
      "cell_type": "code",
      "execution_count": null,
      "metadata": {
        "id": "P0SzUPJU2Tkf",
        "outputId": "398eee74-d583-4ca5-8102-93dd9065eb11"
      },
      "outputs": [
        {
          "data": {
            "text/plain": [
              "1503"
            ]
          },
          "execution_count": 73,
          "metadata": {},
          "output_type": "execute_result"
        }
      ],
      "source": [
        "features[0].shape\n",
        "counter"
      ]
    },
    {
      "cell_type": "code",
      "execution_count": null,
      "metadata": {
        "id": "aOc07DAT2Tkf",
        "outputId": "c0f6ffe5-c145-41f9-887f-a9beb2d83470"
      },
      "outputs": [
        {
          "data": {
            "text/plain": [
              "tensor([-1.3603,  0.6753,  2.2040,  0.0300,  0.0131,  0.1257,  0.9915])"
            ]
          },
          "execution_count": 74,
          "metadata": {},
          "output_type": "execute_result"
        }
      ],
      "source": [
        "pose = features[1]\n",
        "pose[28]"
      ]
    },
    {
      "cell_type": "markdown",
      "metadata": {
        "id": "ZOc_mFio2Tkf"
      },
      "source": [
        "#### Testing interpolated twist"
      ]
    },
    {
      "cell_type": "code",
      "execution_count": null,
      "metadata": {
        "id": "UdtoDN912Tkf",
        "outputId": "e0f2c3c1-f8df-4d04-c59c-d542ce8d9397"
      },
      "outputs": [
        {
          "data": {
            "image/png": "[encoded data removed]",
            "text/plain": [
              "<Figure size 640x480 with 1 Axes>"
            ]
          },
          "metadata": {},
          "output_type": "display_data"
        }
      ],
      "source": [
        "features[1]\n",
        "twist = features[2]\n",
        "\n",
        "plt.plot(pose[:, 0])\n",
        "plt.plot(twist[:, 0])\n",
        "plt.legend([\"pos_x\", \"vel_x\"])\n",
        "plt.show()"
      ]
    },
    {
      "cell_type": "code",
      "execution_count": null,
      "metadata": {
        "id": "2fOHwKEl2Tkg",
        "outputId": "fdf4a3a1-9715-43b8-b655-d393fb342bad"
      },
      "outputs": [
        {
          "data": {
            "text/plain": [
              "<matplotlib.image.AxesImage at 0x7aa6d1ed3190>"
            ]
          },
          "execution_count": 67,
          "metadata": {},
          "output_type": "execute_result"
        },
        {
          "data": {
            "image/png": "[encoded data removed]",
            "text/plain": [
              "<Figure size 640x480 with 1 Axes>"
            ]
          },
          "metadata": {},
          "output_type": "display_data"
        }
      ],
      "source": [
        "image = features[0][28]\n",
        "image.max()\n",
        "plt.imshow(image)"
      ]
    },
    {
      "cell_type": "code",
      "execution_count": null,
      "metadata": {
        "id": "okyO-UJw2Tkg",
        "outputId": "efe99c9b-9cf0-48c0-d2fd-800bf73fb1ff"
      },
      "outputs": [
        {
          "data": {
            "text/plain": [
              "torch.Size([32, 256, 256])"
            ]
          },
          "execution_count": 43,
          "metadata": {},
          "output_type": "execute_result"
        }
      ],
      "source": []
    }
  ],
  "metadata": {
    "colab": {
      "provenance": []
    },
    "kernelspec": {
      "display_name": "rdp_venv",
      "language": "python",
      "name": "python3"
    },
    "language_info": {
      "codemirror_mode": {
        "name": "ipython",
        "version": 3
      },
      "file_extension": ".py",
      "mimetype": "text/x-python",
      "name": "python",
      "nbconvert_exporter": "python",
      "pygments_lexer": "ipython3",
      "version": "3.10.12"
    }
  },
  "nbformat": 4,
  "nbformat_minor": 0
}
