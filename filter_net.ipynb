{
  "cells": [
    {
      "cell_type": "markdown",
      "metadata": {
        "id": "Fa2szzXO2TkX"
      },
      "source": [
        "### FilterNet\n",
        "A neural network for filtering out gaussian noise from an image introduced by aggressive accelerations on the vehicle carrying the camera."
      ]
    },
    {
      "cell_type": "code",
      "execution_count": 1,
      "metadata": {
        "id": "NnM9R8Ai2Tka"
      },
      "outputs": [],
      "source": [
        "import os\n",
        "import torch\n",
        "import torch.nn as nn\n",
        "import numpy as np\n",
        "import pandas as pd\n",
        "from scipy.spatial.transform import Rotation as R\n",
        "import matplotlib.pyplot as plt\n",
        "from skimage import io, transform\n",
        "from PIL import Image\n",
        "from torch.utils.data import Dataset, DataLoader, random_split\n",
        "from torchvision import transforms, utils\n",
        "from typing import List, Dict, Tuple\n",
        "from tqdm import tqdm"
      ]
    },
    {
      "cell_type": "markdown",
      "metadata": {
        "id": "_sve0geD2Tkb"
      },
      "source": [
        "### Dataset Class and Dataloader"
      ]
    },
    {
      "cell_type": "code",
      "execution_count": 2,
      "metadata": {
        "id": "nZQXyVbA2Tkb"
      },
      "outputs": [],
      "source": [
        "# Set device to cuda\n",
        "device = torch.device('cuda:0')\n",
        "\n",
        "# Create dataset class\n",
        "class VideoDataset(Dataset):\n",
        "    def __init__(self, path_to_data, augmented=False, num_vids=7, seq_length=5, img_size=256):\n",
        "        \"\"\"\n",
        "        Go through each video folder and build a map from\n",
        "        index i in range [0, N], where N is the total number\n",
        "        of frames in all the videos, to a tuple (j, k), where\n",
        "        j is the video number and k the frame index in that\n",
        "        video. For reference, the videos are stored in the\n",
        "        dataset as:\n",
        "\n",
        "        data:\n",
        "        - test1:\n",
        "          - inputs:\n",
        "            - bd_poses.csv\n",
        "            - bd_twists.csv\n",
        "            - frame0000.png\n",
        "            - frame0001.png\n",
        "            - ...\n",
        "          - targets:\n",
        "            - frame0000.png\n",
        "            - frame0001.png\n",
        "            - ...\n",
        "        - test2:\n",
        "            - ...\n",
        "        - ...\n",
        "        \"\"\"\n",
        "        self.img_size = img_size\n",
        "        self.seq_length = seq_length\n",
        "        self.augmented = augmented\n",
        "        self.num_vids = num_vids\n",
        "        self.path_to_data = path_to_data\n",
        "        self.idx_map: List[Tuple[int, int]] = []\n",
        "        self.poses: Dict[int, np.ndarray] = {}\n",
        "        self.twists: Dict[int, np.ndarray] = {}\n",
        "        for i in tqdm(range(1, self.num_vids + 1)):\n",
        "            # Define path to pose\n",
        "            pose_path = os.path.join(path_to_data, f'test{i}/inputs/bd_poses.csv')\n",
        "            twist_path = os.path.join(path_to_data, f'test{i}/inputs/bd_twists.csv')\n",
        "\n",
        "            # Check that files were opened properly\n",
        "            if not os.path.isfile(pose_path):\n",
        "                raise FileNotFoundError(f\"Missing pose file: {pose_path}\")\n",
        "            if not os.path.isfile(twist_path):\n",
        "                raise FileNotFoundError(f\"Missing twist file: {twist_path}\")\n",
        "\n",
        "            # Get poses\n",
        "            self.poses[i] = pd.read_csv(pose_path).to_numpy()\n",
        "            self.twists[i] = pd.read_csv(twist_path).to_numpy()\n",
        "\n",
        "            # Get number of sequences in this video: num_frames - (seq_length - 1)\n",
        "            num_sequences = (self.poses[i].shape[0] - 1) - (self.seq_length - 1)\n",
        "\n",
        "            # Update index map\n",
        "            video_num = [i] * num_sequences\n",
        "            frame_idx = list(range(0, num_sequences))\n",
        "            self.idx_map.extend(list(zip(video_num, frame_idx)))\n",
        "\n",
        "        self.total_num_sequences = len(self.idx_map)\n",
        "\n",
        "    def __len__(self):\n",
        "        \"\"\"\n",
        "        Return length of dataset as computed in __init__() function.\n",
        "        \"\"\"\n",
        "        return self.total_num_sequences\n",
        "\n",
        "    def __getitem__(self, idx):\n",
        "        \"\"\"\n",
        "        Use map built in __init__() to retrieve the image,\n",
        "        pose, and twist directly from the dataset.\n",
        "        This avoids loading the entire dataset which\n",
        "        overwhelms RAM.\n",
        "        \"\"\"\n",
        "        assert idx < self.total_num_sequences\n",
        "        if torch.is_tensor(idx):\n",
        "            idx = idx.tolist()\n",
        "\n",
        "        seq_start = True\n",
        "        for i in range(self.seq_length):\n",
        "            # Define path to data\n",
        "            test_idx, frame_idx = self.idx_map[idx]\n",
        "            frame_idx += i\n",
        "            padded_frame_idx = self.to_zero_pad_idx(frame_idx)\n",
        "            input_img_path = os.path.join(self.path_to_data,\n",
        "                                    f'test{test_idx}/inputs/frame{padded_frame_idx}.png')\n",
        "            output_img_path = os.path.join(self.path_to_data,\n",
        "                                    f'test{test_idx}/targets/frame{padded_frame_idx}.png')\n",
        "\n",
        "            # Debug: \n",
        "            # print(f'\\ntest idx, frame idx: {test_idx, frame_idx}')\n",
        "\n",
        "            # Load and process data\n",
        "            input_frame = io.imread(input_img_path)\n",
        "            output_frame = io.imread(output_img_path)\n",
        "            input_frame = torch.from_numpy(self.to_grayscale(input_frame)).float()\n",
        "            output_frame = torch.from_numpy(self.to_grayscale(output_frame)).float()\n",
        "            pose = self.poses[test_idx][frame_idx]\n",
        "            pose = torch.from_numpy(self.pose_vector_from_matrix(pose).reshape(-1, 1)).float()\n",
        "            twist = torch.from_numpy(self.twists[test_idx][frame_idx].reshape(-1, 1)).float()\n",
        "            state = torch.cat((pose, twist), dim=0).view(-1)\n",
        "\n",
        "            # Resize frames\n",
        "            h, w = self.img_size, self.img_size\n",
        "            resize_frame = transforms.Resize((h, w))\n",
        "            output_frame = resize_frame(output_frame.unsqueeze(0))\n",
        "            input_frame = resize_frame(input_frame.unsqueeze(0))\n",
        "\n",
        "            if not self.augmented:\n",
        "                # Initialize sequence\n",
        "                if seq_start:\n",
        "                    in_frame_seq = torch.zeros_like(input_frame).view(1, 1, h, w).repeat((self.seq_length, 1, 1, 1))\n",
        "                    out_frame_seq = torch.zeros_like(output_frame).view(1, 1, h, w).repeat((self.seq_length, 1, 1, 1))\n",
        "                    state_seq = torch.zeros_like(state).unsqueeze(0).repeat((self.seq_length, 1))\n",
        "                    seq_start = False\n",
        "\n",
        "                # Update sequence\n",
        "                in_frame_seq[i] = input_frame.view(1, h, w)\n",
        "                out_frame_seq[i] = output_frame.view(1, h, w)\n",
        "                state_seq[i] = state\n",
        "\n",
        "            # If we want a broadcasted frame, pose, twist tensor of shape (B, T, 1, H, W, 14)\n",
        "            else:\n",
        "                expanded_frame = input_frame.view(1, h, w, 1)\n",
        "                expanded_state = state.view(1, 1, 1, -1).repeat(1, h, w, 1)\n",
        "                augmented_frame = torch.cat((expanded_frame, expanded_state), dim=-1)\n",
        "\n",
        "                # Initialize augmented sequence\n",
        "                if seq_start:\n",
        "                    aug_seq_in = torch.zeros_like(augmented_frame).unsqueeze(0).repeat((self.seq_length, 1, 1, 1, 1))\n",
        "                    aug_seq_out = torch.zeros_like(output_frame).unsqueeze(0).repeat((self.seq_length, 1, 1, 1))\n",
        "                    seq_start = False\n",
        "\n",
        "                # Update augmented sequence\n",
        "                aug_seq_in[i] = augmented_frame\n",
        "                aug_seq_out[i] = output_frame\n",
        "\n",
        "        return {'input': (in_frame_seq, state_seq), 'target': out_frame_seq} if not self.augmented else {'input': aug_seq_in, 'target': aug_seq_out}\n",
        "\n",
        "    def to_zero_pad_idx(self, idx):\n",
        "        \"\"\"\n",
        "        Convert frame index from regular index to zero-padded index.\n",
        "        e.g. 1 -> 00001, 12 -> 00012\n",
        "        \"\"\"\n",
        "        return f'{idx:05d}'\n",
        "\n",
        "    def pose_vector_from_matrix(self, pose):\n",
        "        \"\"\"\n",
        "        Convert 4x4 pose matrix (as a flattenned length 16 vector) into a position and quaternion length 7 vector.\n",
        "        \"\"\"\n",
        "        pose = pose.reshape(4, 4)\n",
        "        position = pose[:3, 3].reshape(3, 1)\n",
        "        orientation = pose[:3, :3]\n",
        "\n",
        "        quat = R.from_matrix(orientation).as_quat().reshape(-1, 1)\n",
        "        norm_quat = quat / np.linalg.norm(quat)\n",
        "\n",
        "        return np.vstack((position, norm_quat)).reshape(-1)\n",
        "\n",
        "    def to_grayscale(self, image):\n",
        "        \"\"\"\n",
        "        Convert PNG image to grayscale mask\n",
        "        \"\"\"\n",
        "        #TODO: Try float16 type\n",
        "        return (image[..., 0] > 127).astype(np.float32)\n"
      ]
    },
    {
      "cell_type": "markdown",
      "metadata": {
        "id": "CWqqQFt_2Tkc"
      },
      "source": [
        "### Submodules\n",
        "\n",
        "Here are the Encoders, Decoder, and LSTM"
      ]
    },
    {
      "cell_type": "code",
      "execution_count": 3,
      "metadata": {
        "id": "FDZEvwW82Tkd"
      },
      "outputs": [],
      "source": [
        "# Write classes for compression networks\n",
        "\n",
        "#TODO: Try a conv3d encoder. conv3d layers encode temporal information. (Alternative to LSTM). An alternative to the current pipeline would\n",
        "# be to use the augmented data tensor (without compressing it) and a conv3d layer to process the (T, B, 1, H, W, 14) input. Which would need to be\n",
        "#reshaped to (B, 1, T, H, W, 14). I wouldn't know what to do with the state dimension. Treat them as channels (image, pose, twist)? Flatten them with the sequence dim?\n",
        "\n",
        "class ImgEncoder(nn.Module):\n",
        "    def __init__(self, in_channel=1, hidden_channel=16, out_channel=32, h_in=256, out_dim=1024):\n",
        "        \"\"\"\n",
        "        Define convolutional neural network architecture for compressing a 256 x 256 image into a 1024 embedding vector.\n",
        "        Assumes image is square.\n",
        "        \"\"\"\n",
        "        super().__init__()\n",
        "\n",
        "        # Compute image shape after convolution\n",
        "        stride = 2\n",
        "        padding_one, padding_two = 7, 1\n",
        "        num_ker_one, num_ker_two = 16, 4\n",
        "        h_out = (h_in + 2 * padding_one - num_ker_one) // stride + 1\n",
        "        h_out = (h_out + 2 * padding_two - num_ker_two) // stride + 1\n",
        "\n",
        "        # Define CNN\n",
        "        linear_in_dim = out_channel * h_out ** 2\n",
        "        linear_out_dim = out_dim\n",
        "        self.conv_stack = nn.Sequential(\n",
        "                            nn.Conv2d(in_channel, hidden_channel, num_ker_one, stride=stride, padding=padding_one), # h_in, w_in = (256, 256); h_out, w_out = (128, 128)\n",
        "                            nn.ReLU(),\n",
        "                            nn.Conv2d(hidden_channel, out_channel, num_ker_two, stride=stride, padding=padding_two), # h_in, w_in = (128, 128); h_out, w_out = (64, 64)\n",
        "                            nn.ReLU(),\n",
        "                            nn.Flatten(start_dim=1, end_dim=-1), # Flattens (c_out, h_out, w_out) = (32, 64, 64) into 131072\n",
        "                            nn.Linear(linear_in_dim, linear_out_dim) # Encodes the 131072 length flattened convolved image into a 1024 length embedding vector\n",
        "        )\n",
        "\n",
        "    def forward(self, x):\n",
        "        \"\"\"\n",
        "        Define neural network forward pass\n",
        "        Input has shape (T, B, 1, H, W)\n",
        "        \"\"\"\n",
        "        seq_len, batch_size, _, h, w = x.shape\n",
        "        x = x.reshape(seq_len * batch_size, 1, h, w)\n",
        "        return self.conv_stack(x).reshape(seq_len, batch_size, -1)\n",
        "\n",
        "\n",
        "class StateEncoder(nn.Module):\n",
        "    def __init__(self, in_dim=13, out_dim=128):\n",
        "        \"\"\"\n",
        "        Define linear layer to generate a length 128 embedding vector from length 13 pose and twist vector.\n",
        "        \"\"\"\n",
        "        super().__init__()\n",
        "        self.linear_layer = nn.Linear(in_dim, out_dim)\n",
        "\n",
        "    def forward(self, x):\n",
        "        \"\"\"\n",
        "        Define nueral network forward pass\n",
        "        \"\"\"\n",
        "        return self.linear_layer(x)\n",
        "\n",
        "class ImgDecoder(nn.Module):\n",
        "    def __init__(self, in_channels=5, hidden_channels=3, out_channels=1, in_dim=512, hidden_dim=4096):\n",
        "        \"\"\"\n",
        "        Reconstructs the image from the embedding vector. (B, T, in_dim): (B, 5, 512)\n",
        "        Output image size is (256, 256).\n",
        "        \"\"\"\n",
        "        super().__init__()\n",
        "\n",
        "        # Compute output height\n",
        "        h_in = int(np.sqrt(hidden_dim))\n",
        "        stride = 1\n",
        "        pad_one, pad_two = 34, 71\n",
        "        ker_one, ker_two = 5, 15\n",
        "        self.h_out = (h_in + 2 * pad_one - ker_one) // stride + 1\n",
        "        self.h_out = (self.h_out + 2 * pad_two - ker_two) // stride + 1\n",
        "\n",
        "        # Modules\n",
        "        self.decoder = nn.Sequential(\n",
        "                        nn.Linear(in_dim, hidden_dim), # (B, T, hidden_dim)\n",
        "                        nn.ReLU(),\n",
        "                        nn.Unflatten(dim=-1, unflattened_size=(h_in, h_in)),\n",
        "                        nn.Conv2d(in_channels, hidden_channels, ker_one, stride, pad_one),\n",
        "                        nn.ReLU(),\n",
        "                        nn.Conv2d(hidden_channels, out_channels, ker_two, stride, pad_two),\n",
        "        )\n",
        "\n",
        "    def forward(self, x):\n",
        "        \"\"\"\n",
        "        Input has shape (T, B, D_emb) = (5, 16, 512)\n",
        "        Return predicted last image in sequence (B, 1, h_out, h_out)\n",
        "        It treats the input sequence dimension as an images channels dimension and it convolves\n",
        "        the image back to its original dimension.\n",
        "\n",
        "        TODO: Consider instead of passing (T, B, D_emb) as (T * B, D_emb) and reconstructing as\n",
        "        (T, B, 1, h_out, h_out), pass it as (B, T * D_emb) and reconstruct as (B, 1, h_out, h_out).\n",
        "        \"\"\"\n",
        "        return self.decoder(x.permute(1, 0, 2)) # Convnet expects (B, T, H, W)\n",
        "    \n",
        "class ImgDecoder2(nn.Module):\n",
        "    def __init__(self, in_channels=5, hidden_channels=32, out_channels=1, in_dim=512, hidden_dim=1024, out_size=256):\n",
        "        super().__init__()\n",
        "        self.out_size = out_size\n",
        "        h_in = int(np.sqrt(hidden_dim))\n",
        "\n",
        "        self.decoder = nn.Sequential(\n",
        "            nn.Linear(in_dim, hidden_dim),\n",
        "            nn.ReLU(),\n",
        "            nn.Unflatten(dim=-1, unflattened_size=(h_in, h_in)),  # (B, 5, 32, 32)\n",
        "            nn.Upsample(scale_factor=2, mode='nearest'),  # (B, 5, 64, 64)\n",
        "            nn.Conv2d(in_channels, hidden_channels, kernel_size=3, padding=1),\n",
        "            nn.ReLU(),\n",
        "            nn.Upsample(scale_factor=2, mode='nearest'),  # (B, 32, 128, 128)\n",
        "            nn.Conv2d(hidden_channels, hidden_channels, kernel_size=3, padding=1),\n",
        "            nn.ReLU(),\n",
        "            nn.Upsample(scale_factor=2, mode='nearest'),  # (B, 16, 256, 256)\n",
        "            nn.Conv2d(hidden_channels, out_channels, kernel_size=3, padding=1),\n",
        "        )\n",
        "\n",
        "    def forward(self, x):\n",
        "        return self.decoder(x.permute(1, 0, 2))\n",
        "\n",
        "\n",
        "# Jialin Encoder\n",
        "class SIRENActivation(nn.Module):\n",
        "    def __init__(self, w0=30.0):\n",
        "        super().__init__()\n",
        "        self.w0 = w0\n",
        "\n",
        "    def forward(self, x):\n",
        "        return torch.sin(self.w0 * x)\n",
        "\n",
        "class CNNEncoder(nn.Module):\n",
        "    def __init__(self, input_channels=1, hidden_dim=1024, activation=SIRENActivation(30.0)): # or nn.ReLU\n",
        "        super().__init__()\n",
        "        self.encoder = nn.Sequential(\n",
        "            nn.Conv2d(input_channels, 16, 3, padding=1),\n",
        "            activation,\n",
        "            nn.MaxPool2d(2),\n",
        "            nn.Conv2d(16, 32, 3, padding=1),\n",
        "            activation,\n",
        "            nn.MaxPool2d(2)\n",
        "        )\n",
        "        self.flatten = nn.Flatten()\n",
        "        self.out_dim = 32 * 64 * 64 # 131072\n",
        "        self.fc = nn.Linear(self.out_dim, hidden_dim)\n",
        "\n",
        "    def forward(self, x):  # (T, B, 1, H, W)\n",
        "        T, B, C, H, W = x.shape\n",
        "        x = x.contiguous().view(T * B, C, H, W)\n",
        "        x = self.encoder(x)\n",
        "        x = self.flatten(x)\n",
        "        x = self.fc(x)\n",
        "        x = x.view(T, B, -1)\n",
        "        return x  # (T, B, hidden_dim)\n",
        "\n",
        "# Jialin State Encoder\n",
        "class JStateEncoder(nn.Module):\n",
        "    def __init__(self, pose_dim=13, embed_dim=128):\n",
        "        super().__init__()\n",
        "        self.fc = nn.Sequential(\n",
        "            nn.Linear(pose_dim, embed_dim),\n",
        "            nn.ReLU(),\n",
        "            nn.Linear(embed_dim, embed_dim)\n",
        "        )\n",
        "\n",
        "    def forward(self, pose):  # (T, B, 13)\n",
        "        return self.fc(pose)  # (T, B, embed_dim)\n"
      ]
    },
    {
      "cell_type": "code",
      "execution_count": 4,
      "metadata": {
        "id": "IiQQUOdU2Tkd"
      },
      "outputs": [],
      "source": [
        "# Test conv encoder\n",
        "mock_img_data = torch.zeros((5, 16, 1, 256, 256))\n",
        "img_encoder = CNNEncoder()\n",
        "img_embedding = img_encoder(mock_img_data)\n",
        "\n",
        "# Test state encoder\n",
        "mock_state_data = torch.zeros((5,64, 13))\n",
        "state_encoder = JStateEncoder()\n",
        "state_embedding = state_encoder(mock_state_data)\n"
      ]
    },
    {
      "cell_type": "code",
      "execution_count": 5,
      "metadata": {
        "id": "zXDPaPQh2Tkd",
        "outputId": "963689c7-44a6-45b7-f60f-9885ebbe24c2"
      },
      "outputs": [
        {
          "data": {
            "text/plain": [
              "torch.Size([5, 16, 1024])"
            ]
          },
          "execution_count": 5,
          "metadata": {},
          "output_type": "execute_result"
        }
      ],
      "source": [
        "img_embedding.shape\n",
        "# state_embedding.shape"
      ]
    },
    {
      "cell_type": "code",
      "execution_count": 6,
      "metadata": {
        "id": "MjdP10Rv2Tke"
      },
      "outputs": [],
      "source": [
        "# Vanilla LSTM\n",
        "class LSTM(nn.Module):\n",
        "    def __init__(self, in_dim, hidden_dim, num_layers=1):\n",
        "        super().__init__()\n",
        "        self.model = nn.LSTM(in_dim, hidden_dim, num_layers=num_layers)\n",
        "\n",
        "    def forward(self, x):\n",
        "        return self.model(x)[0]\n",
        "\n",
        "# Jialin's LSTM\n",
        "class JLSTM(nn.Module):\n",
        "    '''\n",
        "    LSTM with the image + pose embeddings as input\n",
        "    '''\n",
        "    def __init__(self, input_dim, hidden_dim):\n",
        "        super().__init__()\n",
        "\n",
        "        self.lstm = nn.LSTM(\n",
        "            input_size=input_dim,\n",
        "            hidden_size=hidden_dim,\n",
        "            batch_first=False,\n",
        "            bidirectional=False\n",
        "        )\n",
        "\n",
        "    def forward(self, x):  # (T, B, input_dim)\n",
        "        out, _ = self.lstm(x)\n",
        "        return out  # (T, B, hidden_dim)"
      ]
    },
    {
      "cell_type": "code",
      "execution_count": 7,
      "metadata": {},
      "outputs": [],
      "source": [
        "# Loss functions \n",
        "class BCEDiceLoss(nn.Module):\n",
        "    def __init__(self, weight_bce=0.7, weight_dice=0.3, smooth=1.0, weight=250.0):\n",
        "        super().__init__()\n",
        "        self.bce = nn.BCEWithLogitsLoss(pos_weight=torch.tensor([weight], device=device))\n",
        "        self.weight_bce = weight_bce\n",
        "        self.weight_dice = weight_dice\n",
        "        self.smooth = smooth  # to avoid division by zero\n",
        "\n",
        "    def forward(self, logits, targets):\n",
        "        # BCEWithLogitsLoss expects raw logits\n",
        "        bce_loss = self.bce(logits, targets)\n",
        "\n",
        "        # Apply sigmoid to get probabilities\n",
        "        probs = torch.sigmoid(logits)\n",
        "        probs = probs.reshape(-1)\n",
        "        targets = targets.reshape(-1)\n",
        "\n",
        "        intersection = (probs * targets).sum()\n",
        "        dice_score = (2. * intersection + self.smooth) / (\n",
        "            probs.sum() + targets.sum() + self.smooth\n",
        "        )\n",
        "        dice_loss = 1 - dice_score\n",
        "\n",
        "        return self.weight_bce * bce_loss + self.weight_dice * dice_loss"
      ]
    },
    {
      "cell_type": "markdown",
      "metadata": {
        "id": "NBK9Zmsb2Tke"
      },
      "source": [
        "### FilterNet\n",
        "\n",
        "This is the main module which contains the submodules to form a LSTM convolutional autoencoder"
      ]
    },
    {
      "cell_type": "code",
      "execution_count": 8,
      "metadata": {
        "id": "va7AQ7WO2Tke"
      },
      "outputs": [],
      "source": [
        "# Define LSTM class\n",
        "class FilterNet(nn.Module):\n",
        "    def __init__(self, in_dim=1152, hidden_dim=512, seq_length=5, augmented=False):\n",
        "        \"\"\"\n",
        "        Define LSTM architecture with image and state encoders\n",
        "        Must concatenate image and state embeddings to make a 1024 + 128 length embedding vector for lstm\n",
        "        lstm input dimension is then 1024 + 128 = 1152\n",
        "        \"\"\"\n",
        "        super().__init__()\n",
        "\n",
        "        # Parameters\n",
        "        self.in_dim = in_dim\n",
        "        self.hidden_dim = hidden_dim\n",
        "        self.seq_len = seq_length\n",
        "        self.augmented = augmented\n",
        "\n",
        "        # Jialin Modules\n",
        "        # self.image_encoder = CNNEncoder()\n",
        "        # self.state_encoder = JStateEncoder()\n",
        "        # self.lstm = JLSTM(input_dim=in_dim, hidden_dim=hidden_dim)\n",
        "        # self.image_decoder = ImgDecoder()\n",
        "        # self.loss_fun = nn.MSELoss()\n",
        "\n",
        "        # Juan Modules \n",
        "        self.image_encoder = ImgEncoder()\n",
        "        self.state_encoder = StateEncoder() \n",
        "        self.lstm = LSTM(in_dim, hidden_dim) \n",
        "        self.image_decoder = ImgDecoder2(in_channels=seq_length) \n",
        "        self.loss_fun = BCEDiceLoss()\n",
        "\n",
        "\n",
        "\n",
        "    def loss(self, sequence):\n",
        "        \"\"\"\n",
        "        Unless using the augmented (B, T, 1, H, W, 14) tensor, data will come in as a Tuple storing a sequence of {'input', 'target'}\n",
        "        dictionaries. Each 'input' field contains a frame, a pose, and a twist, each as a tensor.\n",
        "\n",
        "        Must loop through the sequence to generate embedding, but for small sequence lengths, the overhead is negligible, and actually\n",
        "        preferable, than the memory overhead of the augmented tensor.\n",
        "        \"\"\"\n",
        "\n",
        "        if self.augmented:\n",
        "            # Retrieve data\n",
        "            input, output = sequence['input'].permute(1, 0, 2, 3, 4, 5), sequence['target'].permute(1, 0, 2, 3, 4) # switch to sequence first\n",
        "            frames = input[..., 0]\n",
        "            state = input[:, :, :, 0, 0, 1:]\n",
        "            out_frame = output[-1, ...]\n",
        "        else:\n",
        "            # Pass each element of the sequence through the model\n",
        "            frames = sequence['input'][0].permute(1, 0, 2, 3, 4) # (T, B, 1, H, W)\n",
        "            state = sequence['input'][1].permute(1, 0, 2) # (T, B, 13)\n",
        "            out_frame = sequence['target'].permute(1, 0, 2, 3, 4)[-1, ...] #(B, 1, H, W)\n",
        "\n",
        "        # Pass inputs through encoders\n",
        "        img_embedding = self.image_encoder(frames) # out dim should be (T, B, d_img_emb)\n",
        "        state_embedding = self.state_encoder(state) # out dim should be (T, B, d_state_emb)\n",
        "\n",
        "        # Concatenate embedding vector and reconstruct sequence as a tensor\n",
        "        compressed_input = torch.cat((img_embedding, state_embedding), dim=-1) # (T, B, in_dim)\n",
        "\n",
        "        # Pass compressed sequence through LSTM\n",
        "        lstm_out = self.lstm(compressed_input) # should have shape (T, B, hidden_dim) (5, 16, 512)\n",
        "\n",
        "        # Pass through decoder to reconstruct predicted last frame in sequence\n",
        "        pred_frame = self.image_decoder(lstm_out)\n",
        "\n",
        "        # Get loss between predicted frame and last frame in target sequence\n",
        "        return self.loss_fun(pred_frame, out_frame), pred_frame\n"
      ]
    },
    {
      "cell_type": "code",
      "execution_count": 9,
      "metadata": {
        "id": "amF2bPn42Tke",
        "outputId": "a94a8b5f-d8e3-4b47-9d0c-f072dd744c39"
      },
      "outputs": [
        {
          "data": {
            "text/plain": [
              "(tensor(125.7986, device='cuda:0', grad_fn=<AddBackward0>),\n",
              " tensor([[[[-0.0557, -0.0519, -0.0541,  ..., -0.0649, -0.0616, -0.0642],\n",
              "           [-0.0459, -0.0437, -0.0456,  ..., -0.0594, -0.0579, -0.0596],\n",
              "           [-0.0436, -0.0417, -0.0440,  ..., -0.0615, -0.0602, -0.0615],\n",
              "           ...,\n",
              "           [-0.0470, -0.0526, -0.0558,  ..., -0.0649, -0.0653, -0.0601],\n",
              "           [-0.0465, -0.0557, -0.0574,  ..., -0.0621, -0.0644, -0.0594],\n",
              "           [-0.0570, -0.0590, -0.0580,  ..., -0.0619, -0.0654, -0.0596]]],\n",
              " \n",
              " \n",
              "         [[[-0.0557, -0.0519, -0.0541,  ..., -0.0649, -0.0616, -0.0642],\n",
              "           [-0.0459, -0.0437, -0.0456,  ..., -0.0594, -0.0579, -0.0596],\n",
              "           [-0.0436, -0.0417, -0.0440,  ..., -0.0615, -0.0602, -0.0615],\n",
              "           ...,\n",
              "           [-0.0470, -0.0526, -0.0558,  ..., -0.0649, -0.0653, -0.0601],\n",
              "           [-0.0465, -0.0557, -0.0574,  ..., -0.0621, -0.0644, -0.0594],\n",
              "           [-0.0570, -0.0590, -0.0580,  ..., -0.0619, -0.0654, -0.0596]]],\n",
              " \n",
              " \n",
              "         [[[-0.0557, -0.0519, -0.0541,  ..., -0.0649, -0.0616, -0.0642],\n",
              "           [-0.0459, -0.0437, -0.0456,  ..., -0.0594, -0.0579, -0.0596],\n",
              "           [-0.0436, -0.0417, -0.0440,  ..., -0.0615, -0.0602, -0.0615],\n",
              "           ...,\n",
              "           [-0.0470, -0.0526, -0.0558,  ..., -0.0649, -0.0653, -0.0601],\n",
              "           [-0.0465, -0.0557, -0.0574,  ..., -0.0621, -0.0644, -0.0594],\n",
              "           [-0.0570, -0.0590, -0.0580,  ..., -0.0619, -0.0654, -0.0596]]],\n",
              " \n",
              " \n",
              "         ...,\n",
              " \n",
              " \n",
              "         [[[-0.0557, -0.0519, -0.0541,  ..., -0.0649, -0.0616, -0.0642],\n",
              "           [-0.0459, -0.0437, -0.0456,  ..., -0.0594, -0.0579, -0.0596],\n",
              "           [-0.0436, -0.0417, -0.0440,  ..., -0.0615, -0.0602, -0.0615],\n",
              "           ...,\n",
              "           [-0.0470, -0.0526, -0.0558,  ..., -0.0649, -0.0653, -0.0601],\n",
              "           [-0.0465, -0.0557, -0.0574,  ..., -0.0621, -0.0644, -0.0594],\n",
              "           [-0.0570, -0.0590, -0.0580,  ..., -0.0619, -0.0654, -0.0596]]],\n",
              " \n",
              " \n",
              "         [[[-0.0557, -0.0519, -0.0541,  ..., -0.0649, -0.0616, -0.0642],\n",
              "           [-0.0459, -0.0437, -0.0456,  ..., -0.0594, -0.0579, -0.0596],\n",
              "           [-0.0436, -0.0417, -0.0440,  ..., -0.0615, -0.0602, -0.0615],\n",
              "           ...,\n",
              "           [-0.0470, -0.0526, -0.0558,  ..., -0.0649, -0.0653, -0.0601],\n",
              "           [-0.0465, -0.0557, -0.0574,  ..., -0.0621, -0.0644, -0.0594],\n",
              "           [-0.0570, -0.0590, -0.0580,  ..., -0.0619, -0.0654, -0.0596]]],\n",
              " \n",
              " \n",
              "         [[[-0.0557, -0.0519, -0.0541,  ..., -0.0649, -0.0616, -0.0642],\n",
              "           [-0.0459, -0.0437, -0.0456,  ..., -0.0594, -0.0579, -0.0596],\n",
              "           [-0.0436, -0.0417, -0.0440,  ..., -0.0615, -0.0602, -0.0615],\n",
              "           ...,\n",
              "           [-0.0470, -0.0526, -0.0558,  ..., -0.0649, -0.0653, -0.0601],\n",
              "           [-0.0465, -0.0557, -0.0574,  ..., -0.0621, -0.0644, -0.0594],\n",
              "           [-0.0570, -0.0590, -0.0580,  ..., -0.0619, -0.0654, -0.0596]]]],\n",
              "        device='cuda:0', grad_fn=<ConvolutionBackward0>))"
            ]
          },
          "execution_count": 9,
          "metadata": {},
          "output_type": "execute_result"
        }
      ],
      "source": [
        "### Test FilterNet\n",
        "\n",
        "# Generate mock input\n",
        "mock_img_npt_data = torch.zeros((16, 5, 1, 256, 256), device=device)\n",
        "mock_img_trgt_data = torch.ones((16, 5, 1, 256, 256), device=device)\n",
        "mock_state_data = torch.zeros((16, 5, 13), device=device)\n",
        "datapoint = {'input': (mock_img_npt_data, mock_state_data), 'target': mock_img_trgt_data}\n",
        "\n",
        "# Initialize model\n",
        "filternet = FilterNet().to(device)\n",
        "\n",
        "# Test loss function\n",
        "out = filternet.loss(datapoint)\n",
        "out\n"
      ]
    },
    {
      "cell_type": "markdown",
      "metadata": {
        "id": "lV2i0n3x2Tke"
      },
      "source": [
        "### Traning Loop"
      ]
    },
    {
      "cell_type": "code",
      "execution_count": 10,
      "metadata": {
        "id": "-0Gjja0K2Tke"
      },
      "outputs": [
        {
          "name": "stderr",
          "output_type": "stream",
          "text": [
            "100%|██████████| 7/7 [00:00<00:00, 156.54it/s]\n"
          ]
        }
      ],
      "source": [
        "# Define training parameters\n",
        "num_epochs = 20 # originally 10\n",
        "num_workers = 4\n",
        "num_vids = 7 \n",
        "path_to_data = '/home/jrached/cv_project_code/project/data/filter_net/processed_flow'\n",
        "augmented = False\n",
        "batch_size = 32\n",
        "seq_length = 5\n",
        "img_size = 256\n",
        "\n",
        "\n",
        "# because mac :)\n",
        "# device = torch.device(\"mps\" if torch.backends.mps.is_available() else \"cpu\")\n",
        "\n",
        "\n",
        "# TODO: Split into train and val loader\n",
        "# deterministic split, same split across runs\n",
        "# generator = torch.Generator().manual_seed(42)\n",
        "# val_ratio = 0.2\n",
        "# val_size = int(len(dataset) * val_ratio)\n",
        "# train_size = len(dataset) - val_size\n",
        "# train_dataset, val_dataset = random_split(dataset, [train_size, val_size], generator=generator)\n",
        "\n",
        "\n",
        "dataset = VideoDataset(path_to_data, augmented=augmented, num_vids=num_vids, seq_length=seq_length, img_size=img_size)\n",
        "# loader = DataLoader(dataset, batch_size=batch_size, shuffle=True, num_workers=num_workers) #NOTE: num_workers is the number of extra processes running in parallel retrieving the data\n",
        "\n",
        "\n",
        "val_ratio = 0.2\n",
        "val_size = int(len(dataset) * val_ratio)\n",
        "train_size = len(dataset) - val_size\n",
        "\n",
        "train_dataset = torch.utils.data.Subset(dataset, list(range(train_size)))\n",
        "val_dataset = torch.utils.data.Subset(dataset, list(range(train_size, len(dataset))))\n",
        "\n",
        "train_loader = DataLoader(train_dataset, batch_size=batch_size, shuffle=True, num_workers=num_workers)\n",
        "val_loader = DataLoader(val_dataset, batch_size=batch_size, shuffle=False, num_workers=num_workers)\n",
        "\n",
        "# Initialize model\n",
        "model = FilterNet()\n",
        "model = model.to(device) # added\n",
        "\n",
        "# Initialize optimizer\n",
        "# optimizer = torch.optim.SGD(model.parameters(), lr=0.001, momentum=0.9)\n",
        "optimizer = torch.optim.Adam(model.parameters(), lr=0.001)\n",
        "\n",
        "# next(model.parameters()).device\n",
        "\n"
      ]
    },
    {
      "cell_type": "code",
      "execution_count": 11,
      "metadata": {
        "id": "3eeYzpF22Tkf"
      },
      "outputs": [
        {
          "name": "stdout",
          "output_type": "stream",
          "text": [
            "\n",
            "Epoch 1/20:\n"
          ]
        },
        {
          "name": "stderr",
          "output_type": "stream",
          "text": [
            "252it [01:10,  4.88it/s]"
          ]
        },
        {
          "name": "stdout",
          "output_type": "stream",
          "text": [
            " batch 250 loss: 0.7750804812908173\n",
            "Prediction logit mean: -2.551760673522949, std: 2.1811347007751465, and max: 0.36266574263572693 and min: -9.757091522216797\n"
          ]
        },
        {
          "name": "stderr",
          "output_type": "stream",
          "text": [
            "499it [02:17,  4.19it/s]"
          ]
        },
        {
          "name": "stdout",
          "output_type": "stream",
          "text": [
            " batch 500 loss: 0.7505554599761963\n",
            "Prediction logit mean: -1.366762399673462, std: 1.4455184936523438, and max: 0.5865656137466431 and min: -6.799800395965576\n"
          ]
        },
        {
          "name": "stderr",
          "output_type": "stream",
          "text": [
            "534it [02:27,  3.62it/s]"
          ]
        },
        {
          "name": "stdout",
          "output_type": "stream",
          "text": [
            "Epoch 1 average loss: 0.7617843933543016\n",
            "\n",
            "Epoch 2/20:\n"
          ]
        },
        {
          "name": "stderr",
          "output_type": "stream",
          "text": [
            "\n",
            "252it [01:09,  4.51it/s]"
          ]
        },
        {
          "name": "stdout",
          "output_type": "stream",
          "text": [
            " batch 250 loss: 0.7409167022705078\n",
            "Prediction logit mean: -4.3925395011901855, std: 4.0318379402160645, and max: 0.3221730589866638 and min: -22.923717498779297\n"
          ]
        },
        {
          "name": "stderr",
          "output_type": "stream",
          "text": [
            "501it [02:17,  4.39it/s]"
          ]
        },
        {
          "name": "stdout",
          "output_type": "stream",
          "text": [
            " batch 500 loss: 0.7458292829990387\n",
            "Prediction logit mean: -1.9926618337631226, std: 1.9833678007125854, and max: 0.46796292066574097 and min: -12.359663009643555\n"
          ]
        },
        {
          "name": "stderr",
          "output_type": "stream",
          "text": [
            "534it [02:26,  3.64it/s]"
          ]
        },
        {
          "name": "stdout",
          "output_type": "stream",
          "text": [
            "Epoch 2 average loss: 0.7439818405703212\n",
            "\n",
            "Epoch 3/20:\n"
          ]
        },
        {
          "name": "stderr",
          "output_type": "stream",
          "text": [
            "\n",
            "252it [01:06,  5.11it/s]"
          ]
        },
        {
          "name": "stdout",
          "output_type": "stream",
          "text": [
            " batch 250 loss: 0.7340734589099884\n",
            "Prediction logit mean: -3.092240810394287, std: 2.9642562866210938, and max: 0.4715183675289154 and min: -18.84823226928711\n"
          ]
        },
        {
          "name": "stderr",
          "output_type": "stream",
          "text": [
            "500it [02:10,  5.04it/s]"
          ]
        },
        {
          "name": "stdout",
          "output_type": "stream",
          "text": [
            " batch 500 loss: 0.7495084793567658\n",
            "Prediction logit mean: -2.3793935775756836, std: 2.447840690612793, and max: 0.4688340723514557 and min: -22.837806701660156\n"
          ]
        },
        {
          "name": "stderr",
          "output_type": "stream",
          "text": [
            "534it [02:18,  3.85it/s]"
          ]
        },
        {
          "name": "stdout",
          "output_type": "stream",
          "text": [
            "Epoch 3 average loss: 0.7425421988696195\n",
            "\n",
            "Epoch 4/20:\n"
          ]
        },
        {
          "name": "stderr",
          "output_type": "stream",
          "text": [
            "\n",
            "251it [01:04,  4.46it/s]"
          ]
        },
        {
          "name": "stdout",
          "output_type": "stream",
          "text": [
            " batch 250 loss: 0.7388618304729462\n",
            "Prediction logit mean: -2.2917251586914062, std: 2.3581924438476562, and max: 0.4209008812904358 and min: -20.83511734008789\n"
          ]
        },
        {
          "name": "stderr",
          "output_type": "stream",
          "text": [
            "499it [02:07,  4.38it/s]"
          ]
        },
        {
          "name": "stdout",
          "output_type": "stream",
          "text": [
            " batch 500 loss: 0.748351704120636\n",
            "Prediction logit mean: -1.9579261541366577, std: 2.088897705078125, and max: 0.5677011609077454 and min: -16.819496154785156\n"
          ]
        },
        {
          "name": "stderr",
          "output_type": "stream",
          "text": [
            "534it [02:16,  3.92it/s]"
          ]
        },
        {
          "name": "stdout",
          "output_type": "stream",
          "text": [
            "Epoch 4 average loss: 0.7436128096857321\n",
            "\n",
            "Epoch 5/20:\n"
          ]
        },
        {
          "name": "stderr",
          "output_type": "stream",
          "text": [
            "\n",
            "251it [01:04,  4.64it/s]"
          ]
        },
        {
          "name": "stdout",
          "output_type": "stream",
          "text": [
            " batch 250 loss: 0.7416084334850311\n",
            "Prediction logit mean: -2.472937822341919, std: 2.546835422515869, and max: 0.34800130128860474 and min: -21.28639793395996\n"
          ]
        },
        {
          "name": "stderr",
          "output_type": "stream",
          "text": [
            "499it [02:07,  4.53it/s]"
          ]
        },
        {
          "name": "stdout",
          "output_type": "stream",
          "text": [
            " batch 500 loss: 0.7390648701190948\n",
            "Prediction logit mean: -2.4510903358459473, std: 2.5890867710113525, and max: 0.4296339750289917 and min: -27.235315322875977\n"
          ]
        },
        {
          "name": "stderr",
          "output_type": "stream",
          "text": [
            "534it [02:16,  3.92it/s]"
          ]
        },
        {
          "name": "stdout",
          "output_type": "stream",
          "text": [
            "Epoch 5 average loss: 0.7415225635307112\n",
            "\n",
            "Epoch 6/20:\n"
          ]
        },
        {
          "name": "stderr",
          "output_type": "stream",
          "text": [
            "\n",
            "252it [01:04,  4.84it/s]"
          ]
        },
        {
          "name": "stdout",
          "output_type": "stream",
          "text": [
            " batch 250 loss: 0.746152048587799\n",
            "Prediction logit mean: -3.0050783157348633, std: 3.318223476409912, and max: 0.48890936374664307 and min: -25.806047439575195\n"
          ]
        },
        {
          "name": "stderr",
          "output_type": "stream",
          "text": [
            "500it [02:07,  4.86it/s]"
          ]
        },
        {
          "name": "stdout",
          "output_type": "stream",
          "text": [
            " batch 500 loss: 0.7304628748893738\n",
            "Prediction logit mean: -3.864285945892334, std: 4.0538859367370605, and max: 0.5656840801239014 and min: -27.013587951660156\n"
          ]
        },
        {
          "name": "stderr",
          "output_type": "stream",
          "text": [
            "534it [02:16,  3.91it/s]"
          ]
        },
        {
          "name": "stdout",
          "output_type": "stream",
          "text": [
            "Epoch 6 average loss: 0.7396023656321822\n",
            "\n",
            "Epoch 7/20:\n"
          ]
        },
        {
          "name": "stderr",
          "output_type": "stream",
          "text": [
            "\n",
            "251it [01:04,  4.41it/s]"
          ]
        },
        {
          "name": "stdout",
          "output_type": "stream",
          "text": [
            " batch 250 loss: 0.7395007510185242\n",
            "Prediction logit mean: -3.035454511642456, std: 3.2259585857391357, and max: 0.3945823907852173 and min: -29.144983291625977\n"
          ]
        },
        {
          "name": "stderr",
          "output_type": "stream",
          "text": [
            "499it [02:07,  4.51it/s]"
          ]
        },
        {
          "name": "stdout",
          "output_type": "stream",
          "text": [
            " batch 500 loss: 0.7421354987621307\n",
            "Prediction logit mean: -2.282585620880127, std: 2.593717336654663, and max: 0.5294204950332642 and min: -30.55156707763672\n"
          ]
        },
        {
          "name": "stderr",
          "output_type": "stream",
          "text": [
            "534it [02:16,  3.91it/s]"
          ]
        },
        {
          "name": "stdout",
          "output_type": "stream",
          "text": [
            "Epoch 7 average loss: 0.7400032809834355\n",
            "\n",
            "Epoch 8/20:\n"
          ]
        },
        {
          "name": "stderr",
          "output_type": "stream",
          "text": [
            "\n",
            "251it [01:04,  4.38it/s]"
          ]
        },
        {
          "name": "stdout",
          "output_type": "stream",
          "text": [
            " batch 250 loss: 0.7386190350055695\n",
            "Prediction logit mean: -3.0570526123046875, std: 3.399855136871338, and max: 0.4643218219280243 and min: -32.95263671875\n"
          ]
        },
        {
          "name": "stderr",
          "output_type": "stream",
          "text": [
            "499it [02:07,  4.47it/s]"
          ]
        },
        {
          "name": "stdout",
          "output_type": "stream",
          "text": [
            " batch 500 loss: 0.737599690914154\n",
            "Prediction logit mean: -2.6600379943847656, std: 3.015747547149658, and max: 0.35821348428726196 and min: -43.83805465698242\n"
          ]
        },
        {
          "name": "stderr",
          "output_type": "stream",
          "text": [
            "534it [02:16,  3.90it/s]"
          ]
        },
        {
          "name": "stdout",
          "output_type": "stream",
          "text": [
            "Epoch 8 average loss: 0.7397920781753483\n",
            "\n",
            "Epoch 9/20:\n"
          ]
        },
        {
          "name": "stderr",
          "output_type": "stream",
          "text": [
            "\n",
            "252it [01:04,  4.66it/s]"
          ]
        },
        {
          "name": "stdout",
          "output_type": "stream",
          "text": [
            " batch 250 loss: 0.7466070742607117\n",
            "Prediction logit mean: -2.247312307357788, std: 2.4677326679229736, and max: 0.3903816044330597 and min: -24.332462310791016\n"
          ]
        },
        {
          "name": "stderr",
          "output_type": "stream",
          "text": [
            "501it [02:07,  4.61it/s]"
          ]
        },
        {
          "name": "stdout",
          "output_type": "stream",
          "text": [
            " batch 500 loss: 0.7409083607196808\n",
            "Prediction logit mean: -2.9461934566497803, std: 3.501809597015381, and max: 0.5491703152656555 and min: -46.833457946777344\n"
          ]
        },
        {
          "name": "stderr",
          "output_type": "stream",
          "text": [
            "534it [02:16,  3.91it/s]"
          ]
        },
        {
          "name": "stdout",
          "output_type": "stream",
          "text": [
            "Epoch 9 average loss: 0.7404111331321773\n",
            "\n",
            "Epoch 10/20:\n"
          ]
        },
        {
          "name": "stderr",
          "output_type": "stream",
          "text": [
            "\n",
            "251it [01:03,  4.52it/s]"
          ]
        },
        {
          "name": "stdout",
          "output_type": "stream",
          "text": [
            " batch 250 loss: 0.7418511183261871\n",
            "Prediction logit mean: -2.463658571243286, std: 2.9754629135131836, and max: 0.4316895604133606 and min: -46.55290222167969\n"
          ]
        },
        {
          "name": "stderr",
          "output_type": "stream",
          "text": [
            "501it [02:07,  4.30it/s]"
          ]
        },
        {
          "name": "stdout",
          "output_type": "stream",
          "text": [
            " batch 500 loss: 0.7411021399497986\n",
            "Prediction logit mean: -3.011545419692993, std: 3.438321590423584, and max: 0.4746863842010498 and min: -41.0391845703125\n"
          ]
        },
        {
          "name": "stderr",
          "output_type": "stream",
          "text": [
            "534it [02:15,  3.93it/s]"
          ]
        },
        {
          "name": "stdout",
          "output_type": "stream",
          "text": [
            "Epoch 10 average loss: 0.7401885519759932\n",
            "\n",
            "Epoch 11/20:\n"
          ]
        },
        {
          "name": "stderr",
          "output_type": "stream",
          "text": [
            "\n",
            "252it [01:04,  4.82it/s]"
          ]
        },
        {
          "name": "stdout",
          "output_type": "stream",
          "text": [
            " batch 250 loss: 0.7471270649433136\n",
            "Prediction logit mean: -2.1488442420959473, std: 2.4530556201934814, and max: 0.466234028339386 and min: -27.649700164794922\n"
          ]
        },
        {
          "name": "stderr",
          "output_type": "stream",
          "text": [
            "500it [02:07,  4.34it/s]"
          ]
        },
        {
          "name": "stdout",
          "output_type": "stream",
          "text": [
            " batch 500 loss: 0.7367767362594605\n",
            "Prediction logit mean: -2.8808107376098633, std: 3.308947801589966, and max: 0.46464478969573975 and min: -38.44544219970703\n"
          ]
        },
        {
          "name": "stderr",
          "output_type": "stream",
          "text": [
            "534it [02:16,  3.91it/s]"
          ]
        },
        {
          "name": "stdout",
          "output_type": "stream",
          "text": [
            "Epoch 11 average loss: 0.7408387321657902\n",
            "\n",
            "Epoch 12/20:\n"
          ]
        },
        {
          "name": "stderr",
          "output_type": "stream",
          "text": [
            "\n",
            "251it [01:04,  4.50it/s]"
          ]
        },
        {
          "name": "stdout",
          "output_type": "stream",
          "text": [
            " batch 250 loss: 0.7466097712516785\n",
            "Prediction logit mean: -2.361677646636963, std: 2.687225341796875, and max: 0.39111757278442383 and min: -30.75983238220215\n"
          ]
        },
        {
          "name": "stderr",
          "output_type": "stream",
          "text": [
            "499it [02:07,  4.39it/s]"
          ]
        },
        {
          "name": "stdout",
          "output_type": "stream",
          "text": [
            " batch 500 loss: 0.733582787513733\n",
            "Prediction logit mean: -2.467118501663208, std: 3.019090175628662, and max: 0.47495225071907043 and min: -51.372623443603516\n"
          ]
        },
        {
          "name": "stderr",
          "output_type": "stream",
          "text": [
            "534it [02:16,  3.91it/s]"
          ]
        },
        {
          "name": "stdout",
          "output_type": "stream",
          "text": [
            "Epoch 12 average loss: 0.7400104449259655\n",
            "\n",
            "Epoch 13/20:\n"
          ]
        },
        {
          "name": "stderr",
          "output_type": "stream",
          "text": [
            "\n",
            "251it [01:04,  4.50it/s]"
          ]
        },
        {
          "name": "stdout",
          "output_type": "stream",
          "text": [
            " batch 250 loss: 0.7404357523918151\n",
            "Prediction logit mean: -2.068279266357422, std: 2.415431499481201, and max: 0.4710823595523834 and min: -27.423992156982422\n"
          ]
        },
        {
          "name": "stderr",
          "output_type": "stream",
          "text": [
            "499it [02:07,  4.14it/s]"
          ]
        },
        {
          "name": "stdout",
          "output_type": "stream",
          "text": [
            " batch 500 loss: 0.7407435441017151\n",
            "Prediction logit mean: -3.143397092819214, std: 3.7161760330200195, and max: 0.4256148040294647 and min: -52.090755462646484\n"
          ]
        },
        {
          "name": "stderr",
          "output_type": "stream",
          "text": [
            "534it [02:16,  3.91it/s]"
          ]
        },
        {
          "name": "stdout",
          "output_type": "stream",
          "text": [
            "Epoch 13 average loss: 0.7399370394619217\n",
            "\n",
            "Epoch 14/20:\n"
          ]
        },
        {
          "name": "stderr",
          "output_type": "stream",
          "text": [
            "\n",
            "251it [01:04,  4.54it/s]"
          ]
        },
        {
          "name": "stdout",
          "output_type": "stream",
          "text": [
            " batch 250 loss: 0.740230917930603\n",
            "Prediction logit mean: -3.4103636741638184, std: 4.323050498962402, and max: 0.3992721438407898 and min: -82.32109069824219\n"
          ]
        },
        {
          "name": "stderr",
          "output_type": "stream",
          "text": [
            "500it [02:07,  5.04it/s]"
          ]
        },
        {
          "name": "stdout",
          "output_type": "stream",
          "text": [
            " batch 500 loss: 0.7399275624752044\n",
            "Prediction logit mean: -3.324465036392212, std: 4.06285285949707, and max: 0.5452691316604614 and min: -56.493865966796875\n"
          ]
        },
        {
          "name": "stderr",
          "output_type": "stream",
          "text": [
            "534it [02:16,  3.91it/s]"
          ]
        },
        {
          "name": "stdout",
          "output_type": "stream",
          "text": [
            "Epoch 14 average loss: 0.7398225724250637\n",
            "\n",
            "Epoch 15/20:\n"
          ]
        },
        {
          "name": "stderr",
          "output_type": "stream",
          "text": [
            "\n",
            "251it [01:04,  4.55it/s]"
          ]
        },
        {
          "name": "stdout",
          "output_type": "stream",
          "text": [
            " batch 250 loss: 0.746850855588913\n",
            "Prediction logit mean: -1.8657211065292358, std: 2.26387882232666, and max: 0.4891168177127838 and min: -32.29911804199219\n"
          ]
        },
        {
          "name": "stderr",
          "output_type": "stream",
          "text": [
            "499it [02:07,  4.42it/s]"
          ]
        },
        {
          "name": "stdout",
          "output_type": "stream",
          "text": [
            " batch 500 loss: 0.7303875589370727\n",
            "Prediction logit mean: -3.9675064086914062, std: 4.764746189117432, and max: 0.4699082374572754 and min: -56.3201789855957\n"
          ]
        },
        {
          "name": "stderr",
          "output_type": "stream",
          "text": [
            "534it [02:16,  3.91it/s]"
          ]
        },
        {
          "name": "stdout",
          "output_type": "stream",
          "text": [
            "Epoch 15 average loss: 0.7401281490308068\n",
            "\n",
            "Epoch 16/20:\n"
          ]
        },
        {
          "name": "stderr",
          "output_type": "stream",
          "text": [
            "\n",
            "252it [01:04,  5.04it/s]"
          ]
        },
        {
          "name": "stdout",
          "output_type": "stream",
          "text": [
            " batch 250 loss: 0.7336280014514923\n",
            "Prediction logit mean: -3.1671409606933594, std: 4.272058486938477, and max: 0.5033861398696899 and min: -86.87133026123047\n"
          ]
        },
        {
          "name": "stderr",
          "output_type": "stream",
          "text": [
            "500it [02:07,  4.76it/s]"
          ]
        },
        {
          "name": "stdout",
          "output_type": "stream",
          "text": [
            " batch 500 loss: 0.7479534032344818\n",
            "Prediction logit mean: -3.641974925994873, std: 4.359054088592529, and max: 0.4155735969543457 and min: -53.24315643310547\n"
          ]
        },
        {
          "name": "stderr",
          "output_type": "stream",
          "text": [
            "534it [02:16,  3.91it/s]"
          ]
        },
        {
          "name": "stdout",
          "output_type": "stream",
          "text": [
            "Epoch 16 average loss: 0.7396924550390422\n",
            "\n",
            "Epoch 17/20:\n"
          ]
        },
        {
          "name": "stderr",
          "output_type": "stream",
          "text": [
            "\n",
            "252it [01:04,  5.05it/s]"
          ]
        },
        {
          "name": "stdout",
          "output_type": "stream",
          "text": [
            " batch 250 loss: 0.737912796497345\n",
            "Prediction logit mean: -3.5804061889648438, std: 4.393545150756836, and max: 0.40347763895988464 and min: -66.21246337890625\n"
          ]
        },
        {
          "name": "stderr",
          "output_type": "stream",
          "text": [
            "499it [02:07,  3.98it/s]"
          ]
        },
        {
          "name": "stdout",
          "output_type": "stream",
          "text": [
            " batch 500 loss: 0.7436918287277222\n",
            "Prediction logit mean: -2.746464252471924, std: 3.4091639518737793, and max: 0.3913685977458954 and min: -53.39680480957031\n"
          ]
        },
        {
          "name": "stderr",
          "output_type": "stream",
          "text": [
            "534it [02:16,  3.91it/s]"
          ]
        },
        {
          "name": "stdout",
          "output_type": "stream",
          "text": [
            "Epoch 17 average loss: 0.7410391688570102\n",
            "\n",
            "Epoch 18/20:\n"
          ]
        },
        {
          "name": "stderr",
          "output_type": "stream",
          "text": [
            "\n",
            "252it [01:04,  4.69it/s]"
          ]
        },
        {
          "name": "stdout",
          "output_type": "stream",
          "text": [
            " batch 250 loss: 0.7369618434906006\n",
            "Prediction logit mean: -3.2006828784942627, std: 4.229628562927246, and max: 0.4447501003742218 and min: -77.38963317871094\n"
          ]
        },
        {
          "name": "stderr",
          "output_type": "stream",
          "text": [
            "500it [02:07,  4.55it/s]"
          ]
        },
        {
          "name": "stdout",
          "output_type": "stream",
          "text": [
            " batch 500 loss: 0.7395478293895722\n",
            "Prediction logit mean: -2.158026933670044, std: 2.648453950881958, and max: 0.3385047912597656 and min: -39.98816680908203\n"
          ]
        },
        {
          "name": "stderr",
          "output_type": "stream",
          "text": [
            "534it [02:16,  3.92it/s]"
          ]
        },
        {
          "name": "stdout",
          "output_type": "stream",
          "text": [
            "Epoch 18 average loss: 0.7404314511724179\n",
            "\n",
            "Epoch 19/20:\n"
          ]
        },
        {
          "name": "stderr",
          "output_type": "stream",
          "text": [
            "\n",
            "251it [01:04,  4.45it/s]"
          ]
        },
        {
          "name": "stdout",
          "output_type": "stream",
          "text": [
            " batch 250 loss: 0.7345132703781128\n",
            "Prediction logit mean: -2.4438672065734863, std: 3.3262007236480713, and max: 0.4296489953994751 and min: -68.94766998291016\n"
          ]
        },
        {
          "name": "stderr",
          "output_type": "stream",
          "text": [
            "500it [02:07,  5.13it/s]"
          ]
        },
        {
          "name": "stdout",
          "output_type": "stream",
          "text": [
            " batch 500 loss: 0.7421086761951446\n",
            "Prediction logit mean: -3.584862470626831, std: 4.617984294891357, and max: 0.34310710430145264 and min: -68.03157806396484\n"
          ]
        },
        {
          "name": "stderr",
          "output_type": "stream",
          "text": [
            "534it [02:16,  3.90it/s]"
          ]
        },
        {
          "name": "stdout",
          "output_type": "stream",
          "text": [
            "Epoch 19 average loss: 0.7392076472664594\n",
            "\n",
            "Epoch 20/20:\n"
          ]
        },
        {
          "name": "stderr",
          "output_type": "stream",
          "text": [
            "\n",
            "251it [01:04,  4.41it/s]"
          ]
        },
        {
          "name": "stdout",
          "output_type": "stream",
          "text": [
            " batch 250 loss: 0.7416106667518616\n",
            "Prediction logit mean: -3.3046271800994873, std: 4.418453693389893, and max: 0.39336520433425903 and min: -77.42090606689453\n"
          ]
        },
        {
          "name": "stderr",
          "output_type": "stream",
          "text": [
            "500it [02:07,  4.76it/s]"
          ]
        },
        {
          "name": "stdout",
          "output_type": "stream",
          "text": [
            " batch 500 loss: 0.742930638551712\n",
            "Prediction logit mean: -2.8402111530303955, std: 3.6115260124206543, and max: 0.30450576543807983 and min: -57.472999572753906\n"
          ]
        },
        {
          "name": "stderr",
          "output_type": "stream",
          "text": [
            "534it [02:16,  3.91it/s]"
          ]
        },
        {
          "name": "stdout",
          "output_type": "stream",
          "text": [
            "Epoch 20 average loss: 0.7402518189578468\n"
          ]
        },
        {
          "name": "stderr",
          "output_type": "stream",
          "text": [
            "\n"
          ]
        }
      ],
      "source": [
        "# Training loop\n",
        "import torchvision \n",
        "for epoch in range(num_epochs):\n",
        "    running_loss, last_loss = 0, 0\n",
        "    num_batches, epoch_loss = 0, 0\n",
        "    print(f'\\nEpoch {epoch + 1}/{num_epochs}:')\n",
        "    for i, sequence in tqdm(enumerate(train_loader)):\n",
        "\n",
        "        # Move data to device\n",
        "        frames, state = sequence['input']\n",
        "        out_frame = sequence['target']\n",
        "\n",
        "        # NOTE: Temp: mask out the sequences with no foreground #TODO remove if no improvement\n",
        "        B, T, C, H, W = frames.shape\n",
        "        nonzero_mask = frames.view(B, -1).any(dim=1)\n",
        "        frames = frames[nonzero_mask]\n",
        "        out_frame = out_frame[nonzero_mask] \n",
        "        state = state[nonzero_mask]\n",
        "\n",
        "        sequence['input'] = (frames.to(device), state.to(device))\n",
        "        sequence['target'] = out_frame.to(device)\n",
        "\n",
        "        # Zero gradients for every batch\n",
        "        optimizer.zero_grad()\n",
        "\n",
        "        # Compute the loss and its gradients\n",
        "        loss, pred  = model.loss(sequence)\n",
        "        loss.backward()\n",
        "\n",
        "        # Adjust learning weights\n",
        "        optimizer.step()\n",
        "\n",
        "        # print(pred.mean().item(), pred.std().item())\n",
        "        # Gather data and report\n",
        "        running_loss += loss.item()\n",
        "        if i % 250 == 249: # report loss every 1000 batches\n",
        "            last_loss = running_loss / 250 # loss per batch\n",
        "            print(' batch {} loss: {}'.format(i + 1, last_loss))\n",
        "            running_loss = 0\n",
        "            with torch.no_grad():\n",
        "                print(f'Prediction logit mean: {pred.mean().item()}, std: {pred.std().item()}, and max: {pred.max().item()} and min: {pred.min().item()}')\n",
        "        \n",
        "\n",
        "        # Update counters for average epoch loss\n",
        "        epoch_loss += loss.item()\n",
        "        num_batches += 1 # changed from num_epochs to num_batches\n",
        "\n",
        "    print(f'Epoch {epoch + 1} average loss: {epoch_loss / num_batches}') # changed from num_epochs to num_batches\n"
      ]
    },
    {
      "cell_type": "markdown",
      "metadata": {
        "id": "-dz8ehjK2Tkf"
      },
      "source": [
        "### Testing:\n"
      ]
    },
    {
      "cell_type": "markdown",
      "metadata": {},
      "source": [
        "#### Testing model "
      ]
    },
    {
      "cell_type": "code",
      "execution_count": 12,
      "metadata": {},
      "outputs": [],
      "source": [
        "# Reimplemnt pose matrix to vector >:(\n",
        "\n",
        "def pose_vector_from_matrix(pose, seq_length):\n",
        "    \"\"\"\n",
        "    Convert 4x4 pose matrix (as a flattenned length 16 vector) into a position and quaternion length 7 vector.\n",
        "    \"\"\"\n",
        "    pose = pose.reshape(seq_length, 4, 4)\n",
        "    position = pose[:, :3, 3].reshape(seq_length, 3)\n",
        "    orientation = pose[:, :3, :3]\n",
        "\n",
        "    quat = R.from_matrix(orientation).as_quat().reshape(seq_length, 4)\n",
        "    norm_quat = quat / np.linalg.norm(quat)\n",
        "\n",
        "    return np.hstack((position, norm_quat))"
      ]
    },
    {
      "cell_type": "code",
      "execution_count": 25,
      "metadata": {},
      "outputs": [],
      "source": [
        "# Load noisy sequence \n",
        "path_to_sequence = '~/cv_project_code/project/data/filter_net/processed_flow/test3/inputs'\n",
        "sequence_start = 1500 #2559\n",
        "sequence = torch.zeros((seq_length, 1, 480, 848))\n",
        "\n",
        "for i in range(seq_length): \n",
        "    idx = sequence_start + i \n",
        "    img = io.imread(os.path.join(path_to_sequence, f'frame{idx:05d}.png'))\n",
        "    img = torch.from_numpy((img[..., 0] > 127).astype(np.float32))\n",
        "    sequence[i] = img \n",
        "\n",
        "transform = transforms.Resize((256, 256)) \n",
        "sequence = transform(sequence) \n",
        "sequence = sequence.unsqueeze(0).float() # Add batch dimension \n",
        "\n",
        "\n",
        "# Load pose and twist \n",
        "pose = pd.read_csv(os.path.join(path_to_sequence, 'bd_poses.csv')).to_numpy()[sequence_start:sequence_start + seq_length, :]\n",
        "pose = pose_vector_from_matrix(pose, seq_length)\n",
        "twist = pd.read_csv(os.path.join(path_to_sequence, 'bd_twists.csv')).to_numpy()[sequence_start:sequence_start + seq_length, :]\n",
        "state = torch.from_numpy(np.hstack((pose, twist)))\n",
        "state = state.unsqueeze(0).float() # Add batch dimension \n",
        "\n",
        "# Make dummy output \n",
        "out_seq = torch.zeros_like(sequence) \n",
        "\n",
        "# Build input dict \n",
        "datapoint = {'input': (sequence.to(device), state.to(device)), 'target': out_seq.to(device)} \n",
        "\n",
        "# Save og image for plotting \n",
        "og_image = sequence[0, -1, 0, :, :].detach().numpy().copy()\n",
        "target = out_seq[0, -1, 0, :, :].detach().numpy().copy()\n"
      ]
    },
    {
      "cell_type": "code",
      "execution_count": 26,
      "metadata": {},
      "outputs": [],
      "source": [
        "# Test model \n",
        "model.eval() \n",
        "_, pred_frame = model.loss(datapoint)\n",
        "\n"
      ]
    },
    {
      "cell_type": "code",
      "execution_count": 27,
      "metadata": {},
      "outputs": [
        {
          "data": {
            "text/plain": [
              "<matplotlib.image.AxesImage at 0x7d6a6c696bf0>"
            ]
          },
          "execution_count": 27,
          "metadata": {},
          "output_type": "execute_result"
        },
        {
          "data": {
            "image/png": "[encoded data removed]",
            "text/plain": [
              "<Figure size 640x480 with 1 Axes>"
            ]
          },
          "metadata": {},
          "output_type": "display_data"
        }
      ],
      "source": [
        "# Plot output frame \n",
        "plt.imshow(og_image)"
      ]
    },
    {
      "cell_type": "code",
      "execution_count": 28,
      "metadata": {},
      "outputs": [
        {
          "data": {
            "text/plain": [
              "tensor(0.5869, device='cuda:0', grad_fn=<MaxBackward1>)"
            ]
          },
          "execution_count": 28,
          "metadata": {},
          "output_type": "execute_result"
        },
        {
          "data": {
            "image/png": "[encoded data removed]",
            "text/plain": [
              "<Figure size 640x480 with 1 Axes>"
            ]
          },
          "metadata": {},
          "output_type": "display_data"
        }
      ],
      "source": [
        "prob_pred_frame = torch.sigmoid(pred_frame)\n",
        "out = (prob_pred_frame > 0.1).to(torch.float32) \n",
        "plt.imshow(out[0, 0, :, :].cpu().detach().numpy())\n",
        "out.max()\n",
        "prob_pred_frame.max()"
      ]
    },
    {
      "cell_type": "code",
      "execution_count": 17,
      "metadata": {},
      "outputs": [
        {
          "data": {
            "text/plain": [
              "<matplotlib.image.AxesImage at 0x7d6a6ca9c700>"
            ]
          },
          "execution_count": 17,
          "metadata": {},
          "output_type": "execute_result"
        },
        {
          "data": {
            "image/png": "[encoded data removed]",
            "text/plain": [
              "<Figure size 640x480 with 1 Axes>"
            ]
          },
          "metadata": {},
          "output_type": "display_data"
        }
      ],
      "source": [
        "# Actual gt \n",
        "path_to_sequence = '~/cv_project_code/project/data/filter_net/processed_flow/test3/targets'\n",
        "idx = sequence_start + 4\n",
        "img = io.imread(os.path.join(path_to_sequence, f'frame{idx:05d}.png'))\n",
        "plt.imshow(img)"
      ]
    },
    {
      "cell_type": "code",
      "execution_count": 18,
      "metadata": {},
      "outputs": [
        {
          "data": {
            "text/plain": [
              "<matplotlib.image.AxesImage at 0x7d6a6cb2ee30>"
            ]
          },
          "execution_count": 18,
          "metadata": {},
          "output_type": "execute_result"
        },
        {
          "data": {
            "image/png": "[encoded data removed]",
            "text/plain": [
              "<Figure size 640x480 with 1 Axes>"
            ]
          },
          "metadata": {},
          "output_type": "display_data"
        }
      ],
      "source": [
        "# Actual gt \n",
        "path_to_sequence = '~/cv_project_code/project/data/filter_net/processed_flow/test1/inputs'\n",
        "sequence_start = 1500\n",
        "idx = sequence_start + 4\n",
        "img = io.imread(os.path.join(path_to_sequence, f'frame{idx:05d}.png'))\n",
        "plt.imshow(img)"
      ]
    },
    {
      "cell_type": "code",
      "execution_count": 19,
      "metadata": {},
      "outputs": [
        {
          "data": {
            "text/plain": [
              "<matplotlib.image.AxesImage at 0x7d6a679a6f50>"
            ]
          },
          "execution_count": 19,
          "metadata": {},
          "output_type": "execute_result"
        },
        {
          "data": {
            "image/png": "[encoded data removed]",
            "text/plain": [
              "<Figure size 640x480 with 1 Axes>"
            ]
          },
          "metadata": {},
          "output_type": "display_data"
        }
      ],
      "source": [
        "# Actual gt \n",
        "path_to_sequence = '~/cv_project_code/project/data/filter_net/processed_flow/test1/targets'\n",
        "idx = sequence_start + 4\n",
        "img = io.imread(os.path.join(path_to_sequence, f'frame{idx:05d}.png'))\n",
        "plt.imshow(img)"
      ]
    },
    {
      "cell_type": "markdown",
      "metadata": {},
      "source": [
        "#### Testing dataloader"
      ]
    },
    {
      "cell_type": "code",
      "execution_count": 20,
      "metadata": {
        "id": "nZa-MdYC2Tkf",
        "outputId": "eb6f4cf0-79a1-401b-aa9e-35896221207f"
      },
      "outputs": [
        {
          "name": "stderr",
          "output_type": "stream",
          "text": [
            "100%|██████████| 7/7 [00:00<00:00, 169.65it/s]\n"
          ]
        }
      ],
      "source": [
        "batch_size = 1\n",
        "dataset = VideoDataset(path_to_data, augmented=augmented, num_vids=7, seq_length=seq_length, img_size=img_size)\n",
        "loader = DataLoader(dataset, batch_size=batch_size, shuffle=True, num_workers=0) #NOTE: num_workers is the number of extra processes running in parallel retrieving the data\n",
        "counter = 0\n",
        "for datapoint in loader:\n",
        "    # found_one = False\n",
        "    # features = datapoint['input']\n",
        "    # labels = datapoint['target']\n",
        "    if counter > 1:\n",
        "        break\n",
        "    counter += 1\n",
        "    # for i in range(batch_size):\n",
        "    #     image = features[0][i]\n",
        "    #     if counter > 1502:\n",
        "    #         found_one = True\n",
        "    #         break\n",
        "    #     counter += 1\n",
        "\n",
        "    # if found_one:\n",
        "    #     break\n",
        "\n",
        "# counter\n",
        "# len(datapoint)\n",
        "in_frame = datapoint['input'][0][0, -1, 0, :, :]\n",
        "out_frame = datapoint['target'][0, -1, 0, :, :]\n",
        "# datapoint['input'][:, 0, :, :, :, 1]\n",
        "# counter"
      ]
    },
    {
      "cell_type": "code",
      "execution_count": null,
      "metadata": {},
      "outputs": [],
      "source": [
        "# Use transforms to resize images\n",
        "# This is an example, but it must actually be performed before feeding image data to encoder\n",
        "# For the augmented tensor the image is already resized inside the dataloader\n",
        "\n",
        "sequence = next(iter(loader))\n",
        "if augmented:\n",
        "    input, target = sequence['input'], sequence['target']\n",
        "    print(f'Tensor shape should be: [{batch_size, seq_length, 1, img_size, img_size, 14}] and is: {input.shape}')\n",
        "else:\n",
        "\n",
        "    features = sequence\n",
        "    image = features['input'][0]\n",
        "    input, target = features['input'], features['target']\n",
        "    print(f'\\nBatched image shape should be: [{batch_size, seq_length, 1, img_size, img_size}] and is: {image.shape}')\n"
      ]
    },
    {
      "cell_type": "code",
      "execution_count": null,
      "metadata": {
        "id": "mRfSgW0p2Tkf"
      },
      "outputs": [
        {
          "name": "stdout",
          "output_type": "stream",
          "text": [
            "tensor(1.0000)\n"
          ]
        },
        {
          "data": {
            "text/plain": [
              "<matplotlib.image.AxesImage at 0x7aa500335930>"
            ]
          },
          "execution_count": 77,
          "metadata": {},
          "output_type": "execute_result"
        },
        {
          "data": {
            "image/png": "[encoded data removed]",
            "text/plain": [
              "<Figure size 640x480 with 1 Axes>"
            ]
          },
          "metadata": {},
          "output_type": "display_data"
        }
      ],
      "source": [
        "print(in_frame.max())\n",
        "plt.imshow(in_frame)"
      ]
    },
    {
      "cell_type": "code",
      "execution_count": null,
      "metadata": {},
      "outputs": [
        {
          "name": "stdout",
          "output_type": "stream",
          "text": [
            "tensor(1.0000)\n"
          ]
        },
        {
          "data": {
            "text/plain": [
              "<matplotlib.image.AxesImage at 0x7aa59c39a800>"
            ]
          },
          "execution_count": 76,
          "metadata": {},
          "output_type": "execute_result"
        },
        {
          "data": {
            "image/png": "[encoded data removed]",
            "text/plain": [
              "<Figure size 640x480 with 1 Axes>"
            ]
          },
          "metadata": {},
          "output_type": "display_data"
        }
      ],
      "source": [
        "print(out_frame.max())\n",
        "plt.imshow(out_frame)"
      ]
    },
    {
      "cell_type": "code",
      "execution_count": null,
      "metadata": {
        "id": "P0SzUPJU2Tkf",
        "outputId": "398eee74-d583-4ca5-8102-93dd9065eb11"
      },
      "outputs": [
        {
          "data": {
            "text/plain": [
              "1503"
            ]
          },
          "execution_count": 73,
          "metadata": {},
          "output_type": "execute_result"
        }
      ],
      "source": [
        "features[0].shape\n",
        "counter"
      ]
    },
    {
      "cell_type": "code",
      "execution_count": null,
      "metadata": {
        "id": "aOc07DAT2Tkf",
        "outputId": "c0f6ffe5-c145-41f9-887f-a9beb2d83470"
      },
      "outputs": [
        {
          "data": {
            "text/plain": [
              "tensor([-1.3603,  0.6753,  2.2040,  0.0300,  0.0131,  0.1257,  0.9915])"
            ]
          },
          "execution_count": 74,
          "metadata": {},
          "output_type": "execute_result"
        }
      ],
      "source": [
        "pose = features[1]\n",
        "pose[28]"
      ]
    },
    {
      "cell_type": "markdown",
      "metadata": {
        "id": "ZOc_mFio2Tkf"
      },
      "source": [
        "#### Testing interpolated twist"
      ]
    },
    {
      "cell_type": "code",
      "execution_count": null,
      "metadata": {
        "id": "UdtoDN912Tkf",
        "outputId": "e0f2c3c1-f8df-4d04-c59c-d542ce8d9397"
      },
      "outputs": [
        {
          "data": {
            "image/png": "[encoded data removed]",
            "text/plain": [
              "<Figure size 640x480 with 1 Axes>"
            ]
          },
          "metadata": {},
          "output_type": "display_data"
        }
      ],
      "source": [
        "features[1]\n",
        "twist = features[2]\n",
        "\n",
        "plt.plot(pose[:, 0])\n",
        "plt.plot(twist[:, 0])\n",
        "plt.legend([\"pos_x\", \"vel_x\"])\n",
        "plt.show()"
      ]
    },
    {
      "cell_type": "code",
      "execution_count": null,
      "metadata": {
        "id": "2fOHwKEl2Tkg",
        "outputId": "fdf4a3a1-9715-43b8-b655-d393fb342bad"
      },
      "outputs": [
        {
          "data": {
            "text/plain": [
              "<matplotlib.image.AxesImage at 0x7aa6d1ed3190>"
            ]
          },
          "execution_count": 67,
          "metadata": {},
          "output_type": "execute_result"
        },
        {
          "data": {
            "image/png": "[encoded data removed]",
            "text/plain": [
              "<Figure size 640x480 with 1 Axes>"
            ]
          },
          "metadata": {},
          "output_type": "display_data"
        }
      ],
      "source": [
        "image = features[0][28]\n",
        "image.max()\n",
        "plt.imshow(image)"
      ]
    },
    {
      "cell_type": "code",
      "execution_count": null,
      "metadata": {
        "id": "okyO-UJw2Tkg",
        "outputId": "efe99c9b-9cf0-48c0-d2fd-800bf73fb1ff"
      },
      "outputs": [
        {
          "data": {
            "text/plain": [
              "torch.Size([32, 256, 256])"
            ]
          },
          "execution_count": 43,
          "metadata": {},
          "output_type": "execute_result"
        }
      ],
      "source": []
    }
  ],
  "metadata": {
    "colab": {
      "provenance": []
    },
    "kernelspec": {
      "display_name": "rdp_venv",
      "language": "python",
      "name": "python3"
    },
    "language_info": {
      "codemirror_mode": {
        "name": "ipython",
        "version": 3
      },
      "file_extension": ".py",
      "mimetype": "text/x-python",
      "name": "python",
      "nbconvert_exporter": "python",
      "pygments_lexer": "ipython3",
      "version": "3.10.12"
    }
  },
  "nbformat": 4,
  "nbformat_minor": 0
}
